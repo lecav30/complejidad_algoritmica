{
  "nbformat": 4,
  "nbformat_minor": 0,
  "metadata": {
    "colab": {
      "provenance": []
    },
    "kernelspec": {
      "name": "python3",
      "display_name": "Python 3"
    },
    "language_info": {
      "name": "python"
    }
  },
  "cells": [
    {
      "cell_type": "code",
      "execution_count": 2,
      "metadata": {
        "id": "iyvRwOI7wPzU"
      },
      "outputs": [],
      "source": [
        "# P1\n",
        "def doble_suma(n):\n",
        "    if (n == 1):\n",
        "        return 2\n",
        "    else:\n",
        "        return 2 * n + doble_suma(n - 1)\n"
      ]
    },
    {
      "cell_type": "code",
      "source": [
        "print(doble_suma(4))"
      ],
      "metadata": {
        "colab": {
          "base_uri": "https://localhost:8080/"
        },
        "id": "oiRqK3ok34MY",
        "outputId": "6ba3764c-704c-4b5e-aec1-13d9d688499f"
      },
      "execution_count": 3,
      "outputs": [
        {
          "output_type": "stream",
          "name": "stdout",
          "text": [
            "20\n"
          ]
        }
      ]
    },
    {
      "cell_type": "code",
      "execution_count": 4,
      "metadata": {
        "id": "JyLwAAha4F1d"
      },
      "outputs": [],
      "source": [
        "# P2\n",
        "def revierte_cadena(cadena):\n",
        "    if (len(cadena) == 1):\n",
        "        return cadena\n",
        "    else:\n",
        "        return cadena[len(cadena) - 1] + revierte_cadena(cadena[:-1])\n"
      ]
    },
    {
      "cell_type": "code",
      "source": [
        "cadena = \"Hola!\"\n",
        "print(revierte_cadena(cadena))"
      ],
      "metadata": {
        "colab": {
          "base_uri": "https://localhost:8080/"
        },
        "id": "niIfFBOz43a5",
        "outputId": "c2ea3550-26dd-43e7-bdce-77681e31a683"
      },
      "execution_count": 5,
      "outputs": [
        {
          "output_type": "stream",
          "name": "stdout",
          "text": [
            "!aloH\n"
          ]
        }
      ]
    },
    {
      "cell_type": "code",
      "source": [
        "# P3\n",
        "def descifrar(cadena):\n",
        "    for i in range(len(cadena)):\n",
        "        print(cadena[:i + 1])\n"
      ],
      "metadata": {
        "id": "NQ1NgyfS6le_"
      },
      "execution_count": 6,
      "outputs": []
    },
    {
      "cell_type": "code",
      "source": [
        "cadena = \"oculto/123\"\n",
        "descifrar(cadena)"
      ],
      "metadata": {
        "colab": {
          "base_uri": "https://localhost:8080/"
        },
        "id": "ZqZ54rWU9C9I",
        "outputId": "04e7a052-2753-44af-8eda-d5c5a324a5a2"
      },
      "execution_count": 7,
      "outputs": [
        {
          "output_type": "stream",
          "name": "stdout",
          "text": [
            "o\n",
            "oc\n",
            "ocu\n",
            "ocul\n",
            "ocult\n",
            "oculto\n",
            "oculto/\n",
            "oculto/1\n",
            "oculto/12\n",
            "oculto/123\n"
          ]
        }
      ]
    },
    {
      "cell_type": "markdown",
      "source": [
        "# Técnica utilizada:\n",
        "**Fuerza Bruta**\n",
        "# Explicación:\n",
        "*El ejercicio expone que la cantidad máxima de elementos es 10. Entonces al ser una cantidad tan pequeña usar Fuerza Bruta no será ineficiente, incluso será más sencillo. Debido a que, las combinaciones realizadas, no son más que los caracteres que forman la cadena. Solo se debe iterar para poder imprimir dichos caracteres*"
      ],
      "metadata": {
        "id": "kJX-8Jqk-3nm"
      }
    }
  ]
}