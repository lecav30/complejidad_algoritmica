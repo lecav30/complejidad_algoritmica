{
  "nbformat": 4,
  "nbformat_minor": 0,
  "metadata": {
    "colab": {
      "provenance": []
    },
    "kernelspec": {
      "name": "python3",
      "display_name": "Python 3"
    },
    "language_info": {
      "name": "python"
    }
  },
  "cells": [
    {
      "cell_type": "markdown",
      "source": [
        "(a) Funcion llamada contador_palabras que reciba tres parametros: un arreglo de palabras, la posicion inicial, y final. La funcion debera retornar el numero de palabras del arreglo.\n"
      ],
      "metadata": {
        "id": "JCzY2ujF8AJd"
      }
    },
    {
      "cell_type": "code",
      "execution_count": 4,
      "metadata": {
        "colab": {
          "base_uri": "https://localhost:8080/",
          "height": 0
        },
        "id": "gdd95tng5Xt3",
        "outputId": "87b09287-b6bf-4491-8bef-53ab3d6dfae7"
      },
      "outputs": [
        {
          "output_type": "stream",
          "name": "stdout",
          "text": [
            "34\n"
          ]
        }
      ],
      "source": [
        "texto = \"Lorem ipsum dolor sit amet, consectetur adipiscing elit. Nam arcu arcu, euismod mollis rhoncus quis, egestas at leo. Maecenas luctus neque nulla, vel imperdiet lacus ultrices vel. Mauris eget eros vel lacus molestie blandit.\"\n",
        "\n",
        "texto = texto.replace(\",\", \"\")\n",
        "texto = texto.replace(\".\", \"\")\n",
        "texto = texto.replace('\"', \"\")\n",
        "arreglo = texto.split()\n",
        "# print(len(arreglo))\n",
        "\n",
        "\n",
        "def contador_palabras(arr, pos_i, pos_f):\n",
        "    # Condicion de fin\n",
        "    if pos_i == pos_f:\n",
        "        return 1\n",
        "    # Divide\n",
        "    else:\n",
        "        pos_m = (pos_i + pos_f) // 2\n",
        "        # Conquista\n",
        "        return contador_palabras(arr, pos_i, pos_m) + contador_palabras(arr, pos_m + 1, pos_f)\n",
        "\n",
        "\n",
        "# Input\n",
        "# La longitud a pasar siempre es la posición final del arreglo len(arr)\n",
        "# ya que sino el pos_i y pos_f será una posición fuera del rango del arreglo\n",
        "print(contador_palabras(arreglo, 0, len(arreglo) - 1))\n",
        "# Output\n",
        "# 34\n"
      ]
    },
    {
      "cell_type": "code",
      "source": [
        "# Comprobar\n",
        "assert len(arreglo) == contador_palabras(arreglo, 0, len(arreglo) - 1)"
      ],
      "metadata": {
        "id": "N47P1Ej6GPe4"
      },
      "execution_count": 5,
      "outputs": []
    },
    {
      "cell_type": "markdown",
      "source": [
        "(b) Funcion llamada tot_palabras_por_linea, que reciba por parámetro un texto t de n líneas, y retorne el número de palabras por linea en dicho texto.\n"
      ],
      "metadata": {
        "id": "6x-OF3CJHGdv"
      }
    },
    {
      "cell_type": "code",
      "source": [
        "txt = \"Lorem ipsum dolor sit amet, consectetur adipiscing elit.\\n Nam arcu arcu, euismod mollis rhoncus quis, egestas at leo.\\n Maecenas luctus neque nulla, vel imperdiet lacus ultrices vel.\"\n",
        "\n",
        "\n",
        "def contador_palabras(arr, pos_i, pos_f):\n",
        "    # Condicion de fin\n",
        "    if pos_i == pos_f:\n",
        "        return 1\n",
        "    # Divide\n",
        "    else:\n",
        "        pos_m = (pos_i + pos_f) // 2\n",
        "        # Conquista\n",
        "        return contador_palabras(arr, pos_i, pos_m) + contador_palabras(arr, pos_m + 1, pos_f)\n",
        "\n",
        "\n",
        "def tot_palabras_por_linea(texto):\n",
        "    # Condicion de fin\n",
        "    if \"\\n\" not in texto:\n",
        "        texto = texto.strip()\n",
        "        arr = texto.split(\" \")\n",
        "        print(contador_palabras(arr, 0, len(arr) - 1))\n",
        "    else:\n",
        "        # Divide\n",
        "        arr = texto.split(\"\\n\")\n",
        "        # Conquista\n",
        "        for oracion in arr:\n",
        "            tot_palabras_por_linea(oracion)\n",
        "\n",
        "\n",
        " # Input\n",
        " # -----\n",
        "tot_palabras_por_linea(txt)\n",
        "\n",
        "# Output\n",
        "# ------\n",
        "# 8\n",
        "# 10\n",
        "# 9"
      ],
      "metadata": {
        "colab": {
          "base_uri": "https://localhost:8080/",
          "height": 0
        },
        "id": "BK_yAcX0HIXT",
        "outputId": "fed8a87c-3893-498a-8ae5-dea40227194e"
      },
      "execution_count": 6,
      "outputs": [
        {
          "output_type": "stream",
          "name": "stdout",
          "text": [
            "8\n",
            "10\n",
            "9\n"
          ]
        }
      ]
    },
    {
      "cell_type": "code",
      "source": [
        "arr_txt = txt.split(\"\\n\")\n",
        "for i in arr_txt:\n",
        "    print(len(i.strip().split(\" \")))"
      ],
      "metadata": {
        "colab": {
          "base_uri": "https://localhost:8080/",
          "height": 0
        },
        "id": "2yZutjpncJ4v",
        "outputId": "2ca989cf-f899-4d50-9574-44f4f2d8fc52"
      },
      "execution_count": 24,
      "outputs": [
        {
          "output_type": "stream",
          "name": "stdout",
          "text": [
            "8\n",
            "10\n",
            "9\n"
          ]
        }
      ]
    },
    {
      "cell_type": "markdown",
      "source": [
        "(c) Funcion llamada tot_palabras_archivo, que reciba por parametro un archivo de texto (lorem.txt) de n líneas (ver adjunto), y retorne el número de palabras contenidos en este.\n",
        "\n",
        "\n"
      ],
      "metadata": {
        "id": "Y1xXk6X3eWQA"
      }
    },
    {
      "cell_type": "code",
      "source": [
        "%%writefile lorem.txt\n",
        "Lorem ipsum dolor sit amet, consectetur adipiscing elit. Nam arcu arcu, euismod mollis rhoncus quis, egestas at leo. Maecenas luctus neque nulla, vel imperdiet lacus ultrices vel. Mauris eget eros vel lacus molestie blandit. Nunc neque massa, egestas quis dignissim et, lacinia et lorem. Proin sit amet justo in urna posuere volutpat non sit amet ex. Aliquam interdum, nisl quis suscipit pretium, turpis metus volutpat orci, sed fermentum ipsum libero ut ipsum. Duis in rutrum libero. Vivamus non eros sit amet enim pharetra rutrum. Donec id fringilla orci. Ut et purus a orci sollicitudin elementum. Nunc convallis varius purus, eget volutpat ligula dignissim ac. Sed a sollicitudin lorem, vitae imperdiet nibh. Etiam maximus, justo ac molestie tristique, tortor nisl consequat nunc, dapibus gravida purus leo sit amet ligula.\n",
        "Nullam lacinia, felis sed dapibus porttitor, elit risus viverra augue, sed finibus lorem purus eu velit. Sed mi leo, placerat id tempus id, facilisis auctor dui. Nulla ut nunc suscipit, vulputate ipsum a, tincidunt justo. Mauris in cursus mauris, et mattis augue. Aliquam eu vulputate est. Suspendisse et ante a nibh ornare ultrices a nec metus. Nullam consequat massa quis justo molestie dapibus.\n",
        "Suspendisse potenti. Praesent pulvinar, tortor nec convallis porttitor, felis sem interdum nibh, eu mollis justo orci at dui. Integer at eros felis. Etiam dignissim in metus a fringilla. Fusce consectetur nunc quis commodo pellentesque. Quisque nisl ante, pellentesque quis tincidunt in, sollicitudin sit amet nibh. Mauris viverra sagittis velit. Ut laoreet eu libero nec ultricies. Curabitur commodo dictum mi tristique sollicitudin. Suspendisse interdum, leo eget sollicitudin dignissim, mauris nunc blandit velit, et posuere metus nunc ut turpis. Nunc auctor ex at ex tempus consectetur. Pellentesque leo mauris, porta a egestas a, varius ac nibh.\n",
        "Praesent a rutrum lectus, non ultrices turpis. Cras in lacus lacus. Mauris dictum et leo ac consectetur. Nam ullamcorper mauris tortor, in auctor purus dignissim et. Curabitur varius rhoncus lectus, ac mattis neque efficitur a. In luctus tellus magna, fringilla aliquam neque porttitor ut. Praesent iaculis diam id auctor egestas. Vivamus aliquam quam velit, non viverra dolor rhoncus vel. Vivamus a dolor tincidunt, malesuada velit a, dignissim magna. Donec non finibus elit. Etiam quis lobortis mauris. Donec lobortis in sapien at eleifend. Praesent ex dui, feugiat eget libero sed, egestas consectetur justo. Vivamus consectetur velit sed justo tincidunt tempus. Phasellus luctus gravida finibus. Donec ut rhoncus metus, vel imperdiet augue.\n",
        "Donec convallis purus id mauris lacinia, sed sagittis purus pellentesque. Aliquam erat volutpat. Interdum et malesuada fames ac ante ipsum primis in faucibus. In molestie lacus mauris, sed euismod nulla convallis eget. Cras pretium pellentesque ipsum, ut cursus tortor scelerisque sit amet. Duis a tincidunt ipsum. Duis malesuada, justo sit amet fermentum aliquam, augue felis pulvinar enim, sed aliquet ante ipsum a arcu. Quisque aliquam ante at augue rutrum, at gravida enim posuere. Morbi facilisis augue eu feugiat tempus. Sed mi nibh, pretium ac pretium eget, finibus vel ex. Nam mattis, elit nec tempus scelerisque, lectus lectus dignissim lectus, sed facilisis enim orci eu ipsum. Pellentesque ut risus sit amet dui pretium malesuada. Suspendisse elementum ac augue fringilla efficitur.\n",
        "Pellentesque sapien sapien, fermentum a blandit at, tincidunt sed nibh. Sed et ante dictum sem efficitur mollis sit amet et risus. Vestibulum consequat tellus neque. Donec ultricies lectus ut laoreet lacinia. Maecenas in bibendum purus. Nullam non turpis eros. In finibus tempor lacinia. Suspendisse eget congue ante, a tincidunt sapien. Integer ultrices est sed lorem eleifend, at tincidunt turpis blandit. Cras vestibulum sed mi at facilisis. Vestibulum consequat eu risus lacinia dictum. Nunc viverra elementum nibh, sed consequat turpis volutpat eu.\n",
        "Morbi eleifend mattis quam, nec porta magna viverra ac. Integer lacus erat, tempor ut tellus vehicula, feugiat fringilla diam. Nulla quis justo quis purus posuere viverra at vel erat. Praesent commodo placerat odio, eu ullamcorper mauris imperdiet eu. Nunc hendrerit ultricies finibus. Sed vel maximus sapien. Suspendisse vestibulum magna turpis, in tincidunt magna condimentum aliquet. Morbi vel quam fringilla, iaculis mi at, auctor dolor. Donec vitae eleifend diam, ut laoreet augue. Proin at ultricies nisl. Nulla vel neque id nulla aliquam molestie vitae sed tellus. Vivamus ultrices condimentum lacus, ac iaculis augue semper in. Praesent pulvinar, turpis sed dictum suscipit, orci sapien viverra ligula, sit amet egestas nunc quam non tortor.\n",
        "Phasellus vel lorem risus. Quisque accumsan et purus eu porta. Curabitur consectetur mi nulla, eget dapibus est imperdiet eu. Sed id ornare turpis. Suspendisse pharetra tortor non sem tempus placerat. Phasellus arcu metus, molestie ac tincidunt vitae, vulputate ut justo. Donec gravida enim at ultricies molestie. Sed ac sem aliquet, auctor eros sit amet, tristique urna.\n",
        "Duis sit amet lacinia mi. Vestibulum nec lectus mauris. Vestibulum in justo tincidunt, hendrerit nibh ac, eleifend augue. Aenean vel porta urna, nec aliquam mi. Fusce ut diam tellus. Cras ligula sapien, lacinia et sodales eu, elementum vitae velit. Curabitur vulputate blandit dapibus.\n",
        "Nullam ac cursus tortor. Nunc sed ligula est. Etiam fringilla libero non placerat cursus. Class aptent taciti sociosqu ad litora torquent per conubia nostra, per inceptos himenaeos. Aenean suscipit justo vel lectus ultrices, id lacinia odio sagittis. Donec tincidunt, nisl dictum pretium cursus, augue risus porta mi, id iaculis urna elit et arcu. Maecenas rhoncus, sapien dictum pulvinar hendrerit, justo justo finibus libero, sed lacinia turpis quam et ligula. Donec consectetur eleifend ornare. Praesent eget aliquet nulla. Maecenas ultricies feugiat eros ac bibendum. Praesent pulvinar mi at posuere vestibulum. Suspendisse augue tortor, bibendum ac imperdiet id, feugiat non tortor. Pellentesque sollicitudin consectetur nisi, et interdum risus luctus a. Aliquam sit amet pretium lacus, ac ullamcorper felis. Duis vulputate lectus non orci vehicula rutrum. Morbi pulvinar, elit vel dictum tincidunt, arcu purus aliquam felis, placerat dictum libero tortor vel ipsum.\n",
        "Donec porta enim in nibh blandit, eu consectetur ligula tempor. Fusce bibendum mattis lorem ut semper. Praesent eu dignissim mi, consectetur maximus sapien. Aenean felis magna, dictum in lobortis sed, iaculis et sapien. Ut eu nisi suscipit dolor molestie ullamcorper. Donec elit sapien, rhoncus a convallis ac, imperdiet vitae nibh. Aliquam erat volutpat.\n",
        "Etiam eget euismod orci, ullamcorper fringilla ante. Morbi pellentesque ligula quis nisl vestibulum dapibus. Pellentesque euismod nibh sit amet lorem posuere facilisis. Morbi quis nisi metus. Duis et aliquet diam. Morbi ut varius nibh. Proin et justo eget risus scelerisque feugiat tempor in mi. Interdum et malesuada fames ac ante ipsum primis in faucibus. Proin cursus, mi pharetra volutpat sollicitudin, erat mauris volutpat neque, et malesuada turpis tortor sed eros. Praesent mollis laoreet tellus. Cras tempor mollis felis, in commodo eros laoreet at.\n",
        "Morbi molestie, mi sed imperdiet pharetra, risus lorem ultricies mi, eget auctor ex tortor nec lorem. Ut feugiat mi ac justo cursus commodo. Aliquam non ipsum pharetra, auctor sapien at, pharetra dolor. Cras ac blandit diam. Duis non pellentesque arcu. Sed id augue vitae lectus ultricies convallis sit amet pretium odio. Maecenas augue dui, elementum at pulvinar ac, bibendum eu leo. Nunc scelerisque bibendum purus, quis semper nibh aliquet sit amet. Donec at sem vitae lacus tempus eleifend. Vestibulum efficitur imperdiet felis et porta. Donec aliquet ultricies ligula, quis dignissim sapien faucibus vitae. Phasellus magna lorem, malesuada nec rhoncus in, gravida eget velit. Pellentesque lobortis nibh mauris.\n",
        "Donec viverra massa turpis, quis euismod ante tristique vel. Mauris egestas eu sapien sed tempor. Donec ac turpis risus. Aliquam varius, leo quis suscipit dictum, lectus est consectetur felis, lacinia luctus purus augue eget est. Quisque ut scelerisque tortor. Nulla facilisi. Fusce nec sapien eget lectus iaculis venenatis in aliquet nulla. Curabitur gravida viverra magna quis lacinia. Morbi vitae ex eu dolor ultrices tincidunt.\n",
        "Fusce ornare tortor ante, a finibus neque vehicula nec. In hac habitasse platea dictumst. Nam diam sem, fringilla quis justo id, pretium lacinia erat. Sed sit amet tempus felis. Proin aliquam facilisis arcu eu efficitur. Donec eleifend arcu a finibus tincidunt. Etiam id quam risus.\n",
        "Suspendisse eu quam eleifend, venenatis metus quis, efficitur est. Aliquam at massa ut sem sodales malesuada. Proin porttitor lacinia tortor vitae ullamcorper. In scelerisque lectus nec dolor lobortis, eu laoreet libero condimentum. Maecenas mattis aliquet laoreet. Praesent id mi lobortis, congue elit ultrices, luctus lacus. Donec augue nulla, fermentum sit amet posuere molestie, dapibus ut elit. Sed porttitor in sapien nec posuere. Aenean viverra sem sit amet ullamcorper volutpat. Fusce consequat pharetra lectus ac accumsan. Suspendisse potenti. Donec vel ligula scelerisque, aliquet lorem molestie, porttitor felis.\n",
        "Donec sit amet eleifend nisi, at hendrerit leo. Ut aliquam lobortis nisi efficitur vulputate. Pellentesque neque orci, faucibus posuere fringilla a, sodales at arcu. Aenean purus lorem, dignissim id nulla eget, tempor dignissim lorem. Pellentesque ut ante sit amet mi pellentesque finibus vitae ac mi. Donec id augue augue. Quisque non volutpat neque. Suspendisse eget fringilla tortor. Nulla at suscipit quam, quis placerat urna. Nam sit amet efficitur odio, ut venenatis sem. Aenean sit amet arcu vitae mauris maximus sagittis. Ut lacinia varius elit.\n",
        "Phasellus viverra ligula vitae facilisis facilisis. Maecenas nec vehicula augue, eu laoreet eros. Quisque neque urna, suscipit at molestie sit amet, porta ac neque. Vivamus elementum diam vel mi aliquet, non laoreet augue tristique. Donec vestibulum est eros, pharetra congue sapien condimentum in. Ut vitae tempor quam. Nulla luctus consequat elit, vitae cursus mauris sodales eu. Duis tincidunt, tortor ut fringilla malesuada, massa mauris vestibulum sem, ut semper metus augue et risus. Curabitur luctus posuere lacus, nec dictum tellus bibendum quis. Proin placerat enim tincidunt eleifend faucibus. In euismod cursus nisi nec vestibulum.\n",
        "Nulla eu gravida mi. Fusce tristique porttitor cursus. Nulla facilisi. Etiam fermentum fermentum eros, id finibus lorem tristique quis. Proin blandit ipsum sed tincidunt luctus. Nulla id ante libero. Suspendisse purus diam, consequat quis sem in, finibus ornare ligula. Integer sed porta urna. Duis id lacus et arcu dictum aliquam. Maecenas diam augue, imperdiet eget vehicula vitae, sollicitudin sit amet lectus. Curabitur vel orci placerat dui consequat suscipit at nec quam. Vestibulum lobortis risus eu dignissim sagittis. Nullam vestibulum, justo malesuada ultrices tristique, odio dui suscipit erat, a facilisis lacus nibh eu justo.\n",
        "Morbi viverra, massa vel auctor ultricies, massa tortor semper odio, at lobortis elit diam vitae mi. Suspendisse volutpat orci vel pretium consequat. Donec turpis metus, eleifend vitae porttitor nec, suscipit non leo. Vestibulum maximus vulputate egestas. Morbi vel ante venenatis odio sodales volutpat eu a ipsum. Cras quam diam, vulputate ut felis in, sollicitudin dictum ex. Fusce sodales vestibulum laoreet. Praesent non semper felis. Aliquam imperdiet consectetur pellentesque. Nunc ut leo porta, vestibulum nisi vitae, ornare felis. Suspendisse pulvinar nisl eu sem pharetra feugiat. Donec dapibus arcu id mi posuere, non varius elit scelerisque. Vivamus hendrerit metus quis tempor elementum. Duis auctor nibh non est venenatis imperdiet. Fusce molestie dictum pellentesque.\n",
        "Aenean eu aliquet odio. Cras blandit tellus vitae fermentum faucibus. Praesent ac mauris ut ligula porttitor venenatis eu sollicitudin dui. Orci varius natoque penatibus et magnis dis parturient montes, nascetur ridiculus mus. Proin sodales turpis quis ex iaculis, id dictum arcu finibus. Proin volutpat ac est ac rhoncus. Cras sed leo porttitor, mattis lectus vitae, sollicitudin nunc. Etiam scelerisque vestibulum condimentum. Vivamus lorem arcu, iaculis quis vehicula eget, sodales vitae dolor. Donec iaculis tellus id dignissim venenatis. Nunc accumsan quis nibh non facilisis.\n",
        "Praesent eros sapien, fringilla sit amet euismod eget, pretium vitae odio. Quisque id turpis ac eros finibus hendrerit. Donec maximus nulla vel metus efficitur eleifend. Donec eget viverra dolor, eget congue orci. Nullam dignissim eu orci eget sollicitudin. Quisque mauris orci, pretium at rutrum quis, auctor placerat justo. Praesent rhoncus fermentum urna nec condimentum. Duis ac urna laoreet, rhoncus turpis a, posuere ante. Nullam finibus felis erat, eu varius dolor ornare a.\n",
        "Nunc quis euismod eros, eu malesuada eros. Aenean maximus enim a nunc volutpat, in pellentesque mi fringilla. Maecenas vehicula consequat finibus. Nulla at diam sit amet magna dapibus semper. Pellentesque pharetra elit nunc, quis ultrices turpis pulvinar et. Vestibulum vitae neque sed tortor tempor sagittis eu ac nulla. Aenean at urna eget elit porttitor euismod. In tincidunt, diam sed tincidunt tristique, velit velit accumsan dolor, id interdum est quam ut ante. Mauris ut gravida metus. Praesent rhoncus molestie orci, ut lacinia lectus ornare eu. Nulla tincidunt, lectus id vulputate fermentum, dui quam eleifend arcu, eu congue velit dui non quam. Nam dignissim laoreet lectus pellentesque tristique. Maecenas ac nunc porta, mattis mi non, rhoncus odio.\n",
        "Duis at erat nec eros interdum pharetra non non tortor. Integer felis felis, rhoncus eget justo lobortis, ultricies iaculis mi. Nam rhoncus euismod rutrum. Phasellus ultricies dui in mi feugiat, quis laoreet purus finibus. Proin sapien nunc, imperdiet nec diam sed, scelerisque iaculis nunc. Proin at tortor vitae turpis sodales pretium in eu nisl. Etiam diam lorem, euismod quis leo ac, eleifend feugiat augue. Nullam ullamcorper varius neque vel tristique. Donec ornare efficitur nibh. Aliquam erat volutpat. Cras sit amet ante id diam vestibulum lobortis. Proin blandit euismod bibendum.\n",
        "Duis ultrices erat purus, sit amet placerat odio blandit a. Praesent at posuere justo. Fusce est nisl, eleifend sed ornare vitae, sodales in lectus. Suspendisse iaculis sem augue, non hendrerit nulla luctus eu. Ut commodo metus vel erat ultricies, at condimentum sem suscipit. Aenean varius purus sed posuere faucibus. Maecenas ultrices justo vel nibh consectetur euismod. Suspendisse consequat, magna a fringilla consequat, massa orci tristique nulla, eu tincidunt velit lorem sollicitudin urna. Sed cursus metus sed molestie pharetra. Proin sollicitudin purus at enim blandit, vitae mattis purus convallis.\n",
        "Praesent tempus lacus quis lacus tincidunt venenatis. Mauris malesuada urna venenatis est tempor vehicula. Mauris auctor arcu massa, eu sollicitudin tortor pellentesque id. Sed consequat eros quis pellentesque tristique. Nunc pulvinar eget velit cursus lacinia. Vestibulum volutpat tellus elementum, elementum arcu vel, pharetra libero. Aliquam porta neque ut imperdiet rutrum. Suspendisse potenti. Ut suscipit sapien ac vestibulum sodales. Phasellus sit amet maximus magna. Vivamus fringilla, leo sed scelerisque mattis, erat purus ornare orci, vel rhoncus felis magna at libero.\n",
        "Sed eu ex nec sapien elementum porta sed et ante. Morbi eget arcu auctor, dictum leo vel, imperdiet lacus. Cras dapibus eget eros id ullamcorper. Cras mollis enim nec lacus gravida tempus bibendum at ipsum. Nam congue venenatis lacinia. Donec a sagittis nibh, quis pulvinar odio. Morbi tempor dolor nec cursus dignissim. Aenean facilisis libero vel mi cursus egestas. In nec iaculis nibh, nec auctor justo. Lorem ipsum dolor sit amet, consectetur adipiscing elit. Mauris quis eros a arcu aliquet venenatis. Cras ac lectus eu mauris congue ornare. Ut sit amet dolor in orci ultricies hendrerit convallis sit amet magna. Phasellus commodo vestibulum lorem. Nunc vitae sagittis purus, vestibulum lacinia mi. Aliquam id lectus iaculis, aliquet dolor sit amet, sodales nisi.\n",
        "Nunc tempus dui ut justo egestas, quis commodo leo rutrum. Proin volutpat erat sit amet fringilla finibus. Morbi tincidunt neque porttitor mauris dictum, pretium ornare tellus tincidunt. Cras vestibulum, purus in tristique tempus, nisi metus pretium nunc, in porttitor lectus purus non felis. Aliquam interdum purus turpis. Integer ullamcorper orci sed sodales ultrices. Phasellus molestie pretium lorem, a tempus elit euismod vel. Quisque sit amet luctus dolor, non facilisis est. Aliquam non dui ullamcorper, consectetur risus nec, varius massa. Sed eu justo pulvinar, varius enim at, convallis arcu. Nulla facilisi. Donec cursus quis arcu at dictum. Fusce tincidunt arcu vel elit venenatis imperdiet. Aenean rutrum ex dui. Nulla nec ante eget dui semper lacinia id a erat. Ut fringilla ullamcorper libero vitae varius.\n",
        "Vestibulum ante ipsum primis in faucibus orci luctus et ultrices posuere cubilia curae; Orci varius natoque penatibus et magnis dis parturient montes, nascetur ridiculus mus. Vivamus at dui id nibh suscipit congue. Mauris sit amet nisl mauris. Integer mattis lectus finibus elit congue mollis. Morbi lobortis, elit at sodales aliquam, nibh urna aliquam urna, et placerat orci est id lacus. Aenean dapibus, metus vel commodo interdum, odio arcu suscipit mauris, ut fringilla nisl felis id ex. Suspendisse mollis pellentesque arcu, id mollis turpis fringilla et.\n",
        "Donec molestie ipsum a finibus sollicitudin. Etiam venenatis velit ac aliquam efficitur. Vivamus commodo fermentum sapien vel vehicula. Pellentesque id lorem ut orci iaculis elementum. Vivamus imperdiet congue risus sit amet congue. Curabitur lobortis euismod est, et euismod justo vulputate non. Aenean at massa dolor. Nulla consequat quam diam, et finibus orci ultricies volutpat. Suspendisse mauris diam, congue tempor ultricies in, consequat in lacus. Mauris dignissim ut nibh quis finibus. In eu faucibus massa. Nam non massa mi. Nulla sem mi, malesuada sed vestibulum quis, accumsan feugiat erat.\n",
        "Mauris laoreet dui luctus leo aliquam sollicitudin. Cras vel mauris in nibh venenatis faucibus. In nec risus tortor. Praesent vitae ligula in sem ullamcorper tincidunt eget sed lorem. Fusce at imperdiet tellus. Ut sollicitudin tellus purus. Morbi enim ipsum, sodales a tortor in, congue feugiat nibh. Sed vitae ipsum vitae odio iaculis interdum. Vestibulum vitae enim metus. Curabitur luctus lacinia nisl a rhoncus. Integer lorem sem, tincidunt eu dapibus in, ornare vitae risus. Curabitur sed eleifend quam. Proin rutrum justo eget risus interdum, et lobortis ipsum congue. Pellentesque iaculis turpis eu blandit commodo. In vel cursus quam, id condimentum justo. Ut sodales eros ac rutrum tempus.\n",
        "Donec semper diam metus, sit amet lacinia enim ultrices id. Donec sit amet gravida magna, vitae sagittis est. Maecenas volutpat fermentum orci. Orci varius natoque penatibus et magnis dis parturient montes, nascetur ridiculus mus. Quisque suscipit sapien in tortor laoreet condimentum. Suspendisse quis consectetur metus. In placerat imperdiet nunc eget scelerisque. Phasellus sodales erat et velit ullamcorper, nec consectetur urna volutpat.\n",
        "Ut convallis pretium metus. Vivamus nec risus aliquam, imperdiet lacus sed, finibus nulla. Quisque quis rhoncus dolor. Nunc eu consequat est, quis pellentesque lectus. Donec eleifend egestas suscipit. Donec sed diam nisl. Donec elit mi, placerat in pharetra non, viverra ac nunc. Mauris id pellentesque turpis. Pellentesque sed convallis nisl, eu tristique elit.\n",
        "Quisque posuere tincidunt justo, a tincidunt felis venenatis et. Quisque pharetra aliquet tincidunt. Suspendisse non lacinia dui. Vestibulum scelerisque venenatis ipsum, vitae pharetra justo maximus at. Ut et sapien elit. Sed vel lobortis magna. Ut vestibulum massa lectus, vitae vestibulum diam facilisis ac. Sed sollicitudin quam leo. Donec sed gravida justo. Pellentesque habitant morbi tristique senectus et netus et malesuada fames ac turpis egestas. Phasellus feugiat ante vitae elit fringilla egestas. Donec ex massa, iaculis finibus leo sed, cursus lacinia ligula. Mauris at consectetur tortor.\n",
        "Nulla eget diam feugiat, finibus lorem sit amet, vulputate lectus. Sed sit amet massa nisi. Praesent ultrices ligula at ornare imperdiet. In faucibus ex nisi, quis ullamcorper massa mollis non. Donec non accumsan dolor, ut venenatis est. Nulla id bibendum dolor. Aliquam augue dolor, elementum sed neque vel, eleifend vulputate diam. Etiam faucibus ultrices ornare. Morbi pulvinar lectus porta fermentum consectetur. Donec bibendum accumsan malesuada. Proin ut diam a sem porta maximus ac quis nunc. Pellentesque in nunc mauris.\n",
        "Morbi a quam sed ex consequat tincidunt vel vel sem. Nulla eget metus iaculis, aliquam odio a, aliquam diam. Etiam ullamcorper imperdiet libero non porta. Nulla nec nibh facilisis, gravida purus nec, suscipit tellus. Sed et libero non elit cursus lacinia. Ut pulvinar cursus nisi, eleifend suscipit tortor euismod vitae. Nullam eget auctor justo.\n",
        "Quisque iaculis laoreet sapien, ut malesuada nibh fermentum sed. Integer varius mi elementum congue euismod. Sed ipsum felis, fringilla eget dictum a, vulputate ac lorem. Pellentesque sodales ante quis commodo dignissim. Phasellus ullamcorper sodales augue. Fusce eleifend neque et hendrerit ornare. Mauris rutrum eu nulla et vulputate. Proin ultrices fringilla arcu eu vulputate. Donec placerat sem in dictum maximus.\n",
        "Nullam quam velit, aliquam id commodo nec, maximus quis magna. Vivamus ligula ligula, dictum eu neque et, lacinia finibus arcu. Ut leo ligula, consectetur ac viverra ut, fringilla ac lectus. Fusce vitae sem nec nisi laoreet congue. Sed hendrerit justo odio. Proin varius nulla velit, quis finibus velit pulvinar at. Integer ullamcorper mauris mauris, in tincidunt dui ultricies ac. Interdum et malesuada fames ac ante ipsum primis in faucibus. Quisque ultricies commodo tortor, sed luctus felis molestie id. Duis porta turpis porta, iaculis urna a, ultricies lectus. Fusce aliquet consequat viverra. Nullam ut sodales odio. Curabitur sed metus ut augue dapibus pulvinar a a lacus. Donec varius malesuada est, ultrices consectetur arcu luctus malesuada. Vestibulum in posuere ipsum.\n",
        "Phasellus eget mauris ipsum. Donec auctor a velit id rutrum. Ut eleifend rhoncus dolor in consectetur. Vivamus venenatis mauris diam, nec iaculis tellus posuere a. Mauris feugiat, lectus sed congue pharetra, magna nisi maximus lacus, mollis dapibus nisi neque in mi. Suspendisse iaculis diam augue, ut posuere libero feugiat ut. Proin rutrum tellus volutpat dictum hendrerit. Cras ipsum nulla, accumsan in odio id, consequat finibus neque. Maecenas sapien nisi, scelerisque vitae felis sit amet, facilisis volutpat massa. Curabitur consectetur, nibh at euismod eleifend, urna massa auctor enim, ac scelerisque ex dolor sit amet odio. Integer elementum velit lacus, ut maximus enim cursus eu. Sed justo libero, sollicitudin vel efficitur eu, sodales non orci. Etiam pulvinar pretium feugiat. Maecenas at nulla euismod, gravida nibh id, ullamcorper orci. Mauris vitae libero massa.\n",
        "Maecenas a erat consectetur, auctor nibh a, varius turpis. Maecenas lobortis arcu orci, nec varius mauris pulvinar ac. Fusce varius, tortor eu convallis varius, magna tellus efficitur ex, sollicitudin luctus tellus odio ac metus. Aliquam velit nibh, egestas ac tortor vitae, vulputate accumsan leo. Vestibulum ante ipsum primis in faucibus orci luctus et ultrices posuere cubilia curae; Quisque vehicula nibh ac risus vehicula euismod. Quisque luctus mattis dui vel iaculis. Aliquam suscipit est ut dignissim facilisis. Fusce tempor mauris pulvinar diam elementum maximus. Phasellus non diam sed nunc luctus interdum non ac risus. Suspendisse risus tortor, suscipit non elementum at, suscipit ut turpis.\n",
        "Suspendisse tempor vel justo sit amet molestie. Vivamus feugiat sit amet mauris vel volutpat. Donec ac hendrerit augue. Cras blandit lectus nisl, venenatis congue est suscipit non. Nulla sodales vestibulum arcu, sit amet sodales massa aliquet vitae. Nam eget lacus id nibh sagittis porttitor. Mauris tristique a elit vel suscipit. Morbi euismod dui turpis, in porta mauris mattis tristique. Fusce nec dolor nec nibh iaculis scelerisque id ac lacus. Nulla dignissim ac elit ac aliquet. Vestibulum massa arcu, egestas sed massa in, pharetra laoreet lacus. Curabitur luctus ac quam id pharetra. Fusce non erat tristique, faucibus tellus eu, dictum lectus. Nullam bibendum, justo at faucibus ultricies, nisl ipsum molestie elit, non tempor metus mauris eu dui.\n",
        "Sed nec lacus at mauris mattis vulputate ut sit amet nulla. Etiam luctus tristique quam. Morbi a metus condimentum, dictum diam ut, dignissim lorem. Morbi vulputate ultricies est, eget faucibus sapien eleifend sit amet. Nullam quis justo non diam lacinia facilisis ac imperdiet orci. Morbi faucibus dignissim efficitur. Aenean sodales turpis condimentum ipsum euismod varius. Pellentesque habitant morbi tristique senectus et netus et malesuada fames ac turpis egestas. Integer tincidunt dui eu vestibulum blandit. Nulla iaculis accumsan elit, vitae aliquet metus tincidunt sit amet. Nulla dignissim, nulla ac consectetur bibendum, metus augue consequat mi, non vehicula augue felis eu ex.\n",
        "In sit amet eros nec leo consequat maximus. Donec accumsan sollicitudin arcu ac malesuada. Vestibulum auctor sollicitudin dapibus. Suspendisse a aliquet tortor, eget molestie metus. Mauris interdum, libero vel cursus euismod, velit nulla vestibulum velit, in egestas erat diam eget metus. Quisque ac efficitur sapien. Sed molestie libero in posuere euismod. Vivamus aliquam, felis at vestibulum auctor, arcu magna gravida risus, euismod elementum nulla lectus a felis. Cras vel arcu nibh. Pellentesque habitant morbi tristique senectus et netus et malesuada fames ac turpis egestas. Pellentesque habitant morbi tristique senectus et netus et malesuada fames ac turpis egestas. Aenean sodales nibh lacinia ultrices aliquet. Integer efficitur justo et diam commodo, quis faucibus nisi suscipit. Donec nec odio est. Maecenas quis pulvinar risus. Ut cursus magna vel tristique mattis.\n",
        "Vivamus ac mi imperdiet, lacinia lectus id, consectetur ligula. Etiam laoreet arcu at urna porttitor, in faucibus urna tincidunt. Suspendisse sit amet fringilla diam, non venenatis mauris. Vivamus quis viverra ante, in venenatis risus. Nullam et ipsum id lacus interdum feugiat quis sed dui. Fusce quis rhoncus augue, quis imperdiet sapien. Nunc mollis sem eget nulla suscipit pretium.\n",
        "Nullam interdum vitae ante interdum dapibus. Donec volutpat accumsan quam, quis commodo lorem aliquet vel. Suspendisse eget sagittis lectus. Quisque eu semper felis, nec condimentum odio. Nulla facilisi. Vivamus sed felis imperdiet augue commodo molestie quis ac metus. Vivamus sem metus, dapibus et diam a, eleifend aliquet nisi. Sed scelerisque purus ligula, ac efficitur ex aliquam non. Quisque eu augue nec leo fermentum suscipit vel ut eros. Cras accumsan dui eu erat dictum mattis. Phasellus rutrum neque nisi, quis rhoncus orci viverra at. Sed in libero odio. Sed ultricies quis libero eu interdum. Nulla diam lorem, euismod eu finibus et, dignissim nec lorem. Mauris accumsan velit mi, et rhoncus nulla ullamcorper vitae.\n",
        "Nunc sit amet dapibus risus. Pellentesque venenatis libero massa, eu rhoncus elit vehicula at. Curabitur eget est cursus, ultricies tortor in, finibus ante. Praesent vestibulum, ex a facilisis congue, orci lacus finibus nisl, quis varius eros libero eget dui. Donec eget turpis dolor. Integer vulputate sem eu ex accumsan, blandit feugiat elit mattis. Quisque consequat lorem et dolor consectetur facilisis. Praesent nec rhoncus velit. Aliquam cursus felis non nulla mattis cursus. Aenean condimentum lacinia arcu. Mauris velit felis, varius vel ipsum ultrices, accumsan pulvinar leo. Nulla tempus mauris ut consectetur porttitor. Pellentesque sem arcu, sodales et lectus quis, porttitor dictum odio. Praesent a ipsum velit.\n",
        "Curabitur et arcu in dui ultricies convallis nec ut ipsum. Quisque dignissim in nisl non laoreet. Nam ornare diam eget arcu congue euismod. Suspendisse nisi lectus, vulputate a tristique nec, rutrum in quam. Praesent sagittis velit eu augue pharetra, quis ornare tellus egestas. Proin condimentum ac erat nec mattis. In quis mollis ipsum, sed tincidunt est. Duis volutpat interdum libero, vitae semper libero faucibus at. Orci varius natoque penatibus et magnis dis parturient montes, nascetur ridiculus mus. Sed eleifend erat ac placerat venenatis. Sed consequat tristique dolor quis tincidunt. Nulla interdum eleifend purus, ut ornare enim sodales vitae. Suspendisse lacinia in dolor vel vulputate. Vivamus ac ipsum in nisl pellentesque vestibulum sed a libero.\n",
        "Donec vehicula, felis quis accumsan vehicula, odio lectus euismod leo, ut eleifend elit nisl in enim. Etiam eget arcu et lacus consectetur hendrerit. Ut tristique, mauris ut bibendum pharetra, ipsum libero commodo eros, eget ornare urna nunc eget libero. Sed tincidunt ut lacus vitae rutrum. Sed ut erat diam. Aliquam ut justo luctus, mattis leo ac, mattis elit. Curabitur ut neque ac orci feugiat tincidunt eu quis mauris. Morbi in porttitor magna. Integer maximus, est sit amet mollis fermentum, eros nibh lobortis sapien, quis mattis neque metus nec nunc. Orci varius natoque penatibus et magnis dis parturient montes, nascetur ridiculus mus. Mauris tempus pellentesque magna, nec scelerisque arcu. Nullam posuere lorem ut aliquet pretium. Class aptent taciti sociosqu ad litora torquent per conubia nostra, per inceptos himenaeos. Suspendisse molestie sapien ut dolor auctor, id semper ante cursus. Curabitur eu justo urna. Etiam elementum justo sit amet felis suscipit, a ornare elit rutrum.\n",
        "Nunc suscipit non erat commodo elementum. Morbi sollicitudin placerat orci, eget egestas urna porttitor quis. Morbi tincidunt sollicitudin consectetur. Sed ut ultricies mauris. Etiam egestas sollicitudin hendrerit. In pellentesque tellus quis consectetur interdum. Nunc magna sem, vestibulum ut diam in, facilisis aliquet libero.\n",
        "Sed sapien massa, sagittis nec nisi ut, molestie venenatis ligula. Aliquam cursus ornare erat, sed fermentum ante semper sed. Vivamus efficitur enim feugiat quam luctus, luctus suscipit massa rhoncus. Nulla facilisi. Donec imperdiet erat vitae dictum consequat. Vestibulum fermentum cursus dapibus. Cras massa ligula, venenatis et libero ac, pulvinar semper lorem. Nunc bibendum, urna commodo gravida molestie, turpis sem venenatis felis, non accumsan lectus quam sit amet nibh. Nulla eros massa, faucibus cursus laoreet ac, sagittis eu sapien. Nunc ut risus erat. Nullam eleifend tempus massa non aliquam.\n",
        "Proin et scelerisque massa. Vestibulum tristique sodales libero in posuere. Mauris fermentum purus iaculis nulla congue vulputate vitae at turpis. Nunc ac leo vulputate, sodales ex vel, posuere ipsum. Vestibulum nec metus vulputate, accumsan magna quis, malesuada risus. Ut dapibus rhoncus pretium. Donec ullamcorper, diam id eleifend ultricies, odio nulla molestie mi, id convallis arcu arcu eu felis. Pellentesque auctor, elit ut accumsan dignissim, lectus nisl dictum magna, vel lacinia neque tellus non nisi. Vivamus facilisis pulvinar dui, at ultrices augue lobortis in. Sed sed scelerisque dui. Mauris et tortor nec velit hendrerit mattis in mattis arcu. Aliquam in sem dolor.\n",
        "Donec ultricies vehicula risus, et venenatis justo eleifend eu. Cras libero odio, consequat ut pellentesque lobortis, viverra at orci. Proin vestibulum, diam nec congue gravida, mi tortor condimentum urna, sit amet lacinia nisl eros eu sem. Aliquam sodales mi in aliquam lobortis. Phasellus vel lectus quis ipsum ornare rhoncus. Fusce sit amet felis et sem condimentum molestie hendrerit accumsan turpis. Curabitur sapien augue, consectetur quis sollicitudin quis, bibendum sit amet est. In ac est ipsum. Aliquam sed laoreet dui. Aliquam eu tellus porta, gravida massa id, consequat nisl. Donec nec dui diam. Maecenas at ipsum in felis porttitor porttitor non aliquam felis. Etiam nibh risus, molestie nec iaculis id, interdum at neque. Nunc non ultrices mauris. Curabitur semper lectus iaculis, tristique lorem id, tempor erat. Mauris vel lorem orci.\n",
        "Cras a purus ac odio vestibulum venenatis id a lacus. Etiam interdum massa in volutpat laoreet. Ut quis risus ut sem pharetra euismod. Mauris pulvinar nibh libero, eget accumsan diam faucibus quis. Sed ac volutpat mi. Morbi a nunc ac lacus ultrices fermentum sed ut mi. Fusce semper risus odio, sagittis volutpat enim lacinia non. Cras nec gravida lectus, ac consectetur ipsum. Praesent maximus est mi, at sollicitudin nibh elementum quis. Pellentesque porta nisl sed urna hendrerit, eget molestie leo tincidunt. Cras volutpat porta elementum. Sed sed eros ac nunc euismod viverra. Donec feugiat, sapien ac rhoncus sagittis, urna erat fringilla lectus, in ornare ex orci et leo.\n",
        "Lorem ipsum dolor sit amet, consectetur adipiscing elit. Nulla facilisi. Proin ut libero at erat finibus congue. Cras blandit leo in sapien fringilla, in facilisis lorem tincidunt. In placerat mauris vitae sem imperdiet tincidunt. Morbi eget convallis ligula, id tincidunt magna. Aliquam porttitor quam at nulla pulvinar iaculis. Lorem ipsum dolor sit amet, consectetur adipiscing elit. Praesent lorem libero, volutpat ac dolor eget, rhoncus interdum libero. Praesent sit amet lorem ac nisl porttitor mollis sit amet vel massa. Fusce vel sagittis turpis, a luctus mauris. Pellentesque tincidunt commodo quam, ac commodo tortor semper."
      ],
      "metadata": {
        "colab": {
          "base_uri": "https://localhost:8080/",
          "height": 0
        },
        "id": "g2kd9Ba3i7RE",
        "outputId": "354d2fd1-28b4-435f-d831-698b019517b5"
      },
      "execution_count": 50,
      "outputs": [
        {
          "output_type": "stream",
          "name": "stdout",
          "text": [
            "Overwriting lorem.txt\n"
          ]
        }
      ]
    },
    {
      "cell_type": "code",
      "source": [
        "def contador_palabras(arr, pos_i, pos_f):\n",
        "    # Condicion de fin\n",
        "    if arr[pos_i] == '':\n",
        "        return 0\n",
        "    if pos_i == pos_f:\n",
        "        return 1\n",
        "    # Divide\n",
        "    else:\n",
        "        pos_m = (pos_i + pos_f) // 2\n",
        "        # Conquista\n",
        "        return contador_palabras(arr, pos_i, pos_m) + contador_palabras(arr, pos_m + 1, pos_f)\n",
        "\n",
        "\n",
        "def tot_palabras_archivo(texto):\n",
        "    # Condicion de fin\n",
        "    if \"\\n\" not in texto:\n",
        "        texto = texto.strip()\n",
        "        arr = texto.split(\" \")\n",
        "        return contador_palabras(arr, 0, len(arr) - 1)\n",
        "\n",
        "    else:\n",
        "        # Divide\n",
        "        pos = texto.find(\"\\n\")\n",
        "        # Conquista\n",
        "        return tot_palabras_archivo(texto[:pos]) + tot_palabras_archivo(texto[pos + 1:])\n",
        "\n",
        "\n",
        "# Input\n",
        "# -----\n",
        "filename = \"lorem.txt\"\n",
        "file = open(filename)\n",
        "handle = file.read()\n",
        "\n",
        "print(tot_palabras_archivo(handle))\n",
        "\n",
        "\n",
        "# Output\n",
        "# ------\n",
        "# 5000"
      ],
      "metadata": {
        "colab": {
          "base_uri": "https://localhost:8080/",
          "height": 0
        },
        "id": "3nkmy0-kiaIn",
        "outputId": "24adc1a3-50f4-4af9-fe18-94076e34aacd"
      },
      "execution_count": 57,
      "outputs": [
        {
          "output_type": "stream",
          "name": "stdout",
          "text": [
            "5000\n"
          ]
        }
      ]
    },
    {
      "cell_type": "code",
      "source": [
        "assert 5000 == tot_palabras_archivo(handle)"
      ],
      "metadata": {
        "id": "eDnnJwA_nNaB"
      },
      "execution_count": 56,
      "outputs": []
    }
  ]
}