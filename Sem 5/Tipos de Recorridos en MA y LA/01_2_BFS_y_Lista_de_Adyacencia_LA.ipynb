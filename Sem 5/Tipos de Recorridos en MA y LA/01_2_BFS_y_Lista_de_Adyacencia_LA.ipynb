{
  "cells": [
    {
      "cell_type": "markdown",
      "metadata": {
        "id": "JJTrdzY_zl0w"
      },
      "source": [
        "# **BUSQUEDA EN AMPLITUD EN UNA LISTA DE ADYACENCIA**"
      ]
    },
    {
      "cell_type": "markdown",
      "metadata": {
        "id": "i7_gtTaJztmI"
      },
      "source": [
        "### **Función BFS para recorrer una LA**"
      ]
    },
    {
      "cell_type": "code",
      "execution_count": 4,
      "metadata": {
        "id": "dMSJfYiGywUB"
      },
      "outputs": [],
      "source": [
        "import graphviz as gv"
      ]
    },
    {
      "cell_type": "code",
      "execution_count": 5,
      "metadata": {
        "id": "ayD5_aRJYCAK"
      },
      "outputs": [],
      "source": [
        "def bfs_al(G, s):\n",
        "  n = len(G)\n",
        "  visited = [False]*n\n",
        "  path = [-1]*n # parent\n",
        "  queue = [s]\n",
        "  visited[s] = True\n",
        "\n",
        "  while queue:\n",
        "    u = queue.pop(0)\n",
        "    for v in G[u]:\n",
        "      if not visited[v]:\n",
        "        visited[v] = True\n",
        "        path[v] = u\n",
        "        queue.append(v)\n",
        "\n",
        "  return path"
      ]
    },
    {
      "cell_type": "markdown",
      "metadata": {
        "id": "mXE-uAlLzzuI"
      },
      "source": [
        "Generamos una LA segun el siguiente texto:"
      ]
    },
    {
      "cell_type": "code",
      "execution_count": 6,
      "metadata": {
        "colab": {
          "base_uri": "https://localhost:8080/"
        },
        "id": "XRFkttEUZoba",
        "outputId": "fed43fca-b255-49a2-d938-d5ebe391fad4"
      },
      "outputs": [
        {
          "output_type": "stream",
          "name": "stdout",
          "text": [
            "Writing 01a.la\n"
          ]
        }
      ],
      "source": [
        "%%file 01a.la\n",
        "1 4\n",
        "0 3 5 6\n",
        "4 5 6\n",
        "1 7\n",
        "0 2 6 7\n",
        "1 2\n",
        "1 2 4\n",
        "3 4"
      ]
    },
    {
      "cell_type": "markdown",
      "metadata": {
        "id": "3EqI9DdH0C54"
      },
      "source": [
        "Cargamos la LA generada desde el archivo 01a.la a un arreglo tipo numpy en la variable G1"
      ]
    },
    {
      "cell_type": "code",
      "execution_count": 7,
      "metadata": {
        "colab": {
          "base_uri": "https://localhost:8080/"
        },
        "id": "UIv76tSEaUrT",
        "outputId": "1023ef8d-b421-4cf5-aa98-36f51b37df34"
      },
      "outputs": [
        {
          "output_type": "stream",
          "name": "stdout",
          "text": [
            "[[1, 4], [0, 3, 5, 6], [4, 5, 6], [1, 7], [0, 2, 6, 7], [1, 2], [1, 2, 4], [3, 4]]\n"
          ]
        }
      ],
      "source": [
        "G1 = []\n",
        "with open(\"01a.la\") as f:\n",
        "  for line in f:\n",
        "    # Se verifica si hay una posición que tenga un \"-\", en caso exista\n",
        "    # significa que el nodo para esa posición no posee aristas\n",
        "    if line == \"-\\n\":\n",
        "      G1.append([])\n",
        "    else:\n",
        "      G1.append([int(x) for x in line.split()])\n",
        "\n",
        "# [[Aristas para 0], [Aristas para 1], [Aristas para 2], ...]\n",
        "print(G1)"
      ]
    },
    {
      "cell_type": "markdown",
      "metadata": {
        "id": "B8tM0-zU0NzX"
      },
      "source": [
        "Creamos una función para dibujar el grafo utilizando la libreria gv, indicando si ser un grafo dirigido o no. Si le pasamos una lista con una ruta, debera colorear dicha ruta (path)."
      ]
    },
    {
      "cell_type": "code",
      "execution_count": 8,
      "metadata": {
        "id": "fJEnWDXFaluy"
      },
      "outputs": [],
      "source": [
        "def drawG_al(G, directed=False, path=[]):\n",
        "  graph = gv.Digraph(\"di-anyname\") if directed else gv.Graph(\"anyname\")\n",
        "  n = len(G)\n",
        "  added = set()\n",
        "  for v, u in enumerate(path):\n",
        "    if u != -1:\n",
        "      graph.edge(str(u), str(v), dir=\"forward\", penwidth=\"2\", color=\"orange\")\n",
        "      added.add(f\"{u},{v}\")\n",
        "      added.add(f\"{v},{u}\")\n",
        "  for u in range(n):\n",
        "    for v in G[u]:\n",
        "      if not directed and not f\"{u},{v}\" in added:  \n",
        "        added.add(f\"{u},{v}\")\n",
        "        added.add(f\"{v},{u}\")\n",
        "        graph.edge(str(u), str(v))\n",
        "      elif directed:\n",
        "        graph.edge(str(u), str(v))\n",
        "  return graph"
      ]
    },
    {
      "cell_type": "markdown",
      "metadata": {
        "id": "QR2dYnB50Z2S"
      },
      "source": [
        "Visualizamos el grafo no dirigido del arreglo G1"
      ]
    },
    {
      "cell_type": "code",
      "execution_count": 9,
      "metadata": {
        "colab": {
          "base_uri": "https://localhost:8080/",
          "height": 368
        },
        "id": "DIzHsQjCa8Ok",
        "outputId": "487c13e4-b4db-4a40-f114-093a4f6287ae"
      },
      "outputs": [
        {
          "output_type": "execute_result",
          "data": {
            "image/svg+xml": "<?xml version=\"1.0\" encoding=\"UTF-8\" standalone=\"no\"?>\n<!DOCTYPE svg PUBLIC \"-//W3C//DTD SVG 1.1//EN\"\n \"http://www.w3.org/Graphics/SVG/1.1/DTD/svg11.dtd\">\n<!-- Generated by graphviz version 2.43.0 (0)\n -->\n<!-- Title: anyname Pages: 1 -->\n<svg width=\"244pt\" height=\"260pt\"\n viewBox=\"0.00 0.00 244.00 260.00\" xmlns=\"http://www.w3.org/2000/svg\" xmlns:xlink=\"http://www.w3.org/1999/xlink\">\n<g id=\"graph0\" class=\"graph\" transform=\"scale(1 1) rotate(0) translate(4 256)\">\n<title>anyname</title>\n<polygon fill=\"white\" stroke=\"transparent\" points=\"-4,4 -4,-256 240,-256 240,4 -4,4\"/>\n<!-- 0 -->\n<g id=\"node1\" class=\"node\">\n<title>0</title>\n<ellipse fill=\"none\" stroke=\"black\" cx=\"27\" cy=\"-234\" rx=\"27\" ry=\"18\"/>\n<text text-anchor=\"middle\" x=\"27\" y=\"-230.3\" font-family=\"Times,serif\" font-size=\"14.00\">0</text>\n</g>\n<!-- 1 -->\n<g id=\"node2\" class=\"node\">\n<title>1</title>\n<ellipse fill=\"none\" stroke=\"black\" cx=\"137\" cy=\"-162\" rx=\"27\" ry=\"18\"/>\n<text text-anchor=\"middle\" x=\"137\" y=\"-158.3\" font-family=\"Times,serif\" font-size=\"14.00\">1</text>\n</g>\n<!-- 0&#45;&#45;1 -->\n<g id=\"edge1\" class=\"edge\">\n<title>0&#45;&#45;1</title>\n<path fill=\"none\" stroke=\"black\" d=\"M46.16,-220.81C66.35,-207.96 97.95,-187.85 118.06,-175.05\"/>\n</g>\n<!-- 4 -->\n<g id=\"node3\" class=\"node\">\n<title>4</title>\n<ellipse fill=\"none\" stroke=\"black\" cx=\"27\" cy=\"-162\" rx=\"27\" ry=\"18\"/>\n<text text-anchor=\"middle\" x=\"27\" y=\"-158.3\" font-family=\"Times,serif\" font-size=\"14.00\">4</text>\n</g>\n<!-- 0&#45;&#45;4 -->\n<g id=\"edge2\" class=\"edge\">\n<title>0&#45;&#45;4</title>\n<path fill=\"none\" stroke=\"black\" d=\"M27,-215.7C27,-204.85 27,-190.92 27,-180.1\"/>\n</g>\n<!-- 3 -->\n<g id=\"node4\" class=\"node\">\n<title>3</title>\n<ellipse fill=\"none\" stroke=\"black\" cx=\"137\" cy=\"-90\" rx=\"27\" ry=\"18\"/>\n<text text-anchor=\"middle\" x=\"137\" y=\"-86.3\" font-family=\"Times,serif\" font-size=\"14.00\">3</text>\n</g>\n<!-- 1&#45;&#45;3 -->\n<g id=\"edge3\" class=\"edge\">\n<title>1&#45;&#45;3</title>\n<path fill=\"none\" stroke=\"black\" d=\"M137,-143.7C137,-132.85 137,-118.92 137,-108.1\"/>\n</g>\n<!-- 5 -->\n<g id=\"node5\" class=\"node\">\n<title>5</title>\n<ellipse fill=\"none\" stroke=\"black\" cx=\"209\" cy=\"-90\" rx=\"27\" ry=\"18\"/>\n<text text-anchor=\"middle\" x=\"209\" y=\"-86.3\" font-family=\"Times,serif\" font-size=\"14.00\">5</text>\n</g>\n<!-- 1&#45;&#45;5 -->\n<g id=\"edge4\" class=\"edge\">\n<title>1&#45;&#45;5</title>\n<path fill=\"none\" stroke=\"black\" d=\"M151.57,-146.83C163.98,-134.77 181.73,-117.51 194.2,-105.38\"/>\n</g>\n<!-- 6 -->\n<g id=\"node6\" class=\"node\">\n<title>6</title>\n<ellipse fill=\"none\" stroke=\"black\" cx=\"65\" cy=\"-90\" rx=\"27\" ry=\"18\"/>\n<text text-anchor=\"middle\" x=\"65\" y=\"-86.3\" font-family=\"Times,serif\" font-size=\"14.00\">6</text>\n</g>\n<!-- 1&#45;&#45;6 -->\n<g id=\"edge5\" class=\"edge\">\n<title>1&#45;&#45;6</title>\n<path fill=\"none\" stroke=\"black\" d=\"M122.43,-146.83C110.02,-134.77 92.27,-117.51 79.8,-105.38\"/>\n</g>\n<!-- 4&#45;&#45;6 -->\n<g id=\"edge10\" class=\"edge\">\n<title>4&#45;&#45;6</title>\n<path fill=\"none\" stroke=\"black\" d=\"M35.81,-144.76C41.95,-133.46 50.11,-118.44 56.23,-107.15\"/>\n</g>\n<!-- 7 -->\n<g id=\"node8\" class=\"node\">\n<title>7</title>\n<ellipse fill=\"none\" stroke=\"black\" cx=\"73\" cy=\"-18\" rx=\"27\" ry=\"18\"/>\n<text text-anchor=\"middle\" x=\"73\" y=\"-14.3\" font-family=\"Times,serif\" font-size=\"14.00\">7</text>\n</g>\n<!-- 4&#45;&#45;7 -->\n<g id=\"edge11\" class=\"edge\">\n<title>4&#45;&#45;7</title>\n<path fill=\"none\" stroke=\"black\" d=\"M24.15,-143.98C21.8,-125.59 20.13,-95.74 29,-72 34.69,-56.77 46.76,-42.76 56.81,-32.98\"/>\n</g>\n<!-- 3&#45;&#45;7 -->\n<g id=\"edge9\" class=\"edge\">\n<title>3&#45;&#45;7</title>\n<path fill=\"none\" stroke=\"black\" d=\"M123.43,-74.15C112.57,-62.28 97.41,-45.7 86.55,-33.82\"/>\n</g>\n<!-- 2 -->\n<g id=\"node7\" class=\"node\">\n<title>2</title>\n<ellipse fill=\"none\" stroke=\"black\" cx=\"99\" cy=\"-234\" rx=\"27\" ry=\"18\"/>\n<text text-anchor=\"middle\" x=\"99\" y=\"-230.3\" font-family=\"Times,serif\" font-size=\"14.00\">2</text>\n</g>\n<!-- 2&#45;&#45;4 -->\n<g id=\"edge6\" class=\"edge\">\n<title>2&#45;&#45;4</title>\n<path fill=\"none\" stroke=\"black\" d=\"M84.43,-218.83C72.02,-206.77 54.27,-189.51 41.8,-177.38\"/>\n</g>\n<!-- 2&#45;&#45;5 -->\n<g id=\"edge7\" class=\"edge\">\n<title>2&#45;&#45;5</title>\n<path fill=\"none\" stroke=\"black\" d=\"M120.01,-222.28C136.37,-213.02 158.63,-198.25 173,-180 190.22,-158.13 200.29,-126.92 205.21,-107.86\"/>\n</g>\n<!-- 2&#45;&#45;6 -->\n<g id=\"edge8\" class=\"edge\">\n<title>2&#45;&#45;6</title>\n<path fill=\"none\" stroke=\"black\" d=\"M94.97,-216.15C88.42,-188.82 75.57,-135.14 69.03,-107.82\"/>\n</g>\n</g>\n</svg>\n",
            "text/plain": [
              "<graphviz.graphs.Graph at 0x7fa50e6add80>"
            ]
          },
          "metadata": {},
          "execution_count": 9
        }
      ],
      "source": [
        "drawG_al(G1)"
      ]
    },
    {
      "cell_type": "markdown",
      "metadata": {
        "id": "qm_hEuP80g1w"
      },
      "source": [
        "Hacemos una busqueda en amplitud (BFS) del grafo no dirigido G1 partiendo del nodo 5 (retorna una cola de nodos visitados en la variable path)."
      ]
    },
    {
      "cell_type": "code",
      "execution_count": 10,
      "metadata": {
        "colab": {
          "base_uri": "https://localhost:8080/"
        },
        "id": "Upq1I6Msa9KC",
        "outputId": "eec9bdae-7d11-4325-e846-074effa648e9"
      },
      "outputs": [
        {
          "output_type": "execute_result",
          "data": {
            "text/plain": [
              "[1, 5, 5, 1, 2, -1, 1, 3]"
            ]
          },
          "metadata": {},
          "execution_count": 10
        }
      ],
      "source": [
        "path = bfs_al(G1, 5)\n",
        "path"
      ]
    },
    {
      "cell_type": "code",
      "execution_count": 11,
      "metadata": {
        "colab": {
          "base_uri": "https://localhost:8080/",
          "height": 464
        },
        "id": "ZIHLnf41c_0Z",
        "outputId": "7d78a218-5d92-4c86-da9b-8a44b80e240b"
      },
      "outputs": [
        {
          "output_type": "execute_result",
          "data": {
            "image/svg+xml": "<?xml version=\"1.0\" encoding=\"UTF-8\" standalone=\"no\"?>\n<!DOCTYPE svg PUBLIC \"-//W3C//DTD SVG 1.1//EN\"\n \"http://www.w3.org/Graphics/SVG/1.1/DTD/svg11.dtd\">\n<!-- Generated by graphviz version 2.43.0 (0)\n -->\n<!-- Title: anyname Pages: 1 -->\n<svg width=\"244pt\" height=\"332pt\"\n viewBox=\"0.00 0.00 244.00 332.00\" xmlns=\"http://www.w3.org/2000/svg\" xmlns:xlink=\"http://www.w3.org/1999/xlink\">\n<g id=\"graph0\" class=\"graph\" transform=\"scale(1 1) rotate(0) translate(4 328)\">\n<title>anyname</title>\n<polygon fill=\"white\" stroke=\"transparent\" points=\"-4,4 -4,-328 240,-328 240,4 -4,4\"/>\n<!-- 1 -->\n<g id=\"node1\" class=\"node\">\n<title>1</title>\n<ellipse fill=\"none\" stroke=\"black\" cx=\"109\" cy=\"-234\" rx=\"27\" ry=\"18\"/>\n<text text-anchor=\"middle\" x=\"109\" y=\"-230.3\" font-family=\"Times,serif\" font-size=\"14.00\">1</text>\n</g>\n<!-- 0 -->\n<g id=\"node2\" class=\"node\">\n<title>0</title>\n<ellipse fill=\"none\" stroke=\"black\" cx=\"137\" cy=\"-162\" rx=\"27\" ry=\"18\"/>\n<text text-anchor=\"middle\" x=\"137\" y=\"-158.3\" font-family=\"Times,serif\" font-size=\"14.00\">0</text>\n</g>\n<!-- 1&#45;&#45;0 -->\n<g id=\"edge1\" class=\"edge\">\n<title>1&#45;&#45;0</title>\n<path fill=\"none\" stroke=\"orange\" stroke-width=\"2\" d=\"M115.64,-216.41C118.91,-208.22 122.94,-198.14 126.62,-188.95\"/>\n<polygon fill=\"orange\" stroke=\"orange\" stroke-width=\"2\" points=\"129.95,-190.05 130.41,-179.47 123.45,-187.45 129.95,-190.05\"/>\n</g>\n<!-- 3 -->\n<g id=\"node5\" class=\"node\">\n<title>3</title>\n<ellipse fill=\"none\" stroke=\"black\" cx=\"209\" cy=\"-90\" rx=\"27\" ry=\"18\"/>\n<text text-anchor=\"middle\" x=\"209\" y=\"-86.3\" font-family=\"Times,serif\" font-size=\"14.00\">3</text>\n</g>\n<!-- 1&#45;&#45;3 -->\n<g id=\"edge4\" class=\"edge\">\n<title>1&#45;&#45;3</title>\n<path fill=\"none\" stroke=\"orange\" stroke-width=\"2\" d=\"M127.99,-221.07C142.02,-211.44 160.73,-196.76 173,-180 186.79,-161.16 196.26,-136.29 202.02,-117.64\"/>\n<polygon fill=\"orange\" stroke=\"orange\" stroke-width=\"2\" points=\"205.39,-118.57 204.84,-107.99 198.68,-116.6 205.39,-118.57\"/>\n</g>\n<!-- 6 -->\n<g id=\"node7\" class=\"node\">\n<title>6</title>\n<ellipse fill=\"none\" stroke=\"black\" cx=\"82\" cy=\"-18\" rx=\"27\" ry=\"18\"/>\n<text text-anchor=\"middle\" x=\"82\" y=\"-14.3\" font-family=\"Times,serif\" font-size=\"14.00\">6</text>\n</g>\n<!-- 1&#45;&#45;6 -->\n<g id=\"edge6\" class=\"edge\">\n<title>1&#45;&#45;6</title>\n<path fill=\"none\" stroke=\"orange\" stroke-width=\"2\" d=\"M106.27,-215.83C104.65,-205.47 102.61,-191.99 101,-180 94.7,-133.14 88.49,-78.44 84.96,-46.38\"/>\n<polygon fill=\"orange\" stroke=\"orange\" stroke-width=\"2\" points=\"88.43,-45.98 83.87,-36.42 81.48,-46.74 88.43,-45.98\"/>\n</g>\n<!-- 4 -->\n<g id=\"node6\" class=\"node\">\n<title>4</title>\n<ellipse fill=\"none\" stroke=\"black\" cx=\"137\" cy=\"-90\" rx=\"27\" ry=\"18\"/>\n<text text-anchor=\"middle\" x=\"137\" y=\"-86.3\" font-family=\"Times,serif\" font-size=\"14.00\">4</text>\n</g>\n<!-- 0&#45;&#45;4 -->\n<g id=\"edge8\" class=\"edge\">\n<title>0&#45;&#45;4</title>\n<path fill=\"none\" stroke=\"black\" d=\"M137,-143.7C137,-132.85 137,-118.92 137,-108.1\"/>\n</g>\n<!-- 5 -->\n<g id=\"node3\" class=\"node\">\n<title>5</title>\n<ellipse fill=\"none\" stroke=\"black\" cx=\"81\" cy=\"-306\" rx=\"27\" ry=\"18\"/>\n<text text-anchor=\"middle\" x=\"81\" y=\"-302.3\" font-family=\"Times,serif\" font-size=\"14.00\">5</text>\n</g>\n<!-- 5&#45;&#45;1 -->\n<g id=\"edge2\" class=\"edge\">\n<title>5&#45;&#45;1</title>\n<path fill=\"none\" stroke=\"orange\" stroke-width=\"2\" d=\"M87.64,-288.41C90.91,-280.22 94.94,-270.14 98.62,-260.95\"/>\n<polygon fill=\"orange\" stroke=\"orange\" stroke-width=\"2\" points=\"101.95,-262.05 102.41,-251.47 95.45,-259.45 101.95,-262.05\"/>\n</g>\n<!-- 2 -->\n<g id=\"node4\" class=\"node\">\n<title>2</title>\n<ellipse fill=\"none\" stroke=\"black\" cx=\"27\" cy=\"-162\" rx=\"27\" ry=\"18\"/>\n<text text-anchor=\"middle\" x=\"27\" y=\"-158.3\" font-family=\"Times,serif\" font-size=\"14.00\">2</text>\n</g>\n<!-- 5&#45;&#45;2 -->\n<g id=\"edge3\" class=\"edge\">\n<title>5&#45;&#45;2</title>\n<path fill=\"none\" stroke=\"orange\" stroke-width=\"2\" d=\"M74.7,-288.43C65.44,-264.09 48.07,-218.4 37.04,-189.4\"/>\n<polygon fill=\"orange\" stroke=\"orange\" stroke-width=\"2\" points=\"40.25,-188 33.43,-179.9 33.71,-190.49 40.25,-188\"/>\n</g>\n<!-- 2&#45;&#45;4 -->\n<g id=\"edge5\" class=\"edge\">\n<title>2&#45;&#45;4</title>\n<path fill=\"none\" stroke=\"orange\" stroke-width=\"2\" d=\"M46.16,-148.81C63.67,-137.67 89.76,-121.06 109.49,-108.5\"/>\n<polygon fill=\"orange\" stroke=\"orange\" stroke-width=\"2\" points=\"111.5,-111.37 118.06,-103.05 107.74,-105.47 111.5,-111.37\"/>\n</g>\n<!-- 2&#45;&#45;6 -->\n<g id=\"edge9\" class=\"edge\">\n<title>2&#45;&#45;6</title>\n<path fill=\"none\" stroke=\"black\" d=\"M33.42,-144.43C43.96,-117.22 64.83,-63.33 75.45,-35.9\"/>\n</g>\n<!-- 7 -->\n<g id=\"node8\" class=\"node\">\n<title>7</title>\n<ellipse fill=\"none\" stroke=\"black\" cx=\"181\" cy=\"-18\" rx=\"27\" ry=\"18\"/>\n<text text-anchor=\"middle\" x=\"181\" y=\"-14.3\" font-family=\"Times,serif\" font-size=\"14.00\">7</text>\n</g>\n<!-- 3&#45;&#45;7 -->\n<g id=\"edge7\" class=\"edge\">\n<title>3&#45;&#45;7</title>\n<path fill=\"none\" stroke=\"orange\" stroke-width=\"2\" d=\"M202.36,-72.41C199.09,-64.22 195.06,-54.14 191.38,-44.95\"/>\n<polygon fill=\"orange\" stroke=\"orange\" stroke-width=\"2\" points=\"194.55,-43.45 187.59,-35.47 188.05,-46.05 194.55,-43.45\"/>\n</g>\n<!-- 4&#45;&#45;6 -->\n<g id=\"edge10\" class=\"edge\">\n<title>4&#45;&#45;6</title>\n<path fill=\"none\" stroke=\"black\" d=\"M125.07,-73.81C115.84,-62.07 103.13,-45.89 93.91,-34.16\"/>\n</g>\n<!-- 4&#45;&#45;7 -->\n<g id=\"edge11\" class=\"edge\">\n<title>4&#45;&#45;7</title>\n<path fill=\"none\" stroke=\"black\" d=\"M146.98,-73.12C154.19,-61.66 163.86,-46.26 171.06,-34.82\"/>\n</g>\n</g>\n</svg>\n",
            "text/plain": [
              "<graphviz.graphs.Graph at 0x7fa50c390bb0>"
            ]
          },
          "metadata": {},
          "execution_count": 11
        }
      ],
      "source": [
        "drawG_al(G1, path=path)"
      ]
    }
  ],
  "metadata": {
    "colab": {
      "provenance": []
    },
    "kernelspec": {
      "display_name": "Python 3 (ipykernel)",
      "language": "python",
      "name": "python3"
    },
    "language_info": {
      "codemirror_mode": {
        "name": "ipython",
        "version": 3
      },
      "file_extension": ".py",
      "mimetype": "text/x-python",
      "name": "python",
      "nbconvert_exporter": "python",
      "pygments_lexer": "ipython3",
      "version": "3.11.2"
    }
  },
  "nbformat": 4,
  "nbformat_minor": 0
}