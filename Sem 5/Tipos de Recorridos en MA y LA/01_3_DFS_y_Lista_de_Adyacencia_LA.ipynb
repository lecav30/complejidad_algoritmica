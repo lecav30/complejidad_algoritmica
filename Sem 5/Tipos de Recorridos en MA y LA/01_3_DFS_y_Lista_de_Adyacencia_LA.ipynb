{
  "cells": [
    {
      "cell_type": "markdown",
      "metadata": {
        "id": "atClcMx92fLh"
      },
      "source": [
        "# **BUSQUEDA EN PROFUNDIDAD EN UNA LISTA DE ADYACENCIA**"
      ]
    },
    {
      "cell_type": "markdown",
      "metadata": {
        "id": "GUKO1kRN2zvR"
      },
      "source": [
        "### **Función DFS para recorrer una LA**"
      ]
    },
    {
      "cell_type": "code",
      "execution_count": 1,
      "metadata": {
        "id": "3s27546qn-FV"
      },
      "outputs": [],
      "source": [
        "import graphviz as gv"
      ]
    },
    {
      "cell_type": "code",
      "execution_count": 2,
      "metadata": {
        "id": "dVfjrph-nOPh"
      },
      "outputs": [],
      "source": [
        "def dfs(G, s):\n",
        "  n = len(G)\n",
        "  path = [-1]*n\n",
        "  visited = [False]*n\n",
        "\n",
        "  def _dfs(u):\n",
        "    visited[u] = True\n",
        "    for v in G[u]:\n",
        "      if not visited[v]:\n",
        "        path[v] = u\n",
        "        _dfs(v)\n",
        "\n",
        "  _dfs(s)\n",
        "  return path"
      ]
    },
    {
      "cell_type": "markdown",
      "metadata": {
        "id": "TY8AaC_s292o"
      },
      "source": [
        "Generamos una LA segun el siguiente texto:"
      ]
    },
    {
      "cell_type": "code",
      "execution_count": 3,
      "metadata": {
        "colab": {
          "base_uri": "https://localhost:8080/"
        },
        "id": "LwZpKJ8Vnm5Q",
        "outputId": "8e1f0eab-5b6a-4a8f-f7a4-42b067d2592c"
      },
      "outputs": [
        {
          "output_type": "stream",
          "name": "stdout",
          "text": [
            "Writing 03a.la\n"
          ]
        }
      ],
      "source": [
        "%%file 03a.la\n",
        "1 4\n",
        "0 3 5 6\n",
        "4 5 6\n",
        "1 7\n",
        "0 2 6 7\n",
        "1 2\n",
        "1 2 4\n",
        "3 4"
      ]
    },
    {
      "cell_type": "markdown",
      "metadata": {
        "id": "E4K2MU2gxXdo"
      },
      "source": [
        "Cargamos la LA generada desde el archivo 03a.la a un arreglo tipo numpy en la variable G1"
      ]
    },
    {
      "cell_type": "code",
      "execution_count": 4,
      "metadata": {
        "colab": {
          "base_uri": "https://localhost:8080/"
        },
        "id": "gPd2cKiPntSR",
        "outputId": "475da7f2-541e-4bd5-a64f-d9ae340558a4"
      },
      "outputs": [
        {
          "output_type": "stream",
          "name": "stdout",
          "text": [
            "[[1, 4], [0, 3, 5, 6], [4, 5, 6], [1, 7], [0, 2, 6, 7], [1, 2], [1, 2, 4], [3, 4]]\n"
          ]
        }
      ],
      "source": [
        "G1 = []\n",
        "with open(\"03a.la\") as f:\n",
        "  for line in f:\n",
        "    if line == \"-\\n\":\n",
        "      G1.append([])\n",
        "    else:\n",
        "      G1.append([int(x) for x in line.split()])\n",
        "\n",
        "print(G1)"
      ]
    },
    {
      "cell_type": "code",
      "execution_count": 5,
      "metadata": {
        "colab": {
          "base_uri": "https://localhost:8080/"
        },
        "id": "Ag3tn335nwlg",
        "outputId": "d0996a0c-5fb1-4663-8b89-98372bff0391"
      },
      "outputs": [
        {
          "output_type": "execute_result",
          "data": {
            "text/plain": [
              "[1, 5, 4, 7, 0, -1, 2, 4]"
            ]
          },
          "metadata": {},
          "execution_count": 5
        }
      ],
      "source": [
        "path = dfs(G1, 5)\n",
        "path"
      ]
    },
    {
      "cell_type": "markdown",
      "metadata": {
        "id": "naZGZh2_xmm4"
      },
      "source": [
        "Creamos una función para dibujar el grafo utilizando la libreria gv, indicando si ser un grafo dirigido o no. Si le pasamos una lista con una ruta, debera colorear dicha ruta (path)."
      ]
    },
    {
      "cell_type": "code",
      "execution_count": 6,
      "metadata": {
        "id": "oHKfwqQVn1Is"
      },
      "outputs": [],
      "source": [
        "def drawG_al(G, directed=False, path=[]):\n",
        "  graph = gv.Digraph(\"di-anyname\") if directed else gv.Graph(\"anyname\")\n",
        "  n = len(G)\n",
        "  added = set()\n",
        "  for v, u in enumerate(path):\n",
        "    if u != -1:\n",
        "      graph.edge(str(u), str(v), dir=\"forward\", penwidth=\"2\", color=\"orange\")\n",
        "      added.add(f\"{u},{v}\")\n",
        "      added.add(f\"{v},{u}\")\n",
        "  for u in range(n):\n",
        "    for v in G[u]:\n",
        "      if not directed and not f\"{u},{v}\" in added:  \n",
        "        added.add(f\"{u},{v}\")\n",
        "        added.add(f\"{v},{u}\")\n",
        "        graph.edge(str(u), str(v))\n",
        "      elif directed:\n",
        "        graph.edge(str(u), str(v))\n",
        "  return graph"
      ]
    },
    {
      "cell_type": "markdown",
      "metadata": {
        "id": "OKQENCzlxy6w"
      },
      "source": [
        "Visualizamos el grafo no dirigido del arreglo G1"
      ]
    },
    {
      "cell_type": "code",
      "execution_count": 7,
      "metadata": {
        "colab": {
          "base_uri": "https://localhost:8080/",
          "height": 464
        },
        "id": "kTWFHKnwn6OO",
        "outputId": "3a4636b4-04e6-46bd-fae0-2df0bb89628f"
      },
      "outputs": [
        {
          "output_type": "execute_result",
          "data": {
            "image/svg+xml": "<?xml version=\"1.0\" encoding=\"UTF-8\" standalone=\"no\"?>\n<!DOCTYPE svg PUBLIC \"-//W3C//DTD SVG 1.1//EN\"\n \"http://www.w3.org/Graphics/SVG/1.1/DTD/svg11.dtd\">\n<!-- Generated by graphviz version 2.43.0 (0)\n -->\n<!-- Title: anyname Pages: 1 -->\n<svg width=\"263pt\" height=\"332pt\"\n viewBox=\"0.00 0.00 263.00 332.00\" xmlns=\"http://www.w3.org/2000/svg\" xmlns:xlink=\"http://www.w3.org/1999/xlink\">\n<g id=\"graph0\" class=\"graph\" transform=\"scale(1 1) rotate(0) translate(4 328)\">\n<title>anyname</title>\n<polygon fill=\"white\" stroke=\"transparent\" points=\"-4,4 -4,-328 259,-328 259,4 -4,4\"/>\n<!-- 1 -->\n<g id=\"node1\" class=\"node\">\n<title>1</title>\n<ellipse fill=\"none\" stroke=\"black\" cx=\"109\" cy=\"-306\" rx=\"27\" ry=\"18\"/>\n<text text-anchor=\"middle\" x=\"109\" y=\"-302.3\" font-family=\"Times,serif\" font-size=\"14.00\">1</text>\n</g>\n<!-- 0 -->\n<g id=\"node2\" class=\"node\">\n<title>0</title>\n<ellipse fill=\"none\" stroke=\"black\" cx=\"125\" cy=\"-234\" rx=\"27\" ry=\"18\"/>\n<text text-anchor=\"middle\" x=\"125\" y=\"-230.3\" font-family=\"Times,serif\" font-size=\"14.00\">0</text>\n</g>\n<!-- 1&#45;&#45;0 -->\n<g id=\"edge1\" class=\"edge\">\n<title>1&#45;&#45;0</title>\n<path fill=\"none\" stroke=\"orange\" stroke-width=\"2\" d=\"M112.87,-288.05C114.65,-280.26 116.81,-270.82 118.81,-262.08\"/>\n<polygon fill=\"orange\" stroke=\"orange\" stroke-width=\"2\" points=\"122.24,-262.8 121.05,-252.28 115.41,-261.24 122.24,-262.8\"/>\n</g>\n<!-- 3 -->\n<g id=\"node7\" class=\"node\">\n<title>3</title>\n<ellipse fill=\"none\" stroke=\"black\" cx=\"27\" cy=\"-18\" rx=\"27\" ry=\"18\"/>\n<text text-anchor=\"middle\" x=\"27\" y=\"-14.3\" font-family=\"Times,serif\" font-size=\"14.00\">3</text>\n</g>\n<!-- 1&#45;&#45;3 -->\n<g id=\"edge8\" class=\"edge\">\n<title>1&#45;&#45;3</title>\n<path fill=\"none\" stroke=\"black\" d=\"M93.1,-291.27C82.68,-281.38 69.62,-267.17 62,-252 25.01,-178.34 24.57,-76.29 26.05,-36.17\"/>\n</g>\n<!-- 6 -->\n<g id=\"node8\" class=\"node\">\n<title>6</title>\n<ellipse fill=\"none\" stroke=\"black\" cx=\"228\" cy=\"-18\" rx=\"27\" ry=\"18\"/>\n<text text-anchor=\"middle\" x=\"228\" y=\"-14.3\" font-family=\"Times,serif\" font-size=\"14.00\">6</text>\n</g>\n<!-- 1&#45;&#45;6 -->\n<g id=\"edge9\" class=\"edge\">\n<title>1&#45;&#45;6</title>\n<path fill=\"none\" stroke=\"black\" d=\"M125,-291.34C136.1,-281.27 150.68,-266.81 161,-252 201.46,-193.93 213.51,-177.06 229,-108 234.51,-83.42 232.6,-54.06 230.48,-35.97\"/>\n</g>\n<!-- 4 -->\n<g id=\"node4\" class=\"node\">\n<title>4</title>\n<ellipse fill=\"none\" stroke=\"black\" cx=\"141\" cy=\"-162\" rx=\"27\" ry=\"18\"/>\n<text text-anchor=\"middle\" x=\"141\" y=\"-158.3\" font-family=\"Times,serif\" font-size=\"14.00\">4</text>\n</g>\n<!-- 0&#45;&#45;4 -->\n<g id=\"edge5\" class=\"edge\">\n<title>0&#45;&#45;4</title>\n<path fill=\"none\" stroke=\"orange\" stroke-width=\"2\" d=\"M128.87,-216.05C130.65,-208.26 132.81,-198.82 134.81,-190.08\"/>\n<polygon fill=\"orange\" stroke=\"orange\" stroke-width=\"2\" points=\"138.24,-190.8 137.05,-180.28 131.41,-189.24 138.24,-190.8\"/>\n</g>\n<!-- 5 -->\n<g id=\"node3\" class=\"node\">\n<title>5</title>\n<ellipse fill=\"none\" stroke=\"black\" cx=\"137\" cy=\"-18\" rx=\"27\" ry=\"18\"/>\n<text text-anchor=\"middle\" x=\"137\" y=\"-14.3\" font-family=\"Times,serif\" font-size=\"14.00\">5</text>\n</g>\n<!-- 5&#45;&#45;1 -->\n<g id=\"edge2\" class=\"edge\">\n<title>5&#45;&#45;1</title>\n<path fill=\"none\" stroke=\"orange\" stroke-width=\"2\" d=\"M114.9,-28.39C97.81,-36.99 75.37,-51.5 65,-72 29.78,-141.65 70.86,-235.93 94.54,-280.16\"/>\n<polygon fill=\"orange\" stroke=\"orange\" stroke-width=\"2\" points=\"91.55,-281.98 99.44,-289.05 97.68,-278.61 91.55,-281.98\"/>\n</g>\n<!-- 2 -->\n<g id=\"node5\" class=\"node\">\n<title>2</title>\n<ellipse fill=\"none\" stroke=\"black\" cx=\"173\" cy=\"-90\" rx=\"27\" ry=\"18\"/>\n<text text-anchor=\"middle\" x=\"173\" y=\"-86.3\" font-family=\"Times,serif\" font-size=\"14.00\">2</text>\n</g>\n<!-- 4&#45;&#45;2 -->\n<g id=\"edge3\" class=\"edge\">\n<title>4&#45;&#45;2</title>\n<path fill=\"none\" stroke=\"orange\" stroke-width=\"2\" d=\"M148.58,-144.41C152.37,-136.13 157.03,-125.92 161.27,-116.66\"/>\n<polygon fill=\"orange\" stroke=\"orange\" stroke-width=\"2\" points=\"164.5,-118.02 165.47,-107.47 158.13,-115.11 164.5,-118.02\"/>\n</g>\n<!-- 7 -->\n<g id=\"node6\" class=\"node\">\n<title>7</title>\n<ellipse fill=\"none\" stroke=\"black\" cx=\"101\" cy=\"-90\" rx=\"27\" ry=\"18\"/>\n<text text-anchor=\"middle\" x=\"101\" y=\"-86.3\" font-family=\"Times,serif\" font-size=\"14.00\">7</text>\n</g>\n<!-- 4&#45;&#45;7 -->\n<g id=\"edge7\" class=\"edge\">\n<title>4&#45;&#45;7</title>\n<path fill=\"none\" stroke=\"orange\" stroke-width=\"2\" d=\"M131.72,-144.76C126.83,-136.19 120.71,-125.49 115.23,-115.9\"/>\n<polygon fill=\"orange\" stroke=\"orange\" stroke-width=\"2\" points=\"118.23,-114.09 110.23,-107.15 112.15,-117.57 118.23,-114.09\"/>\n</g>\n<!-- 4&#45;&#45;6 -->\n<g id=\"edge11\" class=\"edge\">\n<title>4&#45;&#45;6</title>\n<path fill=\"none\" stroke=\"black\" d=\"M161.77,-150.12C177.19,-140.95 197.48,-126.39 209,-108 222.92,-85.77 226.78,-54.95 227.77,-36.02\"/>\n</g>\n<!-- 2&#45;&#45;5 -->\n<g id=\"edge10\" class=\"edge\">\n<title>2&#45;&#45;5</title>\n<path fill=\"none\" stroke=\"black\" d=\"M164.65,-72.76C158.83,-61.46 151.11,-46.44 145.3,-35.15\"/>\n</g>\n<!-- 2&#45;&#45;6 -->\n<g id=\"edge6\" class=\"edge\">\n<title>2&#45;&#45;6</title>\n<path fill=\"none\" stroke=\"orange\" stroke-width=\"2\" d=\"M184.93,-73.81C192.21,-64.55 201.66,-52.52 209.85,-42.09\"/>\n<polygon fill=\"orange\" stroke=\"orange\" stroke-width=\"2\" points=\"212.66,-44.18 216.09,-34.16 207.16,-39.86 212.66,-44.18\"/>\n</g>\n<!-- 7&#45;&#45;3 -->\n<g id=\"edge4\" class=\"edge\">\n<title>7&#45;&#45;3</title>\n<path fill=\"none\" stroke=\"orange\" stroke-width=\"2\" d=\"M86.02,-74.83C75.49,-64.87 61.22,-51.37 49.34,-40.14\"/>\n<polygon fill=\"orange\" stroke=\"orange\" stroke-width=\"2\" points=\"51.62,-37.47 41.95,-33.14 46.81,-42.56 51.62,-37.47\"/>\n</g>\n</g>\n</svg>\n",
            "text/plain": [
              "<graphviz.graphs.Graph at 0x7f727c0aa430>"
            ]
          },
          "metadata": {},
          "execution_count": 7
        }
      ],
      "source": [
        "drawG_al(G1, path=path)"
      ]
    }
  ],
  "metadata": {
    "colab": {
      "provenance": []
    },
    "kernelspec": {
      "display_name": "Python 3",
      "name": "python3"
    },
    "language_info": {
      "codemirror_mode": {
        "name": "ipython",
        "version": 3
      },
      "file_extension": ".py",
      "mimetype": "text/x-python",
      "name": "python",
      "nbconvert_exporter": "python",
      "pygments_lexer": "ipython3",
      "version": "3.11.2"
    }
  },
  "nbformat": 4,
  "nbformat_minor": 0
}