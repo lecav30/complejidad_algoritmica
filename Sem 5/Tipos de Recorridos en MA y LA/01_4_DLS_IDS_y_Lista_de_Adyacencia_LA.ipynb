{
  "nbformat": 4,
  "nbformat_minor": 0,
  "metadata": {
    "colab": {
      "provenance": []
    },
    "kernelspec": {
      "name": "python3",
      "display_name": "Python 3"
    },
    "language_info": {
      "name": "python"
    }
  },
  "cells": [
    {
      "cell_type": "code",
      "source": [
        "import graphviz as gv"
      ],
      "metadata": {
        "id": "sm_P1JGqWDtz"
      },
      "execution_count": 13,
      "outputs": []
    },
    {
      "cell_type": "markdown",
      "source": [
        "# **Recorrido en Profundidad Limitada (DLS)**\n",
        "\n",
        "Mediante este tipo de recorrido logramos:\n",
        "\n",
        "*   Limitar la profundidad máxima de una ruta para la búsqueda por profundidad (DFS)\n",
        "*   Establecer un límite sin conocer mucho sobre el espacio de estados.\n",
        "*   Obtener un resultado que puede no ser completa ni óptima:\n",
        "> *   Un límite muy pequeño puede no contener la solución.\n",
        "> *   Un limite muy grande puede contener muchas soluciones no óptimas.\n",
        "\n",
        "\n",
        "\n",
        "\n",
        "\n",
        "\n"
      ],
      "metadata": {
        "id": "kJM9f8DSygZB"
      }
    },
    {
      "cell_type": "markdown",
      "source": [
        "### **Funcion DLS**"
      ],
      "metadata": {
        "id": "pYTnWC3szv0w"
      }
    },
    {
      "cell_type": "code",
      "execution_count": 14,
      "metadata": {
        "id": "x8XTM9sSU9xx"
      },
      "outputs": [],
      "source": [
        "# A diferencia del DFS, este algoritmo añade un parámetro extra para el límite\n",
        "def dls(G, s, L):\n",
        "  n = len(G)\n",
        "  visited = [False]*n\n",
        "  path = [-1]*n\n",
        "\n",
        "  def _dls(u, L):\n",
        "    if L > 0 and not visited[u]:\n",
        "      visited[u] = True\n",
        "      for v in G[u]:\n",
        "        if not visited[v]:\n",
        "          path[v] = u\n",
        "          _dls(v, L - 1)\n",
        "\n",
        "  _dls(s, L)\n",
        "  return path"
      ]
    },
    {
      "cell_type": "markdown",
      "source": [
        "Creamos una función para dibujar el grafo utilizando la libreria gv, indicando si ser un grafo dirigido o no. Si le pasamos una lista con una ruta, debera colorear dicha ruta (path)."
      ],
      "metadata": {
        "id": "mirJ7OeX0Ox4"
      }
    },
    {
      "cell_type": "code",
      "source": [
        "def drawG_al(G, directed=False, weighted=False, path=[], layout=\"sfdp\"):\n",
        "  graph = gv.Digraph(\"di-anyname\") if directed else gv.Graph(\"anyname\")\n",
        "  graph.graph_attr[\"layout\"] = layout\n",
        "  graph.edge_attr[\"color\"] = \"gray\"\n",
        "  graph.node_attr[\"color\"] = \"orangered\"\n",
        "  graph.node_attr[\"width\"] = \"0.1\"\n",
        "  graph.node_attr[\"height\"] = \"0.1\"\n",
        "  graph.node_attr[\"fontsize\"] = \"8\"\n",
        "  graph.node_attr[\"fontcolor\"] = \"mediumslateblue\"\n",
        "  graph.node_attr[\"fontname\"] = \"monospace\"\n",
        "  graph.edge_attr[\"fontsize\"] = \"8\"\n",
        "  graph.edge_attr[\"fontname\"] = \"monospace\"\n",
        "  n = len(G)\n",
        "  added = set()\n",
        "  for v, u in enumerate(path):\n",
        "    if u != -1:\n",
        "      if weighted:\n",
        "        for vi, w in G[u]:\n",
        "          if vi == v:\n",
        "            break\n",
        "        graph.edge(str(u), str(v), str(w), dir=\"forward\", penwidth=\"2\", color=\"orange\")\n",
        "      else:\n",
        "        graph.edge(str(u), str(v), dir=\"forward\", penwidth=\"2\", color=\"orange\")\n",
        "      added.add(f\"{u},{v}\")\n",
        "      added.add(f\"{v},{u}\")\n",
        "  for u in range(n):\n",
        "    for edge in G[u]:\n",
        "      if weighted:\n",
        "        v, w = edge\n",
        "      else:\n",
        "        v = edge\n",
        "      draw = False\n",
        "      if not directed and not f\"{u},{v}\" in added:\n",
        "        added.add(f\"{u},{v}\")\n",
        "        added.add(f\"{v},{u}\")\n",
        "        draw = True\n",
        "      elif directed and not f\"{u},{v}\" in added:\n",
        "        added.add(f\"{u},{v}\")\n",
        "        draw = True\n",
        "      if draw:\n",
        "        if weighted:\n",
        "          graph.edge(str(u), str(v), str(w))\n",
        "        else:\n",
        "          graph.edge(str(u), str(v))\n",
        "  return graph"
      ],
      "metadata": {
        "id": "SuedcxC1WJYE"
      },
      "execution_count": 15,
      "outputs": []
    },
    {
      "cell_type": "markdown",
      "source": [
        "Generamos una LA segun el siguiente texto:"
      ],
      "metadata": {
        "id": "YtSZaoaX01FI"
      }
    },
    {
      "cell_type": "code",
      "source": [
        "%%file 04a.la\n",
        "1 4\n",
        "-\n",
        "-\n",
        "2 6 17\n",
        "7\n",
        "2\n",
        "10\n",
        "0 8\n",
        "4\n",
        "8\n",
        "-\n",
        "8 14\n",
        "16\n",
        "9 17\n",
        "15\n",
        "11 17\n",
        "15 17\n",
        "13"
      ],
      "metadata": {
        "colab": {
          "base_uri": "https://localhost:8080/"
        },
        "id": "BQZk3PrZWMXQ",
        "outputId": "0a132ef9-e361-406a-94f0-68ffe19b5af7"
      },
      "execution_count": 16,
      "outputs": [
        {
          "output_type": "stream",
          "name": "stdout",
          "text": [
            "Overwriting 04a.la\n"
          ]
        }
      ]
    },
    {
      "cell_type": "markdown",
      "source": [
        "Cargamos la LA generada desde el archivo 04a.la a un arreglo tipo numpy en la variable G"
      ],
      "metadata": {
        "id": "d59wXBec1Hrx"
      }
    },
    {
      "cell_type": "code",
      "source": [
        "with open(\"04a.la\") as f:\n",
        "  G = []\n",
        "  for line in f:\n",
        "    if line == \"-\\n\":\n",
        "      G.append([])\n",
        "    else:\n",
        "      G.append([int(x) for x in line.split()])\n",
        "\n",
        "for x in G:\n",
        "  print(x)\n",
        "  \n",
        "print(G)"
      ],
      "metadata": {
        "colab": {
          "base_uri": "https://localhost:8080/"
        },
        "id": "UPPJJUSJWx5o",
        "outputId": "7b9fb743-462b-49b1-b2ca-8f4aaa9db95b"
      },
      "execution_count": 25,
      "outputs": [
        {
          "output_type": "stream",
          "name": "stdout",
          "text": [
            "[1, 4]\n",
            "[]\n",
            "[]\n",
            "[2, 6, 17]\n",
            "[7]\n",
            "[2]\n",
            "[10]\n",
            "[0, 8]\n",
            "[4]\n",
            "[8]\n",
            "[]\n",
            "[8, 14]\n",
            "[16]\n",
            "[9, 17]\n",
            "[15]\n",
            "[11, 17]\n",
            "[15, 17]\n",
            "[13]\n",
            "[[1, 4], [], [], [2, 6, 17], [7], [2], [10], [0, 8], [4], [8], [], [8, 14], [16], [9, 17], [15], [11, 17], [15, 17], [13]]\n"
          ]
        }
      ]
    },
    {
      "cell_type": "markdown",
      "source": [
        "Visualizamos el grafo dirigido de la lista G"
      ],
      "metadata": {
        "id": "d4m5EbIW1UOZ"
      }
    },
    {
      "cell_type": "code",
      "source": [
        "drawG_al(G, directed=True, layout=\"neato\")"
      ],
      "metadata": {
        "colab": {
          "base_uri": "https://localhost:8080/",
          "height": 833
        },
        "id": "2y_esvwIXEj4",
        "outputId": "d5cef571-c81f-4397-9af9-01f6c1bc8b5d"
      },
      "execution_count": 18,
      "outputs": [
        {
          "output_type": "execute_result",
          "data": {
            "image/svg+xml": "<?xml version=\"1.0\" encoding=\"UTF-8\" standalone=\"no\"?>\n<!DOCTYPE svg PUBLIC \"-//W3C//DTD SVG 1.1//EN\"\n \"http://www.w3.org/Graphics/SVG/1.1/DTD/svg11.dtd\">\n<!-- Generated by graphviz version 2.43.0 (0)\n -->\n<!-- Title: di&#45;anyname Pages: 1 -->\n<svg width=\"464pt\" height=\"609pt\"\n viewBox=\"0.00 0.00 463.91 608.56\" xmlns=\"http://www.w3.org/2000/svg\" xmlns:xlink=\"http://www.w3.org/1999/xlink\">\n<g id=\"graph0\" class=\"graph\" transform=\"scale(1 1) rotate(0) translate(4 604.56)\">\n<title>di&#45;anyname</title>\n<polygon fill=\"white\" stroke=\"transparent\" points=\"-4,4 -4,-604.56 459.91,-604.56 459.91,4 -4,4\"/>\n<!-- 0 -->\n<g id=\"node1\" class=\"node\">\n<title>0</title>\n<ellipse fill=\"none\" stroke=\"orangered\" cx=\"399.77\" cy=\"-73.95\" rx=\"14.7\" ry=\"12.04\"/>\n<text text-anchor=\"middle\" x=\"399.77\" y=\"-72.05\" font-family=\"monospace\" font-size=\"8.00\" fill=\"mediumslateblue\">0</text>\n</g>\n<!-- 1 -->\n<g id=\"node2\" class=\"node\">\n<title>1</title>\n<ellipse fill=\"none\" stroke=\"orangered\" cx=\"441.06\" cy=\"-12.02\" rx=\"14.7\" ry=\"12.04\"/>\n<text text-anchor=\"middle\" x=\"441.06\" y=\"-10.12\" font-family=\"monospace\" font-size=\"8.00\" fill=\"mediumslateblue\">1</text>\n</g>\n<!-- 0&#45;&gt;1 -->\n<g id=\"edge1\" class=\"edge\">\n<title>0&#45;&gt;1</title>\n<path fill=\"none\" stroke=\"gray\" d=\"M406.96,-63.16C412.82,-54.37 421.25,-41.74 428.26,-31.23\"/>\n<polygon fill=\"gray\" stroke=\"gray\" points=\"431.32,-32.95 433.95,-22.68 425.49,-29.06 431.32,-32.95\"/>\n</g>\n<!-- 4 -->\n<g id=\"node3\" class=\"node\">\n<title>4</title>\n<ellipse fill=\"none\" stroke=\"orangered\" cx=\"340.85\" cy=\"-123.02\" rx=\"14.7\" ry=\"12.04\"/>\n<text text-anchor=\"middle\" x=\"340.85\" y=\"-121.12\" font-family=\"monospace\" font-size=\"8.00\" fill=\"mediumslateblue\">4</text>\n</g>\n<!-- 0&#45;&gt;4 -->\n<g id=\"edge2\" class=\"edge\">\n<title>0&#45;&gt;4</title>\n<path fill=\"none\" stroke=\"gray\" d=\"M389.23,-82.72C380.86,-89.7 368.94,-99.63 359.02,-107.88\"/>\n<polygon fill=\"gray\" stroke=\"gray\" points=\"356.74,-105.23 351.29,-114.32 361.22,-110.61 356.74,-105.23\"/>\n</g>\n<!-- 7 -->\n<g id=\"node8\" class=\"node\">\n<title>7</title>\n<ellipse fill=\"none\" stroke=\"orangered\" cx=\"396.54\" cy=\"-150.48\" rx=\"14.7\" ry=\"12.04\"/>\n<text text-anchor=\"middle\" x=\"396.54\" y=\"-148.58\" font-family=\"monospace\" font-size=\"8.00\" fill=\"mediumslateblue\">7</text>\n</g>\n<!-- 4&#45;&gt;7 -->\n<g id=\"edge6\" class=\"edge\">\n<title>4&#45;&gt;7</title>\n<path fill=\"none\" stroke=\"gray\" d=\"M353.77,-129.39C359.95,-132.44 367.53,-136.18 374.59,-139.65\"/>\n<polygon fill=\"gray\" stroke=\"gray\" points=\"373.18,-142.86 383.69,-144.15 376.27,-136.58 373.18,-142.86\"/>\n</g>\n<!-- 3 -->\n<g id=\"node4\" class=\"node\">\n<title>3</title>\n<ellipse fill=\"none\" stroke=\"orangered\" cx=\"174.04\" cy=\"-430.59\" rx=\"14.7\" ry=\"12.04\"/>\n<text text-anchor=\"middle\" x=\"174.04\" y=\"-428.69\" font-family=\"monospace\" font-size=\"8.00\" fill=\"mediumslateblue\">3</text>\n</g>\n<!-- 2 -->\n<g id=\"node5\" class=\"node\">\n<title>2</title>\n<ellipse fill=\"none\" stroke=\"orangered\" cx=\"92.15\" cy=\"-417.06\" rx=\"14.7\" ry=\"12.04\"/>\n<text text-anchor=\"middle\" x=\"92.15\" y=\"-415.16\" font-family=\"monospace\" font-size=\"8.00\" fill=\"mediumslateblue\">2</text>\n</g>\n<!-- 3&#45;&gt;2 -->\n<g id=\"edge3\" class=\"edge\">\n<title>3&#45;&gt;2</title>\n<path fill=\"none\" stroke=\"gray\" d=\"M159.4,-428.17C147.59,-426.22 130.73,-423.43 116.84,-421.14\"/>\n<polygon fill=\"gray\" stroke=\"gray\" points=\"117.38,-417.68 106.94,-419.5 116.23,-424.59 117.38,-417.68\"/>\n</g>\n<!-- 6 -->\n<g id=\"node6\" class=\"node\">\n<title>6</title>\n<ellipse fill=\"none\" stroke=\"orangered\" cx=\"165.95\" cy=\"-513.04\" rx=\"14.7\" ry=\"12.04\"/>\n<text text-anchor=\"middle\" x=\"165.95\" y=\"-511.14\" font-family=\"monospace\" font-size=\"8.00\" fill=\"mediumslateblue\">6</text>\n</g>\n<!-- 3&#45;&gt;6 -->\n<g id=\"edge4\" class=\"edge\">\n<title>3&#45;&gt;6</title>\n<path fill=\"none\" stroke=\"gray\" d=\"M172.84,-442.76C171.61,-455.3 169.67,-475.15 168.15,-490.55\"/>\n<polygon fill=\"gray\" stroke=\"gray\" points=\"164.64,-490.53 167.15,-500.82 171.61,-491.21 164.64,-490.53\"/>\n</g>\n<!-- 17 -->\n<g id=\"node7\" class=\"node\">\n<title>17</title>\n<ellipse fill=\"none\" stroke=\"orangered\" cx=\"243.78\" cy=\"-380.37\" rx=\"18.27\" ry=\"12.04\"/>\n<text text-anchor=\"middle\" x=\"243.78\" y=\"-378.47\" font-family=\"monospace\" font-size=\"8.00\" fill=\"mediumslateblue\">17</text>\n</g>\n<!-- 3&#45;&gt;17 -->\n<g id=\"edge5\" class=\"edge\">\n<title>3&#45;&gt;17</title>\n<path fill=\"none\" stroke=\"gray\" d=\"M185.24,-422.52C195.28,-415.3 210.27,-404.5 222.57,-395.64\"/>\n<polygon fill=\"gray\" stroke=\"gray\" points=\"224.88,-398.3 230.94,-389.61 220.78,-392.62 224.88,-398.3\"/>\n</g>\n<!-- 10 -->\n<g id=\"node10\" class=\"node\">\n<title>10</title>\n<ellipse fill=\"none\" stroke=\"orangered\" cx=\"150.04\" cy=\"-588.54\" rx=\"18.27\" ry=\"12.04\"/>\n<text text-anchor=\"middle\" x=\"150.04\" y=\"-586.64\" font-family=\"monospace\" font-size=\"8.00\" fill=\"mediumslateblue\">10</text>\n</g>\n<!-- 6&#45;&gt;10 -->\n<g id=\"edge8\" class=\"edge\">\n<title>6&#45;&gt;10</title>\n<path fill=\"none\" stroke=\"gray\" d=\"M163.39,-525.17C161.06,-536.22 157.57,-552.82 154.73,-566.26\"/>\n<polygon fill=\"gray\" stroke=\"gray\" points=\"151.28,-565.68 152.64,-576.19 158.13,-567.13 151.28,-565.68\"/>\n</g>\n<!-- 13 -->\n<g id=\"node17\" class=\"node\">\n<title>13</title>\n<ellipse fill=\"none\" stroke=\"orangered\" cx=\"220.15\" cy=\"-296.89\" rx=\"18.27\" ry=\"12.04\"/>\n<text text-anchor=\"middle\" x=\"220.15\" y=\"-294.99\" font-family=\"monospace\" font-size=\"8.00\" fill=\"mediumslateblue\">13</text>\n</g>\n<!-- 17&#45;&gt;13 -->\n<g id=\"edge23\" class=\"edge\">\n<title>17&#45;&gt;13</title>\n<path fill=\"none\" stroke=\"gray\" d=\"M245.24,-368.17C243.7,-354.82 238.05,-333.26 232.21,-317.33\"/>\n<polygon fill=\"gray\" stroke=\"gray\" points=\"235.36,-315.79 228.39,-307.82 228.87,-318.4 235.36,-315.79\"/>\n</g>\n<!-- 7&#45;&gt;0 -->\n<g id=\"edge9\" class=\"edge\">\n<title>7&#45;&gt;0</title>\n<path fill=\"none\" stroke=\"gray\" d=\"M397.06,-138.19C397.53,-126.98 398.24,-110.16 398.82,-96.54\"/>\n<polygon fill=\"gray\" stroke=\"gray\" points=\"402.32,-96.61 399.24,-86.47 395.32,-96.32 402.32,-96.61\"/>\n</g>\n<!-- 8 -->\n<g id=\"node11\" class=\"node\">\n<title>8</title>\n<ellipse fill=\"none\" stroke=\"orangered\" cx=\"334.68\" cy=\"-202.05\" rx=\"14.7\" ry=\"12.04\"/>\n<text text-anchor=\"middle\" x=\"334.68\" y=\"-200.15\" font-family=\"monospace\" font-size=\"8.00\" fill=\"mediumslateblue\">8</text>\n</g>\n<!-- 7&#45;&gt;8 -->\n<g id=\"edge10\" class=\"edge\">\n<title>7&#45;&gt;8</title>\n<path fill=\"none\" stroke=\"gray\" d=\"M386.05,-159.23C377.13,-166.67 364.1,-177.52 353.4,-186.45\"/>\n<polygon fill=\"gray\" stroke=\"gray\" points=\"350.88,-183.99 345.43,-193.08 355.36,-189.37 350.88,-183.99\"/>\n</g>\n<!-- 5 -->\n<g id=\"node9\" class=\"node\">\n<title>5</title>\n<ellipse fill=\"none\" stroke=\"orangered\" cx=\"14.85\" cy=\"-418.03\" rx=\"14.7\" ry=\"12.04\"/>\n<text text-anchor=\"middle\" x=\"14.85\" y=\"-416.13\" font-family=\"monospace\" font-size=\"8.00\" fill=\"mediumslateblue\">5</text>\n</g>\n<!-- 5&#45;&gt;2 -->\n<g id=\"edge7\" class=\"edge\">\n<title>5&#45;&gt;2</title>\n<path fill=\"none\" stroke=\"gray\" d=\"M29.75,-417.84C40.34,-417.71 54.81,-417.53 67.15,-417.37\"/>\n<polygon fill=\"gray\" stroke=\"gray\" points=\"67.34,-420.87 77.29,-417.24 67.25,-413.87 67.34,-420.87\"/>\n</g>\n<!-- 8&#45;&gt;4 -->\n<g id=\"edge11\" class=\"edge\">\n<title>8&#45;&gt;4</title>\n<path fill=\"none\" stroke=\"gray\" d=\"M335.62,-190.04C336.54,-178.21 337.98,-159.83 339.11,-145.31\"/>\n<polygon fill=\"gray\" stroke=\"gray\" points=\"342.62,-145.37 339.9,-135.13 335.64,-144.83 342.62,-145.37\"/>\n</g>\n<!-- 9 -->\n<g id=\"node12\" class=\"node\">\n<title>9</title>\n<ellipse fill=\"none\" stroke=\"orangered\" cx=\"251.85\" cy=\"-220.44\" rx=\"14.7\" ry=\"12.04\"/>\n<text text-anchor=\"middle\" x=\"251.85\" y=\"-218.54\" font-family=\"monospace\" font-size=\"8.00\" fill=\"mediumslateblue\">9</text>\n</g>\n<!-- 9&#45;&gt;8 -->\n<g id=\"edge12\" class=\"edge\">\n<title>9&#45;&gt;8</title>\n<path fill=\"none\" stroke=\"gray\" d=\"M266.27,-217.24C278.32,-214.56 295.75,-210.69 310,-207.53\"/>\n<polygon fill=\"gray\" stroke=\"gray\" points=\"311.14,-210.86 320.14,-205.27 309.62,-204.03 311.14,-210.86\"/>\n</g>\n<!-- 11 -->\n<g id=\"node13\" class=\"node\">\n<title>11</title>\n<ellipse fill=\"none\" stroke=\"orangered\" cx=\"356.32\" cy=\"-281.2\" rx=\"18.27\" ry=\"12.04\"/>\n<text text-anchor=\"middle\" x=\"356.32\" y=\"-279.3\" font-family=\"monospace\" font-size=\"8.00\" fill=\"mediumslateblue\">11</text>\n</g>\n<!-- 11&#45;&gt;8 -->\n<g id=\"edge13\" class=\"edge\">\n<title>11&#45;&gt;8</title>\n<path fill=\"none\" stroke=\"gray\" d=\"M353.04,-269.17C349.74,-257.13 344.6,-238.34 340.6,-223.69\"/>\n<polygon fill=\"gray\" stroke=\"gray\" points=\"343.94,-222.64 337.93,-213.92 337.19,-224.49 343.94,-222.64\"/>\n</g>\n<!-- 14 -->\n<g id=\"node14\" class=\"node\">\n<title>14</title>\n<ellipse fill=\"none\" stroke=\"orangered\" cx=\"395.85\" cy=\"-338.5\" rx=\"18.27\" ry=\"12.04\"/>\n<text text-anchor=\"middle\" x=\"395.85\" y=\"-336.6\" font-family=\"monospace\" font-size=\"8.00\" fill=\"mediumslateblue\">14</text>\n</g>\n<!-- 11&#45;&gt;14 -->\n<g id=\"edge14\" class=\"edge\">\n<title>11&#45;&gt;14</title>\n<path fill=\"none\" stroke=\"gray\" d=\"M363.94,-292.24C369.19,-299.86 376.31,-310.17 382.49,-319.13\"/>\n<polygon fill=\"gray\" stroke=\"gray\" points=\"379.69,-321.24 388.25,-327.49 385.45,-317.27 379.69,-321.24\"/>\n</g>\n<!-- 15 -->\n<g id=\"node18\" class=\"node\">\n<title>15</title>\n<ellipse fill=\"none\" stroke=\"orangered\" cx=\"320.78\" cy=\"-353.75\" rx=\"18.27\" ry=\"12.04\"/>\n<text text-anchor=\"middle\" x=\"320.78\" y=\"-351.85\" font-family=\"monospace\" font-size=\"8.00\" fill=\"mediumslateblue\">15</text>\n</g>\n<!-- 14&#45;&gt;15 -->\n<g id=\"edge18\" class=\"edge\">\n<title>14&#45;&gt;15</title>\n<path fill=\"none\" stroke=\"gray\" d=\"M378.06,-342.12C369.18,-343.92 358.23,-346.14 348.3,-348.16\"/>\n<polygon fill=\"gray\" stroke=\"gray\" points=\"347.54,-344.74 338.44,-350.16 348.94,-351.6 347.54,-344.74\"/>\n</g>\n<!-- 12 -->\n<g id=\"node15\" class=\"node\">\n<title>12</title>\n<ellipse fill=\"none\" stroke=\"orangered\" cx=\"366.8\" cy=\"-482.64\" rx=\"18.27\" ry=\"12.04\"/>\n<text text-anchor=\"middle\" x=\"366.8\" y=\"-480.74\" font-family=\"monospace\" font-size=\"8.00\" fill=\"mediumslateblue\">12</text>\n</g>\n<!-- 16 -->\n<g id=\"node16\" class=\"node\">\n<title>16</title>\n<ellipse fill=\"none\" stroke=\"orangered\" cx=\"312.16\" cy=\"-422.67\" rx=\"18.27\" ry=\"12.04\"/>\n<text text-anchor=\"middle\" x=\"312.16\" y=\"-420.77\" font-family=\"monospace\" font-size=\"8.00\" fill=\"mediumslateblue\">16</text>\n</g>\n<!-- 12&#45;&gt;16 -->\n<g id=\"edge15\" class=\"edge\">\n<title>12&#45;&gt;16</title>\n<path fill=\"none\" stroke=\"gray\" d=\"M357.28,-472.19C349.47,-463.61 338.21,-451.26 328.89,-441.03\"/>\n<polygon fill=\"gray\" stroke=\"gray\" points=\"331.26,-438.44 321.94,-433.4 326.09,-443.15 331.26,-438.44\"/>\n</g>\n<!-- 16&#45;&gt;17 -->\n<g id=\"edge22\" class=\"edge\">\n<title>16&#45;&gt;17</title>\n<path fill=\"none\" stroke=\"gray\" d=\"M298.65,-414.32C289.29,-408.52 276.6,-400.68 265.79,-393.99\"/>\n<polygon fill=\"gray\" stroke=\"gray\" points=\"267.61,-391 257.26,-388.71 263.93,-396.95 267.61,-391\"/>\n</g>\n<!-- 16&#45;&gt;15 -->\n<g id=\"edge21\" class=\"edge\">\n<title>16&#45;&gt;15</title>\n<path fill=\"none\" stroke=\"gray\" d=\"M313.66,-410.67C314.85,-401.2 316.53,-387.72 317.97,-376.26\"/>\n<polygon fill=\"gray\" stroke=\"gray\" points=\"321.47,-376.44 319.24,-366.08 314.52,-375.57 321.47,-376.44\"/>\n</g>\n<!-- 13&#45;&gt;17 -->\n<g id=\"edge17\" class=\"edge\">\n<title>13&#45;&gt;17</title>\n<path fill=\"none\" stroke=\"gray\" d=\"M218.69,-309.09C220.24,-322.44 225.89,-344.01 231.72,-359.94\"/>\n<polygon fill=\"gray\" stroke=\"gray\" points=\"228.57,-361.47 235.55,-369.45 235.07,-358.86 228.57,-361.47\"/>\n</g>\n<!-- 13&#45;&gt;9 -->\n<g id=\"edge16\" class=\"edge\">\n<title>13&#45;&gt;9</title>\n<path fill=\"none\" stroke=\"gray\" d=\"M224.97,-285.28C229.76,-273.72 237.23,-255.71 243.08,-241.6\"/>\n<polygon fill=\"gray\" stroke=\"gray\" points=\"246.39,-242.74 246.99,-232.16 239.92,-240.06 246.39,-242.74\"/>\n</g>\n<!-- 15&#45;&gt;17 -->\n<g id=\"edge20\" class=\"edge\">\n<title>15&#45;&gt;17</title>\n<path fill=\"none\" stroke=\"gray\" d=\"M304.45,-359.4C294.34,-362.89 281.14,-367.45 269.64,-371.43\"/>\n<polygon fill=\"gray\" stroke=\"gray\" points=\"268.39,-368.16 260.09,-374.73 270.68,-374.77 268.39,-368.16\"/>\n</g>\n<!-- 15&#45;&gt;11 -->\n<g id=\"edge19\" class=\"edge\">\n<title>15&#45;&gt;11</title>\n<path fill=\"none\" stroke=\"gray\" d=\"M326.49,-342.09C331.74,-331.37 339.66,-315.21 346.02,-302.23\"/>\n<polygon fill=\"gray\" stroke=\"gray\" points=\"349.25,-303.58 350.51,-293.06 342.97,-300.51 349.25,-303.58\"/>\n</g>\n</g>\n</svg>\n",
            "text/plain": [
              "<graphviz.graphs.Digraph at 0x7f65655c1420>"
            ]
          },
          "metadata": {},
          "execution_count": 18
        }
      ]
    },
    {
      "cell_type": "markdown",
      "source": [
        "Hacemos una busqueda en profundidad limitada (DLS) del grafo dirigido G partiendo del nodo 12 y 2 niveles de profundidad."
      ],
      "metadata": {
        "id": "e7ers0vp1g_Y"
      }
    },
    {
      "cell_type": "code",
      "source": [
        "path = dls(G, 12, 2)\n",
        "drawG_al(G, directed=True, path=path, layout=\"neato\")"
      ],
      "metadata": {
        "colab": {
          "base_uri": "https://localhost:8080/",
          "height": 883
        },
        "id": "7szXpOACXI3N",
        "outputId": "2ec95712-d230-4a8f-e138-765b2ed67d21"
      },
      "execution_count": 19,
      "outputs": [
        {
          "output_type": "execute_result",
          "data": {
            "image/svg+xml": "<?xml version=\"1.0\" encoding=\"UTF-8\" standalone=\"no\"?>\n<!DOCTYPE svg PUBLIC \"-//W3C//DTD SVG 1.1//EN\"\n \"http://www.w3.org/Graphics/SVG/1.1/DTD/svg11.dtd\">\n<!-- Generated by graphviz version 2.43.0 (0)\n -->\n<!-- Title: di&#45;anyname Pages: 1 -->\n<svg width=\"410pt\" height=\"646pt\"\n viewBox=\"0.00 0.00 409.54 645.57\" xmlns=\"http://www.w3.org/2000/svg\" xmlns:xlink=\"http://www.w3.org/1999/xlink\">\n<g id=\"graph0\" class=\"graph\" transform=\"scale(1 1) rotate(0) translate(4 641.57)\">\n<title>di&#45;anyname</title>\n<polygon fill=\"white\" stroke=\"transparent\" points=\"-4,4 -4,-641.57 405.54,-641.57 405.54,4 -4,4\"/>\n<!-- 16 -->\n<g id=\"node1\" class=\"node\">\n<title>16</title>\n<ellipse fill=\"none\" stroke=\"orangered\" cx=\"88.46\" cy=\"-200.38\" rx=\"18.27\" ry=\"12.04\"/>\n<text text-anchor=\"middle\" x=\"88.46\" y=\"-198.48\" font-family=\"monospace\" font-size=\"8.00\" fill=\"mediumslateblue\">16</text>\n</g>\n<!-- 15 -->\n<g id=\"node2\" class=\"node\">\n<title>15</title>\n<ellipse fill=\"none\" stroke=\"orangered\" cx=\"90.4\" cy=\"-269.86\" rx=\"18.27\" ry=\"12.04\"/>\n<text text-anchor=\"middle\" x=\"90.4\" y=\"-267.96\" font-family=\"monospace\" font-size=\"8.00\" fill=\"mediumslateblue\">15</text>\n</g>\n<!-- 16&#45;&gt;15 -->\n<g id=\"edge1\" class=\"edge\">\n<title>16&#45;&gt;15</title>\n<path fill=\"none\" stroke=\"orange\" stroke-width=\"2\" d=\"M88.8,-212.48C89.06,-222.02 89.44,-235.61 89.77,-247.17\"/>\n<polygon fill=\"orange\" stroke=\"orange\" stroke-width=\"2\" points=\"86.27,-247.53 90.05,-257.43 93.27,-247.33 86.27,-247.53\"/>\n</g>\n<!-- 17 -->\n<g id=\"node4\" class=\"node\">\n<title>17</title>\n<ellipse fill=\"none\" stroke=\"orangered\" cx=\"162.45\" cy=\"-231.98\" rx=\"18.27\" ry=\"12.04\"/>\n<text text-anchor=\"middle\" x=\"162.45\" y=\"-230.08\" font-family=\"monospace\" font-size=\"8.00\" fill=\"mediumslateblue\">17</text>\n</g>\n<!-- 16&#45;&gt;17 -->\n<g id=\"edge3\" class=\"edge\">\n<title>16&#45;&gt;17</title>\n<path fill=\"none\" stroke=\"orange\" stroke-width=\"2\" d=\"M104.15,-207.08C113.93,-211.25 126.72,-216.71 137.82,-221.46\"/>\n<polygon fill=\"orange\" stroke=\"orange\" stroke-width=\"2\" points=\"136.46,-224.68 147.03,-225.39 139.21,-218.25 136.46,-224.68\"/>\n</g>\n<!-- 15&#45;&gt;17 -->\n<g id=\"edge22\" class=\"edge\">\n<title>15&#45;&gt;17</title>\n<path fill=\"none\" stroke=\"gray\" d=\"M104.98,-262.19C114.75,-257.06 127.82,-250.18 139.03,-244.29\"/>\n<polygon fill=\"gray\" stroke=\"gray\" points=\"140.67,-247.38 147.89,-239.63 137.41,-241.19 140.67,-247.38\"/>\n</g>\n<!-- 11 -->\n<g id=\"node16\" class=\"node\">\n<title>11</title>\n<ellipse fill=\"none\" stroke=\"orangered\" cx=\"65.98\" cy=\"-346.81\" rx=\"18.27\" ry=\"12.04\"/>\n<text text-anchor=\"middle\" x=\"65.98\" y=\"-344.91\" font-family=\"monospace\" font-size=\"8.00\" fill=\"mediumslateblue\">11</text>\n</g>\n<!-- 15&#45;&gt;11 -->\n<g id=\"edge21\" class=\"edge\">\n<title>15&#45;&gt;11</title>\n<path fill=\"none\" stroke=\"gray\" d=\"M86.58,-281.88C82.93,-293.4 77.33,-311.06 72.89,-325.05\"/>\n<polygon fill=\"gray\" stroke=\"gray\" points=\"69.46,-324.28 69.77,-334.87 76.13,-326.4 69.46,-324.28\"/>\n</g>\n<!-- 12 -->\n<g id=\"node3\" class=\"node\">\n<title>12</title>\n<ellipse fill=\"none\" stroke=\"orangered\" cx=\"25.14\" cy=\"-149.57\" rx=\"18.27\" ry=\"12.04\"/>\n<text text-anchor=\"middle\" x=\"25.14\" y=\"-147.67\" font-family=\"monospace\" font-size=\"8.00\" fill=\"mediumslateblue\">12</text>\n</g>\n<!-- 12&#45;&gt;16 -->\n<g id=\"edge2\" class=\"edge\">\n<title>12&#45;&gt;16</title>\n<path fill=\"none\" stroke=\"orange\" stroke-width=\"2\" d=\"M36.76,-158.89C45.66,-166.03 58.15,-176.06 68.63,-184.46\"/>\n<polygon fill=\"orange\" stroke=\"orange\" stroke-width=\"2\" points=\"66.5,-187.24 76.49,-190.77 70.88,-181.78 66.5,-187.24\"/>\n</g>\n<!-- 13 -->\n<g id=\"node18\" class=\"node\">\n<title>13</title>\n<ellipse fill=\"none\" stroke=\"orangered\" cx=\"198.21\" cy=\"-311.09\" rx=\"18.27\" ry=\"12.04\"/>\n<text text-anchor=\"middle\" x=\"198.21\" y=\"-309.19\" font-family=\"monospace\" font-size=\"8.00\" fill=\"mediumslateblue\">13</text>\n</g>\n<!-- 17&#45;&gt;13 -->\n<g id=\"edge23\" class=\"edge\">\n<title>17&#45;&gt;13</title>\n<path fill=\"none\" stroke=\"gray\" d=\"M162.81,-244.27C166.28,-257.1 174.91,-277.29 182.97,-292.14\"/>\n<polygon fill=\"gray\" stroke=\"gray\" points=\"180.07,-294.12 188.12,-301 186.12,-290.6 180.07,-294.12\"/>\n</g>\n<!-- 0 -->\n<g id=\"node5\" class=\"node\">\n<title>0</title>\n<ellipse fill=\"none\" stroke=\"orangered\" cx=\"52.18\" cy=\"-557.77\" rx=\"14.7\" ry=\"12.04\"/>\n<text text-anchor=\"middle\" x=\"52.18\" y=\"-555.87\" font-family=\"monospace\" font-size=\"8.00\" fill=\"mediumslateblue\">0</text>\n</g>\n<!-- 1 -->\n<g id=\"node6\" class=\"node\">\n<title>1</title>\n<ellipse fill=\"none\" stroke=\"orangered\" cx=\"21.55\" cy=\"-625.54\" rx=\"14.7\" ry=\"12.04\"/>\n<text text-anchor=\"middle\" x=\"21.55\" y=\"-623.64\" font-family=\"monospace\" font-size=\"8.00\" fill=\"mediumslateblue\">1</text>\n</g>\n<!-- 0&#45;&gt;1 -->\n<g id=\"edge4\" class=\"edge\">\n<title>0&#45;&gt;1</title>\n<path fill=\"none\" stroke=\"gray\" d=\"M46.99,-569.26C42.6,-578.96 36.22,-593.09 30.94,-604.76\"/>\n<polygon fill=\"gray\" stroke=\"gray\" points=\"27.6,-603.66 26.67,-614.22 33.98,-606.55 27.6,-603.66\"/>\n</g>\n<!-- 4 -->\n<g id=\"node7\" class=\"node\">\n<title>4</title>\n<ellipse fill=\"none\" stroke=\"orangered\" cx=\"45.08\" cy=\"-481.68\" rx=\"14.7\" ry=\"12.04\"/>\n<text text-anchor=\"middle\" x=\"45.08\" y=\"-479.78\" font-family=\"monospace\" font-size=\"8.00\" fill=\"mediumslateblue\">4</text>\n</g>\n<!-- 0&#45;&gt;4 -->\n<g id=\"edge5\" class=\"edge\">\n<title>0&#45;&gt;4</title>\n<path fill=\"none\" stroke=\"gray\" d=\"M51.04,-545.54C50,-534.41 48.44,-517.68 47.17,-504.14\"/>\n<polygon fill=\"gray\" stroke=\"gray\" points=\"50.65,-503.76 46.24,-494.13 43.68,-504.41 50.65,-503.76\"/>\n</g>\n<!-- 7 -->\n<g id=\"node11\" class=\"node\">\n<title>7</title>\n<ellipse fill=\"none\" stroke=\"orangered\" cx=\"104.03\" cy=\"-501.08\" rx=\"14.7\" ry=\"12.04\"/>\n<text text-anchor=\"middle\" x=\"104.03\" y=\"-499.18\" font-family=\"monospace\" font-size=\"8.00\" fill=\"mediumslateblue\">7</text>\n</g>\n<!-- 4&#45;&gt;7 -->\n<g id=\"edge9\" class=\"edge\">\n<title>4&#45;&gt;7</title>\n<path fill=\"none\" stroke=\"gray\" d=\"M59.05,-486.28C65.43,-488.38 73.18,-490.93 80.43,-493.31\"/>\n<polygon fill=\"gray\" stroke=\"gray\" points=\"79.56,-496.71 90.16,-496.51 81.75,-490.07 79.56,-496.71\"/>\n</g>\n<!-- 3 -->\n<g id=\"node8\" class=\"node\">\n<title>3</title>\n<ellipse fill=\"none\" stroke=\"orangered\" cx=\"223.77\" cy=\"-171.78\" rx=\"14.7\" ry=\"12.04\"/>\n<text text-anchor=\"middle\" x=\"223.77\" y=\"-169.88\" font-family=\"monospace\" font-size=\"8.00\" fill=\"mediumslateblue\">3</text>\n</g>\n<!-- 3&#45;&gt;17 -->\n<g id=\"edge8\" class=\"edge\">\n<title>3&#45;&gt;17</title>\n<path fill=\"none\" stroke=\"gray\" d=\"M214.19,-181.19C205.1,-190.11 191.23,-203.73 180.13,-214.62\"/>\n<polygon fill=\"gray\" stroke=\"gray\" points=\"177.68,-212.13 172.99,-221.63 182.58,-217.12 177.68,-212.13\"/>\n</g>\n<!-- 2 -->\n<g id=\"node9\" class=\"node\">\n<title>2</title>\n<ellipse fill=\"none\" stroke=\"orangered\" cx=\"219.34\" cy=\"-89.08\" rx=\"14.7\" ry=\"12.04\"/>\n<text text-anchor=\"middle\" x=\"219.34\" y=\"-87.18\" font-family=\"monospace\" font-size=\"8.00\" fill=\"mediumslateblue\">2</text>\n</g>\n<!-- 3&#45;&gt;2 -->\n<g id=\"edge6\" class=\"edge\">\n<title>3&#45;&gt;2</title>\n<path fill=\"none\" stroke=\"gray\" d=\"M223.12,-159.58C222.44,-147 221.38,-127.09 220.55,-111.63\"/>\n<polygon fill=\"gray\" stroke=\"gray\" points=\"224.03,-111.13 220,-101.33 217.04,-111.5 224.03,-111.13\"/>\n</g>\n<!-- 6 -->\n<g id=\"node10\" class=\"node\">\n<title>6</title>\n<ellipse fill=\"none\" stroke=\"orangered\" cx=\"306.76\" cy=\"-172.99\" rx=\"14.7\" ry=\"12.04\"/>\n<text text-anchor=\"middle\" x=\"306.76\" y=\"-171.09\" font-family=\"monospace\" font-size=\"8.00\" fill=\"mediumslateblue\">6</text>\n</g>\n<!-- 3&#45;&gt;6 -->\n<g id=\"edge7\" class=\"edge\">\n<title>3&#45;&gt;6</title>\n<path fill=\"none\" stroke=\"gray\" d=\"M238.99,-172C250.81,-172.18 267.45,-172.42 281.29,-172.62\"/>\n<polygon fill=\"gray\" stroke=\"gray\" points=\"281.58,-176.12 291.63,-172.77 281.69,-169.12 281.58,-176.12\"/>\n</g>\n<!-- 10 -->\n<g id=\"node13\" class=\"node\">\n<title>10</title>\n<ellipse fill=\"none\" stroke=\"orangered\" cx=\"383.15\" cy=\"-161.12\" rx=\"18.27\" ry=\"12.04\"/>\n<text text-anchor=\"middle\" x=\"383.15\" y=\"-159.22\" font-family=\"monospace\" font-size=\"8.00\" fill=\"mediumslateblue\">10</text>\n</g>\n<!-- 6&#45;&gt;10 -->\n<g id=\"edge11\" class=\"edge\">\n<title>6&#45;&gt;10</title>\n<path fill=\"none\" stroke=\"gray\" d=\"M321.49,-170.7C331.05,-169.22 343.81,-167.23 355.24,-165.46\"/>\n<polygon fill=\"gray\" stroke=\"gray\" points=\"355.9,-168.9 365.24,-163.91 354.82,-161.98 355.9,-168.9\"/>\n</g>\n<!-- 7&#45;&gt;0 -->\n<g id=\"edge12\" class=\"edge\">\n<title>7&#45;&gt;0</title>\n<path fill=\"none\" stroke=\"gray\" d=\"M95,-510.95C87.56,-519.08 76.84,-530.8 67.99,-540.48\"/>\n<polygon fill=\"gray\" stroke=\"gray\" points=\"65.27,-538.26 61.11,-548.01 70.44,-542.99 65.27,-538.26\"/>\n</g>\n<!-- 8 -->\n<g id=\"node14\" class=\"node\">\n<title>8</title>\n<ellipse fill=\"none\" stroke=\"orangered\" cx=\"99.07\" cy=\"-421.94\" rx=\"14.7\" ry=\"12.04\"/>\n<text text-anchor=\"middle\" x=\"99.07\" y=\"-420.04\" font-family=\"monospace\" font-size=\"8.00\" fill=\"mediumslateblue\">8</text>\n</g>\n<!-- 7&#45;&gt;8 -->\n<g id=\"edge13\" class=\"edge\">\n<title>7&#45;&gt;8</title>\n<path fill=\"none\" stroke=\"gray\" d=\"M103.27,-489.06C102.53,-477.21 101.38,-458.81 100.47,-444.27\"/>\n<polygon fill=\"gray\" stroke=\"gray\" points=\"103.95,-443.83 99.83,-434.07 96.96,-444.27 103.95,-443.83\"/>\n</g>\n<!-- 5 -->\n<g id=\"node12\" class=\"node\">\n<title>5</title>\n<ellipse fill=\"none\" stroke=\"orangered\" cx=\"223.53\" cy=\"-12.02\" rx=\"14.7\" ry=\"12.04\"/>\n<text text-anchor=\"middle\" x=\"223.53\" y=\"-10.12\" font-family=\"monospace\" font-size=\"8.00\" fill=\"mediumslateblue\">5</text>\n</g>\n<!-- 5&#45;&gt;2 -->\n<g id=\"edge10\" class=\"edge\">\n<title>5&#45;&gt;2</title>\n<path fill=\"none\" stroke=\"gray\" d=\"M222.88,-24.06C222.26,-35.42 221.32,-52.72 220.56,-66.63\"/>\n<polygon fill=\"gray\" stroke=\"gray\" points=\"217.05,-66.69 220.01,-76.87 224.04,-67.07 217.05,-66.69\"/>\n</g>\n<!-- 8&#45;&gt;4 -->\n<g id=\"edge14\" class=\"edge\">\n<title>8&#45;&gt;4</title>\n<path fill=\"none\" stroke=\"gray\" d=\"M90.15,-431.81C82.23,-440.57 70.46,-453.6 60.93,-464.14\"/>\n<polygon fill=\"gray\" stroke=\"gray\" points=\"58.29,-461.84 54.19,-471.6 63.49,-466.53 58.29,-461.84\"/>\n</g>\n<!-- 9 -->\n<g id=\"node15\" class=\"node\">\n<title>9</title>\n<ellipse fill=\"none\" stroke=\"orangered\" cx=\"178.21\" cy=\"-391.46\" rx=\"14.7\" ry=\"12.04\"/>\n<text text-anchor=\"middle\" x=\"178.21\" y=\"-389.56\" font-family=\"monospace\" font-size=\"8.00\" fill=\"mediumslateblue\">9</text>\n</g>\n<!-- 9&#45;&gt;8 -->\n<g id=\"edge15\" class=\"edge\">\n<title>9&#45;&gt;8</title>\n<path fill=\"none\" stroke=\"gray\" d=\"M164.78,-396.63C153.07,-401.14 135.83,-407.78 121.95,-413.13\"/>\n<polygon fill=\"gray\" stroke=\"gray\" points=\"120.63,-409.88 112.56,-416.74 123.15,-416.42 120.63,-409.88\"/>\n</g>\n<!-- 11&#45;&gt;8 -->\n<g id=\"edge16\" class=\"edge\">\n<title>11&#45;&gt;8</title>\n<path fill=\"none\" stroke=\"gray\" d=\"M71.15,-358.55C76.18,-369.98 83.93,-387.58 89.99,-401.33\"/>\n<polygon fill=\"gray\" stroke=\"gray\" points=\"86.81,-402.79 94.04,-410.53 93.22,-399.97 86.81,-402.79\"/>\n</g>\n<!-- 14 -->\n<g id=\"node17\" class=\"node\">\n<title>14</title>\n<ellipse fill=\"none\" stroke=\"orangered\" cx=\"18.38\" cy=\"-296\" rx=\"18.27\" ry=\"12.04\"/>\n<text text-anchor=\"middle\" x=\"18.38\" y=\"-294.1\" font-family=\"monospace\" font-size=\"8.00\" fill=\"mediumslateblue\">14</text>\n</g>\n<!-- 11&#45;&gt;14 -->\n<g id=\"edge17\" class=\"edge\">\n<title>11&#45;&gt;14</title>\n<path fill=\"none\" stroke=\"gray\" d=\"M56.35,-336.53C50.28,-330.06 42.29,-321.52 35.2,-313.95\"/>\n<polygon fill=\"gray\" stroke=\"gray\" points=\"37.39,-311.17 28,-306.27 32.28,-315.96 37.39,-311.17\"/>\n</g>\n<!-- 14&#45;&gt;15 -->\n<g id=\"edge20\" class=\"edge\">\n<title>14&#45;&gt;15</title>\n<path fill=\"none\" stroke=\"gray\" d=\"M34.73,-290.07C43.56,-286.86 54.68,-282.82 64.66,-279.2\"/>\n<polygon fill=\"gray\" stroke=\"gray\" points=\"65.92,-282.47 74.12,-275.77 63.53,-275.89 65.92,-282.47\"/>\n</g>\n<!-- 13&#45;&gt;17 -->\n<g id=\"edge19\" class=\"edge\">\n<title>13&#45;&gt;17</title>\n<path fill=\"none\" stroke=\"gray\" d=\"M197.84,-298.8C194.37,-285.97 185.74,-265.78 177.68,-250.93\"/>\n<polygon fill=\"gray\" stroke=\"gray\" points=\"180.58,-248.95 172.53,-242.06 174.53,-252.47 180.58,-248.95\"/>\n</g>\n<!-- 13&#45;&gt;9 -->\n<g id=\"edge18\" class=\"edge\">\n<title>13&#45;&gt;9</title>\n<path fill=\"none\" stroke=\"gray\" d=\"M195.17,-323.3C192.11,-335.59 187.32,-354.83 183.61,-369.74\"/>\n<polygon fill=\"gray\" stroke=\"gray\" points=\"180.16,-369.11 181.14,-379.66 186.95,-370.8 180.16,-369.11\"/>\n</g>\n</g>\n</svg>\n",
            "text/plain": [
              "<graphviz.graphs.Digraph at 0x7f65655c14b0>"
            ]
          },
          "metadata": {},
          "execution_count": 19
        }
      ]
    },
    {
      "cell_type": "code",
      "source": [
        "path = dls(G, 12, 4)\n",
        "drawG_al(G, directed=True, path=path, layout=\"neato\")"
      ],
      "metadata": {
        "colab": {
          "base_uri": "https://localhost:8080/",
          "height": 544
        },
        "id": "McgBII2wX0XK",
        "outputId": "97162a56-49d9-4a87-bd33-606d150d2607"
      },
      "execution_count": 20,
      "outputs": [
        {
          "output_type": "execute_result",
          "data": {
            "image/svg+xml": "<?xml version=\"1.0\" encoding=\"UTF-8\" standalone=\"no\"?>\n<!DOCTYPE svg PUBLIC \"-//W3C//DTD SVG 1.1//EN\"\n \"http://www.w3.org/Graphics/SVG/1.1/DTD/svg11.dtd\">\n<!-- Generated by graphviz version 2.43.0 (0)\n -->\n<!-- Title: di&#45;anyname Pages: 1 -->\n<svg width=\"657pt\" height=\"392pt\"\n viewBox=\"0.00 0.00 656.80 392.35\" xmlns=\"http://www.w3.org/2000/svg\" xmlns:xlink=\"http://www.w3.org/1999/xlink\">\n<g id=\"graph0\" class=\"graph\" transform=\"scale(1 1) rotate(0) translate(4 388.35)\">\n<title>di&#45;anyname</title>\n<polygon fill=\"white\" stroke=\"transparent\" points=\"-4,4 -4,-388.35 652.8,-388.35 652.8,4 -4,4\"/>\n<!-- 11 -->\n<g id=\"node1\" class=\"node\">\n<title>11</title>\n<ellipse fill=\"none\" stroke=\"orangered\" cx=\"294.33\" cy=\"-61.3\" rx=\"18.27\" ry=\"12.04\"/>\n<text text-anchor=\"middle\" x=\"294.33\" y=\"-59.4\" font-family=\"monospace\" font-size=\"8.00\" fill=\"mediumslateblue\">11</text>\n</g>\n<!-- 8 -->\n<g id=\"node2\" class=\"node\">\n<title>8</title>\n<ellipse fill=\"none\" stroke=\"orangered\" cx=\"220.28\" cy=\"-96.73\" rx=\"14.7\" ry=\"12.04\"/>\n<text text-anchor=\"middle\" x=\"220.28\" y=\"-94.83\" font-family=\"monospace\" font-size=\"8.00\" fill=\"mediumslateblue\">8</text>\n</g>\n<!-- 11&#45;&gt;8 -->\n<g id=\"edge1\" class=\"edge\">\n<title>11&#45;&gt;8</title>\n<path fill=\"none\" stroke=\"orange\" stroke-width=\"2\" d=\"M279.34,-68.47C268.78,-73.52 254.45,-80.38 242.55,-86.07\"/>\n<polygon fill=\"orange\" stroke=\"orange\" stroke-width=\"2\" points=\"240.77,-83.04 233.27,-90.52 243.8,-89.36 240.77,-83.04\"/>\n</g>\n<!-- 14 -->\n<g id=\"node6\" class=\"node\">\n<title>14</title>\n<ellipse fill=\"none\" stroke=\"orangered\" cx=\"343.55\" cy=\"-12.02\" rx=\"18.27\" ry=\"12.04\"/>\n<text text-anchor=\"middle\" x=\"343.55\" y=\"-10.12\" font-family=\"monospace\" font-size=\"8.00\" fill=\"mediumslateblue\">14</text>\n</g>\n<!-- 11&#45;&gt;14 -->\n<g id=\"edge4\" class=\"edge\">\n<title>11&#45;&gt;14</title>\n<path fill=\"none\" stroke=\"orange\" stroke-width=\"2\" d=\"M304.77,-50.85C310.98,-44.62 319.03,-36.57 326.18,-29.41\"/>\n<polygon fill=\"orange\" stroke=\"orange\" stroke-width=\"2\" points=\"328.87,-31.67 333.46,-22.12 323.92,-26.72 328.87,-31.67\"/>\n</g>\n<!-- 4 -->\n<g id=\"node11\" class=\"node\">\n<title>4</title>\n<ellipse fill=\"none\" stroke=\"orangered\" cx=\"158.83\" cy=\"-44.72\" rx=\"14.7\" ry=\"12.04\"/>\n<text text-anchor=\"middle\" x=\"158.83\" y=\"-42.82\" font-family=\"monospace\" font-size=\"8.00\" fill=\"mediumslateblue\">4</text>\n</g>\n<!-- 8&#45;&gt;4 -->\n<g id=\"edge18\" class=\"edge\">\n<title>8&#45;&gt;4</title>\n<path fill=\"none\" stroke=\"gray\" d=\"M209.86,-87.91C200.89,-80.32 187.74,-69.19 177.03,-60.13\"/>\n<polygon fill=\"gray\" stroke=\"gray\" points=\"178.99,-57.2 169.1,-53.41 174.47,-62.54 178.99,-57.2\"/>\n</g>\n<!-- 15 -->\n<g id=\"node3\" class=\"node\">\n<title>15</title>\n<ellipse fill=\"none\" stroke=\"orangered\" cx=\"372.05\" cy=\"-83.12\" rx=\"18.27\" ry=\"12.04\"/>\n<text text-anchor=\"middle\" x=\"372.05\" y=\"-81.22\" font-family=\"monospace\" font-size=\"8.00\" fill=\"mediumslateblue\">15</text>\n</g>\n<!-- 15&#45;&gt;11 -->\n<g id=\"edge2\" class=\"edge\">\n<title>15&#45;&gt;11</title>\n<path fill=\"none\" stroke=\"orange\" stroke-width=\"2\" d=\"M354.8,-78.28C344.87,-75.49 332.18,-71.93 320.99,-68.78\"/>\n<polygon fill=\"orange\" stroke=\"orange\" stroke-width=\"2\" points=\"321.84,-65.39 311.26,-66.05 319.94,-72.12 321.84,-65.39\"/>\n</g>\n<!-- 17 -->\n<g id=\"node4\" class=\"node\">\n<title>17</title>\n<ellipse fill=\"none\" stroke=\"orangered\" cx=\"412.19\" cy=\"-153.96\" rx=\"18.27\" ry=\"12.04\"/>\n<text text-anchor=\"middle\" x=\"412.19\" y=\"-152.06\" font-family=\"monospace\" font-size=\"8.00\" fill=\"mediumslateblue\">17</text>\n</g>\n<!-- 15&#45;&gt;17 -->\n<g id=\"edge7\" class=\"edge\">\n<title>15&#45;&gt;17</title>\n<path fill=\"none\" stroke=\"orange\" stroke-width=\"2\" d=\"M378.5,-94.5C384.43,-104.97 393.37,-120.75 400.55,-133.42\"/>\n<polygon fill=\"orange\" stroke=\"orange\" stroke-width=\"2\" points=\"397.65,-135.39 405.62,-142.37 403.74,-131.94 397.65,-135.39\"/>\n</g>\n<!-- 13 -->\n<g id=\"node5\" class=\"node\">\n<title>13</title>\n<ellipse fill=\"none\" stroke=\"orangered\" cx=\"334.26\" cy=\"-192.23\" rx=\"18.27\" ry=\"12.04\"/>\n<text text-anchor=\"middle\" x=\"334.26\" y=\"-190.33\" font-family=\"monospace\" font-size=\"8.00\" fill=\"mediumslateblue\">13</text>\n</g>\n<!-- 17&#45;&gt;13 -->\n<g id=\"edge3\" class=\"edge\">\n<title>17&#45;&gt;13</title>\n<path fill=\"none\" stroke=\"orange\" stroke-width=\"2\" d=\"M397.16,-161.34C386.1,-166.77 370.82,-174.27 358.1,-180.52\"/>\n<polygon fill=\"orange\" stroke=\"orange\" stroke-width=\"2\" points=\"356.41,-177.45 348.98,-185 359.5,-183.73 356.41,-177.45\"/>\n</g>\n<!-- 9 -->\n<g id=\"node18\" class=\"node\">\n<title>9</title>\n<ellipse fill=\"none\" stroke=\"orangered\" cx=\"253.29\" cy=\"-174.85\" rx=\"14.7\" ry=\"12.04\"/>\n<text text-anchor=\"middle\" x=\"253.29\" y=\"-172.95\" font-family=\"monospace\" font-size=\"8.00\" fill=\"mediumslateblue\">9</text>\n</g>\n<!-- 13&#45;&gt;9 -->\n<g id=\"edge20\" class=\"edge\">\n<title>13&#45;&gt;9</title>\n<path fill=\"none\" stroke=\"gray\" d=\"M316.69,-188.46C305.28,-186.01 290.25,-182.78 277.69,-180.09\"/>\n<polygon fill=\"gray\" stroke=\"gray\" points=\"278.36,-176.65 267.85,-177.98 276.89,-183.5 278.36,-176.65\"/>\n</g>\n<!-- 14&#45;&gt;15 -->\n<g id=\"edge21\" class=\"edge\">\n<title>14&#45;&gt;15</title>\n<path fill=\"none\" stroke=\"gray\" d=\"M348.26,-23.76C352.36,-33.99 358.41,-49.09 363.38,-61.5\"/>\n<polygon fill=\"gray\" stroke=\"gray\" points=\"360.27,-63.15 367.24,-71.13 366.77,-60.54 360.27,-63.15\"/>\n</g>\n<!-- 16 -->\n<g id=\"node7\" class=\"node\">\n<title>16</title>\n<ellipse fill=\"none\" stroke=\"orangered\" cx=\"441.42\" cy=\"-79.01\" rx=\"18.27\" ry=\"12.04\"/>\n<text text-anchor=\"middle\" x=\"441.42\" y=\"-77.11\" font-family=\"monospace\" font-size=\"8.00\" fill=\"mediumslateblue\">16</text>\n</g>\n<!-- 16&#45;&gt;15 -->\n<g id=\"edge5\" class=\"edge\">\n<title>16&#45;&gt;15</title>\n<path fill=\"none\" stroke=\"orange\" stroke-width=\"2\" d=\"M422.83,-80.11C416.07,-80.51 408.25,-80.98 400.81,-81.42\"/>\n<polygon fill=\"orange\" stroke=\"orange\" stroke-width=\"2\" points=\"400.47,-77.93 390.69,-82.02 400.88,-84.92 400.47,-77.93\"/>\n</g>\n<!-- 16&#45;&gt;17 -->\n<g id=\"edge22\" class=\"edge\">\n<title>16&#45;&gt;17</title>\n<path fill=\"none\" stroke=\"gray\" d=\"M436.85,-90.72C432.5,-101.87 425.85,-118.93 420.55,-132.52\"/>\n<polygon fill=\"gray\" stroke=\"gray\" points=\"417.19,-131.49 416.82,-142.08 423.71,-134.04 417.19,-131.49\"/>\n</g>\n<!-- 12 -->\n<g id=\"node8\" class=\"node\">\n<title>12</title>\n<ellipse fill=\"none\" stroke=\"orangered\" cx=\"490.26\" cy=\"-14.18\" rx=\"18.27\" ry=\"12.04\"/>\n<text text-anchor=\"middle\" x=\"490.26\" y=\"-12.28\" font-family=\"monospace\" font-size=\"8.00\" fill=\"mediumslateblue\">12</text>\n</g>\n<!-- 12&#45;&gt;16 -->\n<g id=\"edge6\" class=\"edge\">\n<title>12&#45;&gt;16</title>\n<path fill=\"none\" stroke=\"orange\" stroke-width=\"2\" d=\"M481.97,-25.18C474.77,-34.73 464.19,-48.79 455.63,-60.14\"/>\n<polygon fill=\"orange\" stroke=\"orange\" stroke-width=\"2\" points=\"452.8,-58.08 449.58,-68.17 458.39,-62.29 452.8,-58.08\"/>\n</g>\n<!-- 0 -->\n<g id=\"node9\" class=\"node\">\n<title>0</title>\n<ellipse fill=\"none\" stroke=\"orangered\" cx=\"82.95\" cy=\"-54.39\" rx=\"14.7\" ry=\"12.04\"/>\n<text text-anchor=\"middle\" x=\"82.95\" y=\"-52.49\" font-family=\"monospace\" font-size=\"8.00\" fill=\"mediumslateblue\">0</text>\n</g>\n<!-- 1 -->\n<g id=\"node10\" class=\"node\">\n<title>1</title>\n<ellipse fill=\"none\" stroke=\"orangered\" cx=\"14.85\" cy=\"-24.34\" rx=\"14.7\" ry=\"12.04\"/>\n<text text-anchor=\"middle\" x=\"14.85\" y=\"-22.44\" font-family=\"monospace\" font-size=\"8.00\" fill=\"mediumslateblue\">1</text>\n</g>\n<!-- 0&#45;&gt;1 -->\n<g id=\"edge8\" class=\"edge\">\n<title>0&#45;&gt;1</title>\n<path fill=\"none\" stroke=\"gray\" d=\"M69.82,-48.59C60.59,-44.52 48.01,-38.97 37.21,-34.2\"/>\n<polygon fill=\"gray\" stroke=\"gray\" points=\"38.5,-30.95 27.94,-30.11 35.68,-37.35 38.5,-30.95\"/>\n</g>\n<!-- 0&#45;&gt;4 -->\n<g id=\"edge9\" class=\"edge\">\n<title>0&#45;&gt;4</title>\n<path fill=\"none\" stroke=\"gray\" d=\"M97.94,-52.48C108.19,-51.17 122.02,-49.41 133.91,-47.9\"/>\n<polygon fill=\"gray\" stroke=\"gray\" points=\"134.65,-51.33 144.13,-46.59 133.76,-44.39 134.65,-51.33\"/>\n</g>\n<!-- 7 -->\n<g id=\"node15\" class=\"node\">\n<title>7</title>\n<ellipse fill=\"none\" stroke=\"orangered\" cx=\"141.34\" cy=\"-104.26\" rx=\"14.7\" ry=\"12.04\"/>\n<text text-anchor=\"middle\" x=\"141.34\" y=\"-102.36\" font-family=\"monospace\" font-size=\"8.00\" fill=\"mediumslateblue\">7</text>\n</g>\n<!-- 4&#45;&gt;7 -->\n<g id=\"edge13\" class=\"edge\">\n<title>4&#45;&gt;7</title>\n<path fill=\"none\" stroke=\"gray\" d=\"M155.37,-56.48C153.17,-63.99 150.25,-73.93 147.64,-82.81\"/>\n<polygon fill=\"gray\" stroke=\"gray\" points=\"144.25,-81.94 144.78,-92.52 150.96,-83.91 144.25,-81.94\"/>\n</g>\n<!-- 3 -->\n<g id=\"node12\" class=\"node\">\n<title>3</title>\n<ellipse fill=\"none\" stroke=\"orangered\" cx=\"474.28\" cy=\"-213.37\" rx=\"14.7\" ry=\"12.04\"/>\n<text text-anchor=\"middle\" x=\"474.28\" y=\"-211.47\" font-family=\"monospace\" font-size=\"8.00\" fill=\"mediumslateblue\">3</text>\n</g>\n<!-- 3&#45;&gt;17 -->\n<g id=\"edge12\" class=\"edge\">\n<title>3&#45;&gt;17</title>\n<path fill=\"none\" stroke=\"gray\" d=\"M464.58,-204.09C455.38,-195.28 441.33,-181.84 430.09,-171.09\"/>\n<polygon fill=\"gray\" stroke=\"gray\" points=\"432.51,-168.55 422.86,-164.17 427.67,-173.61 432.51,-168.55\"/>\n</g>\n<!-- 2 -->\n<g id=\"node13\" class=\"node\">\n<title>2</title>\n<ellipse fill=\"none\" stroke=\"orangered\" cx=\"556.8\" cy=\"-206.35\" rx=\"14.7\" ry=\"12.04\"/>\n<text text-anchor=\"middle\" x=\"556.8\" y=\"-204.45\" font-family=\"monospace\" font-size=\"8.00\" fill=\"mediumslateblue\">2</text>\n</g>\n<!-- 3&#45;&gt;2 -->\n<g id=\"edge10\" class=\"edge\">\n<title>3&#45;&gt;2</title>\n<path fill=\"none\" stroke=\"gray\" d=\"M489.41,-212.08C501.16,-211.08 517.71,-209.67 531.47,-208.5\"/>\n<polygon fill=\"gray\" stroke=\"gray\" points=\"532.09,-211.96 541.76,-207.63 531.5,-204.99 532.09,-211.96\"/>\n</g>\n<!-- 6 -->\n<g id=\"node14\" class=\"node\">\n<title>6</title>\n<ellipse fill=\"none\" stroke=\"orangered\" cx=\"475.69\" cy=\"-296.36\" rx=\"14.7\" ry=\"12.04\"/>\n<text text-anchor=\"middle\" x=\"475.69\" y=\"-294.46\" font-family=\"monospace\" font-size=\"8.00\" fill=\"mediumslateblue\">6</text>\n</g>\n<!-- 3&#45;&gt;6 -->\n<g id=\"edge11\" class=\"edge\">\n<title>3&#45;&gt;6</title>\n<path fill=\"none\" stroke=\"gray\" d=\"M474.49,-225.61C474.7,-238.31 475.04,-258.45 475.31,-273.99\"/>\n<polygon fill=\"gray\" stroke=\"gray\" points=\"471.81,-274.39 475.48,-284.33 478.81,-274.27 471.81,-274.39\"/>\n</g>\n<!-- 10 -->\n<g id=\"node17\" class=\"node\">\n<title>10</title>\n<ellipse fill=\"none\" stroke=\"orangered\" cx=\"490.01\" cy=\"-372.33\" rx=\"18.27\" ry=\"12.04\"/>\n<text text-anchor=\"middle\" x=\"490.01\" y=\"-370.43\" font-family=\"monospace\" font-size=\"8.00\" fill=\"mediumslateblue\">10</text>\n</g>\n<!-- 6&#45;&gt;10 -->\n<g id=\"edge15\" class=\"edge\">\n<title>6&#45;&gt;10</title>\n<path fill=\"none\" stroke=\"gray\" d=\"M477.99,-308.56C480.08,-319.68 483.23,-336.39 485.78,-349.91\"/>\n<polygon fill=\"gray\" stroke=\"gray\" points=\"482.38,-350.72 487.67,-359.9 489.25,-349.43 482.38,-350.72\"/>\n</g>\n<!-- 7&#45;&gt;8 -->\n<g id=\"edge17\" class=\"edge\">\n<title>7&#45;&gt;8</title>\n<path fill=\"none\" stroke=\"gray\" d=\"M156.19,-102.84C167.21,-101.79 182.51,-100.33 195.39,-99.1\"/>\n<polygon fill=\"gray\" stroke=\"gray\" points=\"195.88,-102.57 205.5,-98.14 195.21,-95.61 195.88,-102.57\"/>\n</g>\n<!-- 7&#45;&gt;0 -->\n<g id=\"edge16\" class=\"edge\">\n<title>7&#45;&gt;0</title>\n<path fill=\"none\" stroke=\"gray\" d=\"M130.9,-95.34C122.6,-88.25 110.78,-78.16 100.96,-69.77\"/>\n<polygon fill=\"gray\" stroke=\"gray\" points=\"103.18,-67.06 93.3,-63.23 98.63,-72.38 103.18,-67.06\"/>\n</g>\n<!-- 5 -->\n<g id=\"node16\" class=\"node\">\n<title>5</title>\n<ellipse fill=\"none\" stroke=\"orangered\" cx=\"633.95\" cy=\"-208.13\" rx=\"14.7\" ry=\"12.04\"/>\n<text text-anchor=\"middle\" x=\"633.95\" y=\"-206.23\" font-family=\"monospace\" font-size=\"8.00\" fill=\"mediumslateblue\">5</text>\n</g>\n<!-- 5&#45;&gt;2 -->\n<g id=\"edge14\" class=\"edge\">\n<title>5&#45;&gt;2</title>\n<path fill=\"none\" stroke=\"gray\" d=\"M619.07,-207.79C608.58,-207.55 594.25,-207.22 581.99,-206.93\"/>\n<polygon fill=\"gray\" stroke=\"gray\" points=\"581.97,-203.43 571.89,-206.7 581.81,-210.43 581.97,-203.43\"/>\n</g>\n<!-- 9&#45;&gt;8 -->\n<g id=\"edge19\" class=\"edge\">\n<title>9&#45;&gt;8</title>\n<path fill=\"none\" stroke=\"gray\" d=\"M248.42,-163.33C243.35,-151.33 235.3,-132.27 229.1,-117.61\"/>\n<polygon fill=\"gray\" stroke=\"gray\" points=\"232.29,-116.16 225.17,-108.31 225.84,-118.88 232.29,-116.16\"/>\n</g>\n</g>\n</svg>\n",
            "text/plain": [
              "<graphviz.graphs.Digraph at 0x7f65655c19c0>"
            ]
          },
          "metadata": {},
          "execution_count": 20
        }
      ]
    },
    {
      "cell_type": "code",
      "source": [
        "path = dls(G, 12, 100)\n",
        "drawG_al(G, directed=True, path=path, layout=\"neato\")"
      ],
      "metadata": {
        "colab": {
          "base_uri": "https://localhost:8080/",
          "height": 808
        },
        "id": "ddGjiemBYipO",
        "outputId": "60db5151-43a4-47b3-be6a-c065a8f7c6c5"
      },
      "execution_count": 21,
      "outputs": [
        {
          "output_type": "execute_result",
          "data": {
            "image/svg+xml": "<?xml version=\"1.0\" encoding=\"UTF-8\" standalone=\"no\"?>\n<!DOCTYPE svg PUBLIC \"-//W3C//DTD SVG 1.1//EN\"\n \"http://www.w3.org/Graphics/SVG/1.1/DTD/svg11.dtd\">\n<!-- Generated by graphviz version 2.43.0 (0)\n -->\n<!-- Title: di&#45;anyname Pages: 1 -->\n<svg width=\"492pt\" height=\"590pt\"\n viewBox=\"0.00 0.00 492.44 590.49\" xmlns=\"http://www.w3.org/2000/svg\" xmlns:xlink=\"http://www.w3.org/1999/xlink\">\n<g id=\"graph0\" class=\"graph\" transform=\"scale(1 1) rotate(0) translate(4 586.49)\">\n<title>di&#45;anyname</title>\n<polygon fill=\"white\" stroke=\"transparent\" points=\"-4,4 -4,-586.49 488.44,-586.49 488.44,4 -4,4\"/>\n<!-- 7 -->\n<g id=\"node1\" class=\"node\">\n<title>7</title>\n<ellipse fill=\"none\" stroke=\"orangered\" cx=\"80.84\" cy=\"-145.04\" rx=\"14.7\" ry=\"12.04\"/>\n<text text-anchor=\"middle\" x=\"80.84\" y=\"-143.14\" font-family=\"monospace\" font-size=\"8.00\" fill=\"mediumslateblue\">7</text>\n</g>\n<!-- 0 -->\n<g id=\"node2\" class=\"node\">\n<title>0</title>\n<ellipse fill=\"none\" stroke=\"orangered\" cx=\"58.88\" cy=\"-71.67\" rx=\"14.7\" ry=\"12.04\"/>\n<text text-anchor=\"middle\" x=\"58.88\" y=\"-69.77\" font-family=\"monospace\" font-size=\"8.00\" fill=\"mediumslateblue\">0</text>\n</g>\n<!-- 7&#45;&gt;0 -->\n<g id=\"edge1\" class=\"edge\">\n<title>7&#45;&gt;0</title>\n<path fill=\"none\" stroke=\"orange\" stroke-width=\"2\" d=\"M77.31,-133.25C74.1,-122.51 69.27,-106.38 65.36,-93.32\"/>\n<polygon fill=\"orange\" stroke=\"orange\" stroke-width=\"2\" points=\"68.7,-92.25 62.48,-83.67 61.99,-94.26 68.7,-92.25\"/>\n</g>\n<!-- 8 -->\n<g id=\"node4\" class=\"node\">\n<title>8</title>\n<ellipse fill=\"none\" stroke=\"orangered\" cx=\"153.51\" cy=\"-177.83\" rx=\"14.7\" ry=\"12.04\"/>\n<text text-anchor=\"middle\" x=\"153.51\" y=\"-175.93\" font-family=\"monospace\" font-size=\"8.00\" fill=\"mediumslateblue\">8</text>\n</g>\n<!-- 7&#45;&gt;8 -->\n<g id=\"edge19\" class=\"edge\">\n<title>7&#45;&gt;8</title>\n<path fill=\"none\" stroke=\"gray\" d=\"M93.83,-150.9C104.14,-155.55 118.8,-162.16 131,-167.67\"/>\n<polygon fill=\"gray\" stroke=\"gray\" points=\"129.59,-170.87 140.14,-171.8 132.47,-164.49 129.59,-170.87\"/>\n</g>\n<!-- 1 -->\n<g id=\"node3\" class=\"node\">\n<title>1</title>\n<ellipse fill=\"none\" stroke=\"orangered\" cx=\"14.85\" cy=\"-12.02\" rx=\"14.7\" ry=\"12.04\"/>\n<text text-anchor=\"middle\" x=\"14.85\" y=\"-10.12\" font-family=\"monospace\" font-size=\"8.00\" fill=\"mediumslateblue\">1</text>\n</g>\n<!-- 0&#45;&gt;1 -->\n<g id=\"edge2\" class=\"edge\">\n<title>0&#45;&gt;1</title>\n<path fill=\"none\" stroke=\"orange\" stroke-width=\"2\" d=\"M51.21,-61.28C45.04,-52.92 36.2,-40.94 28.78,-30.89\"/>\n<polygon fill=\"orange\" stroke=\"orange\" stroke-width=\"2\" points=\"31.48,-28.66 22.73,-22.69 25.85,-32.82 31.48,-28.66\"/>\n</g>\n<!-- 4 -->\n<g id=\"node5\" class=\"node\">\n<title>4</title>\n<ellipse fill=\"none\" stroke=\"orangered\" cx=\"128.42\" cy=\"-103.23\" rx=\"14.7\" ry=\"12.04\"/>\n<text text-anchor=\"middle\" x=\"128.42\" y=\"-101.33\" font-family=\"monospace\" font-size=\"8.00\" fill=\"mediumslateblue\">4</text>\n</g>\n<!-- 0&#45;&gt;4 -->\n<g id=\"edge13\" class=\"edge\">\n<title>0&#45;&gt;4</title>\n<path fill=\"none\" stroke=\"gray\" d=\"M71.96,-77.61C81.58,-81.97 94.88,-88.01 106.15,-93.13\"/>\n<polygon fill=\"gray\" stroke=\"gray\" points=\"104.84,-96.38 115.4,-97.32 107.74,-90 104.84,-96.38\"/>\n</g>\n<!-- 8&#45;&gt;4 -->\n<g id=\"edge3\" class=\"edge\">\n<title>8&#45;&gt;4</title>\n<path fill=\"none\" stroke=\"orange\" stroke-width=\"2\" d=\"M149.59,-166.17C145.86,-155.07 140.14,-138.09 135.59,-124.57\"/>\n<polygon fill=\"orange\" stroke=\"orange\" stroke-width=\"2\" points=\"138.9,-123.42 132.39,-115.05 132.26,-125.65 138.9,-123.42\"/>\n</g>\n<!-- 4&#45;&gt;7 -->\n<g id=\"edge4\" class=\"edge\">\n<title>4&#45;&gt;7</title>\n<path fill=\"none\" stroke=\"orange\" stroke-width=\"2\" d=\"M118.33,-112.1C112.65,-117.09 105.39,-123.46 98.78,-129.27\"/>\n<polygon fill=\"orange\" stroke=\"orange\" stroke-width=\"2\" points=\"96.12,-126.96 90.91,-136.19 100.74,-132.21 96.12,-126.96\"/>\n</g>\n<!-- 11 -->\n<g id=\"node6\" class=\"node\">\n<title>11</title>\n<ellipse fill=\"none\" stroke=\"orangered\" cx=\"162.7\" cy=\"-258.5\" rx=\"18.27\" ry=\"12.04\"/>\n<text text-anchor=\"middle\" x=\"162.7\" y=\"-256.6\" font-family=\"monospace\" font-size=\"8.00\" fill=\"mediumslateblue\">11</text>\n</g>\n<!-- 11&#45;&gt;8 -->\n<g id=\"edge5\" class=\"edge\">\n<title>11&#45;&gt;8</title>\n<path fill=\"none\" stroke=\"orange\" stroke-width=\"2\" d=\"M161.3,-246.25C159.91,-233.98 157.72,-214.82 156.03,-199.89\"/>\n<polygon fill=\"orange\" stroke=\"orange\" stroke-width=\"2\" points=\"159.5,-199.47 154.89,-189.93 152.54,-200.26 159.5,-199.47\"/>\n</g>\n<!-- 14 -->\n<g id=\"node11\" class=\"node\">\n<title>14</title>\n<ellipse fill=\"none\" stroke=\"orangered\" cx=\"151.65\" cy=\"-326.35\" rx=\"18.27\" ry=\"12.04\"/>\n<text text-anchor=\"middle\" x=\"151.65\" y=\"-324.45\" font-family=\"monospace\" font-size=\"8.00\" fill=\"mediumslateblue\">14</text>\n</g>\n<!-- 11&#45;&gt;14 -->\n<g id=\"edge9\" class=\"edge\">\n<title>11&#45;&gt;14</title>\n<path fill=\"none\" stroke=\"orange\" stroke-width=\"2\" d=\"M160.72,-270.63C159.2,-279.99 157.05,-293.18 155.23,-304.38\"/>\n<polygon fill=\"orange\" stroke=\"orange\" stroke-width=\"2\" points=\"151.76,-303.89 153.61,-314.32 158.67,-305.01 151.76,-303.89\"/>\n</g>\n<!-- 13 -->\n<g id=\"node7\" class=\"node\">\n<title>13</title>\n<ellipse fill=\"none\" stroke=\"orangered\" cx=\"282.05\" cy=\"-244.93\" rx=\"18.27\" ry=\"12.04\"/>\n<text text-anchor=\"middle\" x=\"282.05\" y=\"-243.03\" font-family=\"monospace\" font-size=\"8.00\" fill=\"mediumslateblue\">13</text>\n</g>\n<!-- 9 -->\n<g id=\"node8\" class=\"node\">\n<title>9</title>\n<ellipse fill=\"none\" stroke=\"orangered\" cx=\"235.91\" cy=\"-175.95\" rx=\"14.7\" ry=\"12.04\"/>\n<text text-anchor=\"middle\" x=\"235.91\" y=\"-174.05\" font-family=\"monospace\" font-size=\"8.00\" fill=\"mediumslateblue\">9</text>\n</g>\n<!-- 13&#45;&gt;9 -->\n<g id=\"edge6\" class=\"edge\">\n<title>13&#45;&gt;9</title>\n<path fill=\"none\" stroke=\"orange\" stroke-width=\"2\" d=\"M274.64,-233.85C267.67,-223.43 257.09,-207.61 248.75,-195.14\"/>\n<polygon fill=\"orange\" stroke=\"orange\" stroke-width=\"2\" points=\"251.62,-193.14 243.15,-186.78 245.8,-197.04 251.62,-193.14\"/>\n</g>\n<!-- 9&#45;&gt;8 -->\n<g id=\"edge20\" class=\"edge\">\n<title>9&#45;&gt;8</title>\n<path fill=\"none\" stroke=\"gray\" d=\"M220.8,-176.29C209.07,-176.56 192.54,-176.94 178.81,-177.25\"/>\n<polygon fill=\"gray\" stroke=\"gray\" points=\"178.45,-173.76 168.53,-177.49 178.61,-180.76 178.45,-173.76\"/>\n</g>\n<!-- 15 -->\n<g id=\"node9\" class=\"node\">\n<title>15</title>\n<ellipse fill=\"none\" stroke=\"orangered\" cx=\"227.75\" cy=\"-309.35\" rx=\"18.27\" ry=\"12.04\"/>\n<text text-anchor=\"middle\" x=\"227.75\" y=\"-307.45\" font-family=\"monospace\" font-size=\"8.00\" fill=\"mediumslateblue\">15</text>\n</g>\n<!-- 15&#45;&gt;11 -->\n<g id=\"edge7\" class=\"edge\">\n<title>15&#45;&gt;11</title>\n<path fill=\"none\" stroke=\"orange\" stroke-width=\"2\" d=\"M215.82,-300.03C206.56,-292.79 193.51,-282.59 182.67,-274.11\"/>\n<polygon fill=\"orange\" stroke=\"orange\" stroke-width=\"2\" points=\"184.59,-271.17 174.55,-267.77 180.28,-276.68 184.59,-271.17\"/>\n</g>\n<!-- 17 -->\n<g id=\"node10\" class=\"node\">\n<title>17</title>\n<ellipse fill=\"none\" stroke=\"orangered\" cx=\"287.27\" cy=\"-341.63\" rx=\"18.27\" ry=\"12.04\"/>\n<text text-anchor=\"middle\" x=\"287.27\" y=\"-339.73\" font-family=\"monospace\" font-size=\"8.00\" fill=\"mediumslateblue\">17</text>\n</g>\n<!-- 15&#45;&gt;17 -->\n<g id=\"edge12\" class=\"edge\">\n<title>15&#45;&gt;17</title>\n<path fill=\"none\" stroke=\"orange\" stroke-width=\"2\" d=\"M242.16,-317.17C248.74,-320.74 256.7,-325.05 264.09,-329.06\"/>\n<polygon fill=\"orange\" stroke=\"orange\" stroke-width=\"2\" points=\"262.54,-332.2 272.99,-333.89 265.87,-326.05 262.54,-332.2\"/>\n</g>\n<!-- 17&#45;&gt;13 -->\n<g id=\"edge8\" class=\"edge\">\n<title>17&#45;&gt;13</title>\n<path fill=\"none\" stroke=\"orange\" stroke-width=\"2\" d=\"M286.61,-329.39C285.76,-313.76 284.29,-286.46 283.25,-267.13\"/>\n<polygon fill=\"orange\" stroke=\"orange\" stroke-width=\"2\" points=\"286.74,-266.87 282.71,-257.08 279.75,-267.25 286.74,-266.87\"/>\n</g>\n<!-- 14&#45;&gt;15 -->\n<g id=\"edge21\" class=\"edge\">\n<title>14&#45;&gt;15</title>\n<path fill=\"none\" stroke=\"gray\" d=\"M169.3,-322.41C178.52,-320.35 190.01,-317.78 200.36,-315.47\"/>\n<polygon fill=\"gray\" stroke=\"gray\" points=\"201.2,-318.87 210.2,-313.27 199.68,-312.04 201.2,-318.87\"/>\n</g>\n<!-- 16 -->\n<g id=\"node12\" class=\"node\">\n<title>16</title>\n<ellipse fill=\"none\" stroke=\"orangered\" cx=\"321.67\" cy=\"-293.39\" rx=\"18.27\" ry=\"12.04\"/>\n<text text-anchor=\"middle\" x=\"321.67\" y=\"-291.49\" font-family=\"monospace\" font-size=\"8.00\" fill=\"mediumslateblue\">16</text>\n</g>\n<!-- 16&#45;&gt;15 -->\n<g id=\"edge10\" class=\"edge\">\n<title>16&#45;&gt;15</title>\n<path fill=\"none\" stroke=\"orange\" stroke-width=\"2\" d=\"M303.56,-296.47C290.05,-298.77 271.33,-301.95 255.88,-304.57\"/>\n<polygon fill=\"orange\" stroke=\"orange\" stroke-width=\"2\" points=\"255.08,-301.16 245.81,-306.29 256.25,-308.06 255.08,-301.16\"/>\n</g>\n<!-- 16&#45;&gt;17 -->\n<g id=\"edge22\" class=\"edge\">\n<title>16&#45;&gt;17</title>\n<path fill=\"none\" stroke=\"gray\" d=\"M313.69,-304.58C309.96,-309.82 305.4,-316.21 301.13,-322.2\"/>\n<polygon fill=\"gray\" stroke=\"gray\" points=\"298.16,-320.33 295.2,-330.51 303.86,-324.4 298.16,-320.33\"/>\n</g>\n<!-- 12 -->\n<g id=\"node13\" class=\"node\">\n<title>12</title>\n<ellipse fill=\"none\" stroke=\"orangered\" cx=\"396.86\" cy=\"-254.73\" rx=\"18.27\" ry=\"12.04\"/>\n<text text-anchor=\"middle\" x=\"396.86\" y=\"-252.83\" font-family=\"monospace\" font-size=\"8.00\" fill=\"mediumslateblue\">12</text>\n</g>\n<!-- 12&#45;&gt;16 -->\n<g id=\"edge11\" class=\"edge\">\n<title>12&#45;&gt;16</title>\n<path fill=\"none\" stroke=\"orange\" stroke-width=\"2\" d=\"M382.36,-262.18C371.86,-267.58 357.42,-275.01 345.27,-281.26\"/>\n<polygon fill=\"orange\" stroke=\"orange\" stroke-width=\"2\" points=\"343.42,-278.28 336.12,-285.96 346.62,-284.5 343.42,-278.28\"/>\n</g>\n<!-- 3 -->\n<g id=\"node14\" class=\"node\">\n<title>3</title>\n<ellipse fill=\"none\" stroke=\"orangered\" cx=\"318.46\" cy=\"-420.82\" rx=\"14.7\" ry=\"12.04\"/>\n<text text-anchor=\"middle\" x=\"318.46\" y=\"-418.92\" font-family=\"monospace\" font-size=\"8.00\" fill=\"mediumslateblue\">3</text>\n</g>\n<!-- 3&#45;&gt;17 -->\n<g id=\"edge16\" class=\"edge\">\n<title>3&#45;&gt;17</title>\n<path fill=\"none\" stroke=\"gray\" d=\"M313.86,-409.14C309.07,-396.97 301.46,-377.66 295.6,-362.8\"/>\n<polygon fill=\"gray\" stroke=\"gray\" points=\"298.81,-361.39 291.89,-353.37 292.3,-363.95 298.81,-361.39\"/>\n</g>\n<!-- 2 -->\n<g id=\"node15\" class=\"node\">\n<title>2</title>\n<ellipse fill=\"none\" stroke=\"orangered\" cx=\"397.98\" cy=\"-445.37\" rx=\"14.7\" ry=\"12.04\"/>\n<text text-anchor=\"middle\" x=\"397.98\" y=\"-443.47\" font-family=\"monospace\" font-size=\"8.00\" fill=\"mediumslateblue\">2</text>\n</g>\n<!-- 3&#45;&gt;2 -->\n<g id=\"edge14\" class=\"edge\">\n<title>3&#45;&gt;2</title>\n<path fill=\"none\" stroke=\"gray\" d=\"M332.67,-425.21C344.21,-428.77 360.72,-433.87 374.25,-438.04\"/>\n<polygon fill=\"gray\" stroke=\"gray\" points=\"373.3,-441.41 383.88,-441.02 375.36,-434.73 373.3,-441.41\"/>\n</g>\n<!-- 6 -->\n<g id=\"node16\" class=\"node\">\n<title>6</title>\n<ellipse fill=\"none\" stroke=\"orangered\" cx=\"283.74\" cy=\"-496.18\" rx=\"14.7\" ry=\"12.04\"/>\n<text text-anchor=\"middle\" x=\"283.74\" y=\"-494.28\" font-family=\"monospace\" font-size=\"8.00\" fill=\"mediumslateblue\">6</text>\n</g>\n<!-- 3&#45;&gt;6 -->\n<g id=\"edge15\" class=\"edge\">\n<title>3&#45;&gt;6</title>\n<path fill=\"none\" stroke=\"gray\" d=\"M313.19,-432.27C307.94,-443.67 299.76,-461.42 293.35,-475.33\"/>\n<polygon fill=\"gray\" stroke=\"gray\" points=\"290.07,-474.08 289.07,-484.63 296.43,-477.01 290.07,-474.08\"/>\n</g>\n<!-- 10 -->\n<g id=\"node18\" class=\"node\">\n<title>10</title>\n<ellipse fill=\"none\" stroke=\"orangered\" cx=\"263.27\" cy=\"-570.47\" rx=\"18.27\" ry=\"12.04\"/>\n<text text-anchor=\"middle\" x=\"263.27\" y=\"-568.57\" font-family=\"monospace\" font-size=\"8.00\" fill=\"mediumslateblue\">10</text>\n</g>\n<!-- 6&#45;&gt;10 -->\n<g id=\"edge18\" class=\"edge\">\n<title>6&#45;&gt;10</title>\n<path fill=\"none\" stroke=\"gray\" d=\"M280.45,-508.12C277.46,-518.99 272.96,-535.32 269.31,-548.54\"/>\n<polygon fill=\"gray\" stroke=\"gray\" points=\"265.9,-547.74 266.62,-558.31 272.65,-549.6 265.9,-547.74\"/>\n</g>\n<!-- 5 -->\n<g id=\"node17\" class=\"node\">\n<title>5</title>\n<ellipse fill=\"none\" stroke=\"orangered\" cx=\"469.59\" cy=\"-473.84\" rx=\"14.7\" ry=\"12.04\"/>\n<text text-anchor=\"middle\" x=\"469.59\" y=\"-471.94\" font-family=\"monospace\" font-size=\"8.00\" fill=\"mediumslateblue\">5</text>\n</g>\n<!-- 5&#45;&gt;2 -->\n<g id=\"edge17\" class=\"edge\">\n<title>5&#45;&gt;2</title>\n<path fill=\"none\" stroke=\"gray\" d=\"M456.12,-468.48C446.22,-464.55 432.52,-459.1 420.91,-454.48\"/>\n<polygon fill=\"gray\" stroke=\"gray\" points=\"421.97,-451.14 411.39,-450.7 419.39,-457.65 421.97,-451.14\"/>\n</g>\n</g>\n</svg>\n",
            "text/plain": [
              "<graphviz.graphs.Digraph at 0x7f65655c20b0>"
            ]
          },
          "metadata": {},
          "execution_count": 21
        }
      ]
    },
    {
      "cell_type": "markdown",
      "source": [
        "# **Recorrido en Profundidad Iteractiva (IDS)**\n",
        "\n",
        "Mediante este tipo de recorrido logramos:\n",
        "\n",
        "*   Eliminar la dificultad de elegir un límite adecuado de profundidad en el DLS.\n",
        "*   Probar todos los límites de profundidad posibles, primero la profundidad 0, luego la 1, luego la 2, etc.\n",
        "*   Combinar las ventajas de las búsquedas por profundidad y por amplitud.\n",
        "\n"
      ],
      "metadata": {
        "id": "sb_jI8asZES5"
      }
    },
    {
      "cell_type": "markdown",
      "source": [
        "### **Funcion IDS**"
      ],
      "metadata": {
        "id": "ucJpG6VO3A9p"
      }
    },
    {
      "cell_type": "code",
      "source": [
        "def ids(G, start, target):\n",
        "  n = len(G)\n",
        "  for limit in range(n):\n",
        "    path = dls(G, start, limit)\n",
        "    if path[target] != -1:\n",
        "      break\n",
        "  return path"
      ],
      "metadata": {
        "id": "zIJDA1e8YrBz"
      },
      "execution_count": 22,
      "outputs": []
    },
    {
      "cell_type": "markdown",
      "source": [
        "Obtenemos un trayecto (ruta) del grafo dirigido G, iniciando del nodo 12 y finalizando en el 7.  Luego visualizamos en color naranja el recorrido iteractivo."
      ],
      "metadata": {
        "id": "sy0qrAYv3MJB"
      }
    },
    {
      "cell_type": "code",
      "source": [
        "path = ids(G, start=12, target=7)\n",
        "print(path)\n",
        "drawG_al(G, directed=True, path=path, layout=\"neato\")"
      ],
      "metadata": {
        "colab": {
          "base_uri": "https://localhost:8080/",
          "height": 596
        },
        "id": "L0R__thBZZ6a",
        "outputId": "076f3b24-6b0f-498f-8e34-3b6eba51fee2"
      },
      "execution_count": 23,
      "outputs": [
        {
          "output_type": "stream",
          "name": "stdout",
          "text": [
            "[-1, -1, -1, -1, 8, -1, -1, 4, 11, 13, -1, 15, -1, 17, 11, 16, 12, 15]\n"
          ]
        },
        {
          "output_type": "execute_result",
          "data": {
            "image/svg+xml": "<?xml version=\"1.0\" encoding=\"UTF-8\" standalone=\"no\"?>\n<!DOCTYPE svg PUBLIC \"-//W3C//DTD SVG 1.1//EN\"\n \"http://www.w3.org/Graphics/SVG/1.1/DTD/svg11.dtd\">\n<!-- Generated by graphviz version 2.43.0 (0)\n -->\n<!-- Title: di&#45;anyname Pages: 1 -->\n<svg width=\"640pt\" height=\"418pt\"\n viewBox=\"0.00 0.00 639.67 417.52\" xmlns=\"http://www.w3.org/2000/svg\" xmlns:xlink=\"http://www.w3.org/1999/xlink\">\n<g id=\"graph0\" class=\"graph\" transform=\"scale(1 1) rotate(0) translate(4 413.52)\">\n<title>di&#45;anyname</title>\n<polygon fill=\"white\" stroke=\"transparent\" points=\"-4,4 -4,-413.52 635.67,-413.52 635.67,4 -4,4\"/>\n<!-- 8 -->\n<g id=\"node1\" class=\"node\">\n<title>8</title>\n<ellipse fill=\"none\" stroke=\"orangered\" cx=\"213.46\" cy=\"-101.29\" rx=\"14.7\" ry=\"12.04\"/>\n<text text-anchor=\"middle\" x=\"213.46\" y=\"-99.39\" font-family=\"monospace\" font-size=\"8.00\" fill=\"mediumslateblue\">8</text>\n</g>\n<!-- 4 -->\n<g id=\"node2\" class=\"node\">\n<title>4</title>\n<ellipse fill=\"none\" stroke=\"orangered\" cx=\"134.15\" cy=\"-102.74\" rx=\"14.7\" ry=\"12.04\"/>\n<text text-anchor=\"middle\" x=\"134.15\" y=\"-100.84\" font-family=\"monospace\" font-size=\"8.00\" fill=\"mediumslateblue\">4</text>\n</g>\n<!-- 8&#45;&gt;4 -->\n<g id=\"edge1\" class=\"edge\">\n<title>8&#45;&gt;4</title>\n<path fill=\"none\" stroke=\"orange\" stroke-width=\"2\" d=\"M198.54,-101.56C187.47,-101.77 172.1,-102.05 159.16,-102.28\"/>\n<polygon fill=\"orange\" stroke=\"orange\" stroke-width=\"2\" points=\"158.94,-98.78 149,-102.47 159.07,-105.78 158.94,-98.78\"/>\n</g>\n<!-- 7 -->\n<g id=\"node3\" class=\"node\">\n<title>7</title>\n<ellipse fill=\"none\" stroke=\"orangered\" cx=\"156.21\" cy=\"-44.72\" rx=\"14.7\" ry=\"12.04\"/>\n<text text-anchor=\"middle\" x=\"156.21\" y=\"-42.82\" font-family=\"monospace\" font-size=\"8.00\" fill=\"mediumslateblue\">7</text>\n</g>\n<!-- 4&#45;&gt;7 -->\n<g id=\"edge2\" class=\"edge\">\n<title>4&#45;&gt;7</title>\n<path fill=\"none\" stroke=\"orange\" stroke-width=\"2\" d=\"M138.62,-91C141.34,-83.84 144.9,-74.48 148.1,-66.05\"/>\n<polygon fill=\"orange\" stroke=\"orange\" stroke-width=\"2\" points=\"151.47,-67.04 151.75,-56.45 144.93,-64.55 151.47,-67.04\"/>\n</g>\n<!-- 7&#45;&gt;8 -->\n<g id=\"edge19\" class=\"edge\">\n<title>7&#45;&gt;8</title>\n<path fill=\"none\" stroke=\"gray\" d=\"M165.66,-54.07C174.07,-62.37 186.55,-74.7 196.65,-84.68\"/>\n<polygon fill=\"gray\" stroke=\"gray\" points=\"194.23,-87.21 203.8,-91.75 199.15,-82.23 194.23,-87.21\"/>\n</g>\n<!-- 0 -->\n<g id=\"node12\" class=\"node\">\n<title>0</title>\n<ellipse fill=\"none\" stroke=\"orangered\" cx=\"79.75\" cy=\"-48.6\" rx=\"14.7\" ry=\"12.04\"/>\n<text text-anchor=\"middle\" x=\"79.75\" y=\"-46.7\" font-family=\"monospace\" font-size=\"8.00\" fill=\"mediumslateblue\">0</text>\n</g>\n<!-- 7&#45;&gt;0 -->\n<g id=\"edge18\" class=\"edge\">\n<title>7&#45;&gt;0</title>\n<path fill=\"none\" stroke=\"gray\" d=\"M141.1,-45.49C130.84,-46.01 117.02,-46.71 105.09,-47.32\"/>\n<polygon fill=\"gray\" stroke=\"gray\" points=\"104.63,-43.84 94.82,-47.84 104.99,-50.83 104.63,-43.84\"/>\n</g>\n<!-- 11 -->\n<g id=\"node4\" class=\"node\">\n<title>11</title>\n<ellipse fill=\"none\" stroke=\"orangered\" cx=\"290.08\" cy=\"-71.81\" rx=\"18.27\" ry=\"12.04\"/>\n<text text-anchor=\"middle\" x=\"290.08\" y=\"-69.91\" font-family=\"monospace\" font-size=\"8.00\" fill=\"mediumslateblue\">11</text>\n</g>\n<!-- 11&#45;&gt;8 -->\n<g id=\"edge3\" class=\"edge\">\n<title>11&#45;&gt;8</title>\n<path fill=\"none\" stroke=\"orange\" stroke-width=\"2\" d=\"M274.2,-77.92C263.31,-82.11 248.69,-87.73 236.52,-92.42\"/>\n<polygon fill=\"orange\" stroke=\"orange\" stroke-width=\"2\" points=\"235.09,-89.22 227.01,-96.08 237.6,-95.75 235.09,-89.22\"/>\n</g>\n<!-- 14 -->\n<g id=\"node9\" class=\"node\">\n<title>14</title>\n<ellipse fill=\"none\" stroke=\"orangered\" cx=\"343.02\" cy=\"-26.57\" rx=\"18.27\" ry=\"12.04\"/>\n<text text-anchor=\"middle\" x=\"343.02\" y=\"-24.67\" font-family=\"monospace\" font-size=\"8.00\" fill=\"mediumslateblue\">14</text>\n</g>\n<!-- 11&#45;&gt;14 -->\n<g id=\"edge7\" class=\"edge\">\n<title>11&#45;&gt;14</title>\n<path fill=\"none\" stroke=\"orange\" stroke-width=\"2\" d=\"M301.3,-62.21C307.9,-56.57 316.42,-49.3 324.03,-42.79\"/>\n<polygon fill=\"orange\" stroke=\"orange\" stroke-width=\"2\" points=\"326.48,-45.3 331.81,-36.15 321.93,-39.98 326.48,-45.3\"/>\n</g>\n<!-- 13 -->\n<g id=\"node5\" class=\"node\">\n<title>13</title>\n<ellipse fill=\"none\" stroke=\"orangered\" cx=\"319.54\" cy=\"-205.43\" rx=\"18.27\" ry=\"12.04\"/>\n<text text-anchor=\"middle\" x=\"319.54\" y=\"-203.53\" font-family=\"monospace\" font-size=\"8.00\" fill=\"mediumslateblue\">13</text>\n</g>\n<!-- 9 -->\n<g id=\"node6\" class=\"node\">\n<title>9</title>\n<ellipse fill=\"none\" stroke=\"orangered\" cx=\"240.2\" cy=\"-181.78\" rx=\"14.7\" ry=\"12.04\"/>\n<text text-anchor=\"middle\" x=\"240.2\" y=\"-179.88\" font-family=\"monospace\" font-size=\"8.00\" fill=\"mediumslateblue\">9</text>\n</g>\n<!-- 13&#45;&gt;9 -->\n<g id=\"edge4\" class=\"edge\">\n<title>13&#45;&gt;9</title>\n<path fill=\"none\" stroke=\"orange\" stroke-width=\"2\" d=\"M302.72,-200.41C291.49,-197.06 276.55,-192.61 264.09,-188.9\"/>\n<polygon fill=\"orange\" stroke=\"orange\" stroke-width=\"2\" points=\"264.93,-185.5 254.35,-185.99 262.93,-192.21 264.93,-185.5\"/>\n</g>\n<!-- 9&#45;&gt;8 -->\n<g id=\"edge20\" class=\"edge\">\n<title>9&#45;&gt;8</title>\n<path fill=\"none\" stroke=\"gray\" d=\"M236.25,-169.9C232.12,-157.47 225.55,-137.68 220.52,-122.54\"/>\n<polygon fill=\"gray\" stroke=\"gray\" points=\"223.81,-121.34 217.33,-112.96 217.17,-123.55 223.81,-121.34\"/>\n</g>\n<!-- 15 -->\n<g id=\"node7\" class=\"node\">\n<title>15</title>\n<ellipse fill=\"none\" stroke=\"orangered\" cx=\"365.87\" cy=\"-99.67\" rx=\"18.27\" ry=\"12.04\"/>\n<text text-anchor=\"middle\" x=\"365.87\" y=\"-97.77\" font-family=\"monospace\" font-size=\"8.00\" fill=\"mediumslateblue\">15</text>\n</g>\n<!-- 15&#45;&gt;11 -->\n<g id=\"edge5\" class=\"edge\">\n<title>15&#45;&gt;11</title>\n<path fill=\"none\" stroke=\"orange\" stroke-width=\"2\" d=\"M349.8,-93.76C339.85,-90.1 326.86,-85.33 315.53,-81.16\"/>\n<polygon fill=\"orange\" stroke=\"orange\" stroke-width=\"2\" points=\"316.72,-77.87 306.13,-77.71 314.31,-84.44 316.72,-77.87\"/>\n</g>\n<!-- 17 -->\n<g id=\"node8\" class=\"node\">\n<title>17</title>\n<ellipse fill=\"none\" stroke=\"orangered\" cx=\"400.25\" cy=\"-173.48\" rx=\"18.27\" ry=\"12.04\"/>\n<text text-anchor=\"middle\" x=\"400.25\" y=\"-171.58\" font-family=\"monospace\" font-size=\"8.00\" fill=\"mediumslateblue\">17</text>\n</g>\n<!-- 15&#45;&gt;17 -->\n<g id=\"edge10\" class=\"edge\">\n<title>15&#45;&gt;17</title>\n<path fill=\"none\" stroke=\"orange\" stroke-width=\"2\" d=\"M371.24,-111.2C376.36,-122.19 384.18,-138.99 390.42,-152.37\"/>\n<polygon fill=\"orange\" stroke=\"orange\" stroke-width=\"2\" points=\"387.41,-154.2 394.8,-161.79 393.75,-151.24 387.41,-154.2\"/>\n</g>\n<!-- 17&#45;&gt;13 -->\n<g id=\"edge6\" class=\"edge\">\n<title>17&#45;&gt;13</title>\n<path fill=\"none\" stroke=\"orange\" stroke-width=\"2\" d=\"M384.31,-179.79C373.03,-184.26 357.68,-190.33 344.76,-195.45\"/>\n<polygon fill=\"orange\" stroke=\"orange\" stroke-width=\"2\" points=\"343.47,-192.19 335.46,-199.13 346.04,-198.7 343.47,-192.19\"/>\n</g>\n<!-- 14&#45;&gt;15 -->\n<g id=\"edge21\" class=\"edge\">\n<title>14&#45;&gt;15</title>\n<path fill=\"none\" stroke=\"gray\" d=\"M346.79,-38.64C350.12,-49.28 355.05,-65.05 359.07,-77.9\"/>\n<polygon fill=\"gray\" stroke=\"gray\" points=\"355.84,-79.32 362.17,-87.82 362.53,-77.23 355.84,-79.32\"/>\n</g>\n<!-- 16 -->\n<g id=\"node10\" class=\"node\">\n<title>16</title>\n<ellipse fill=\"none\" stroke=\"orangered\" cx=\"435.34\" cy=\"-101.11\" rx=\"18.27\" ry=\"12.04\"/>\n<text text-anchor=\"middle\" x=\"435.34\" y=\"-99.21\" font-family=\"monospace\" font-size=\"8.00\" fill=\"mediumslateblue\">16</text>\n</g>\n<!-- 16&#45;&gt;15 -->\n<g id=\"edge8\" class=\"edge\">\n<title>16&#45;&gt;15</title>\n<path fill=\"none\" stroke=\"orange\" stroke-width=\"2\" d=\"M416.72,-100.72C409.95,-100.58 402.12,-100.42 394.67,-100.26\"/>\n<polygon fill=\"orange\" stroke=\"orange\" stroke-width=\"2\" points=\"394.61,-96.76 384.54,-100.05 394.47,-103.76 394.61,-96.76\"/>\n</g>\n<!-- 16&#45;&gt;17 -->\n<g id=\"edge22\" class=\"edge\">\n<title>16&#45;&gt;17</title>\n<path fill=\"none\" stroke=\"gray\" d=\"M429.7,-112.74C424.52,-123.43 416.7,-139.56 410.42,-152.5\"/>\n<polygon fill=\"gray\" stroke=\"gray\" points=\"407.2,-151.12 405.99,-161.64 413.5,-154.17 407.2,-151.12\"/>\n</g>\n<!-- 12 -->\n<g id=\"node11\" class=\"node\">\n<title>12</title>\n<ellipse fill=\"none\" stroke=\"orangered\" cx=\"489.25\" cy=\"-40.46\" rx=\"18.27\" ry=\"12.04\"/>\n<text text-anchor=\"middle\" x=\"489.25\" y=\"-38.56\" font-family=\"monospace\" font-size=\"8.00\" fill=\"mediumslateblue\">12</text>\n</g>\n<!-- 12&#45;&gt;16 -->\n<g id=\"edge9\" class=\"edge\">\n<title>12&#45;&gt;16</title>\n<path fill=\"none\" stroke=\"orange\" stroke-width=\"2\" d=\"M479.86,-51.02C472.05,-59.81 460.76,-72.51 451.5,-82.92\"/>\n<polygon fill=\"orange\" stroke=\"orange\" stroke-width=\"2\" points=\"448.65,-80.86 444.62,-90.66 453.88,-85.51 448.65,-80.86\"/>\n</g>\n<!-- 0&#45;&gt;4 -->\n<g id=\"edge12\" class=\"edge\">\n<title>0&#45;&gt;4</title>\n<path fill=\"none\" stroke=\"gray\" d=\"M89.22,-58.03C96.93,-65.7 108,-76.71 117.22,-85.89\"/>\n<polygon fill=\"gray\" stroke=\"gray\" points=\"114.86,-88.48 124.42,-93.05 119.8,-83.52 114.86,-88.48\"/>\n</g>\n<!-- 1 -->\n<g id=\"node13\" class=\"node\">\n<title>1</title>\n<ellipse fill=\"none\" stroke=\"orangered\" cx=\"14.85\" cy=\"-12.02\" rx=\"14.7\" ry=\"12.04\"/>\n<text text-anchor=\"middle\" x=\"14.85\" y=\"-10.12\" font-family=\"monospace\" font-size=\"8.00\" fill=\"mediumslateblue\">1</text>\n</g>\n<!-- 0&#45;&gt;1 -->\n<g id=\"edge11\" class=\"edge\">\n<title>0&#45;&gt;1</title>\n<path fill=\"none\" stroke=\"gray\" d=\"M67.54,-41.72C58.77,-36.78 46.71,-29.98 36.35,-24.14\"/>\n<polygon fill=\"gray\" stroke=\"gray\" points=\"37.87,-20.98 27.44,-19.12 34.44,-27.08 37.87,-20.98\"/>\n</g>\n<!-- 3 -->\n<g id=\"node14\" class=\"node\">\n<title>3</title>\n<ellipse fill=\"none\" stroke=\"orangered\" cx=\"457.31\" cy=\"-237.75\" rx=\"14.7\" ry=\"12.04\"/>\n<text text-anchor=\"middle\" x=\"457.31\" y=\"-235.85\" font-family=\"monospace\" font-size=\"8.00\" fill=\"mediumslateblue\">3</text>\n</g>\n<!-- 3&#45;&gt;17 -->\n<g id=\"edge15\" class=\"edge\">\n<title>3&#45;&gt;17</title>\n<path fill=\"none\" stroke=\"gray\" d=\"M448.4,-227.7C439.84,-218.07 426.72,-203.29 416.33,-191.6\"/>\n<polygon fill=\"gray\" stroke=\"gray\" points=\"418.93,-189.25 409.67,-184.09 413.7,-193.9 418.93,-189.25\"/>\n</g>\n<!-- 2 -->\n<g id=\"node15\" class=\"node\">\n<title>2</title>\n<ellipse fill=\"none\" stroke=\"orangered\" cx=\"540.12\" cy=\"-237.45\" rx=\"14.7\" ry=\"12.04\"/>\n<text text-anchor=\"middle\" x=\"540.12\" y=\"-235.55\" font-family=\"monospace\" font-size=\"8.00\" fill=\"mediumslateblue\">2</text>\n</g>\n<!-- 3&#45;&gt;2 -->\n<g id=\"edge13\" class=\"edge\">\n<title>3&#45;&gt;2</title>\n<path fill=\"none\" stroke=\"gray\" d=\"M472.5,-237.69C484.29,-237.65 500.9,-237.59 514.7,-237.54\"/>\n<polygon fill=\"gray\" stroke=\"gray\" points=\"515.04,-241.04 525.03,-237.5 515.02,-234.04 515.04,-241.04\"/>\n</g>\n<!-- 6 -->\n<g id=\"node16\" class=\"node\">\n<title>6</title>\n<ellipse fill=\"none\" stroke=\"orangered\" cx=\"452\" cy=\"-320.59\" rx=\"14.7\" ry=\"12.04\"/>\n<text text-anchor=\"middle\" x=\"452\" y=\"-318.69\" font-family=\"monospace\" font-size=\"8.00\" fill=\"mediumslateblue\">6</text>\n</g>\n<!-- 3&#45;&gt;6 -->\n<g id=\"edge14\" class=\"edge\">\n<title>3&#45;&gt;6</title>\n<path fill=\"none\" stroke=\"gray\" d=\"M456.53,-249.97C455.71,-262.65 454.43,-282.75 453.43,-298.27\"/>\n<polygon fill=\"gray\" stroke=\"gray\" points=\"449.92,-298.38 452.77,-308.59 456.9,-298.83 449.92,-298.38\"/>\n</g>\n<!-- 10 -->\n<g id=\"node18\" class=\"node\">\n<title>10</title>\n<ellipse fill=\"none\" stroke=\"orangered\" cx=\"459.96\" cy=\"-397.5\" rx=\"18.27\" ry=\"12.04\"/>\n<text text-anchor=\"middle\" x=\"459.96\" y=\"-395.6\" font-family=\"monospace\" font-size=\"8.00\" fill=\"mediumslateblue\">10</text>\n</g>\n<!-- 6&#45;&gt;10 -->\n<g id=\"edge17\" class=\"edge\">\n<title>6&#45;&gt;10</title>\n<path fill=\"none\" stroke=\"gray\" d=\"M453.24,-332.61C454.42,-343.94 456.2,-361.22 457.64,-375.09\"/>\n<polygon fill=\"gray\" stroke=\"gray\" points=\"454.19,-375.73 458.7,-385.32 461.15,-375.01 454.19,-375.73\"/>\n</g>\n<!-- 5 -->\n<g id=\"node17\" class=\"node\">\n<title>5</title>\n<ellipse fill=\"none\" stroke=\"orangered\" cx=\"616.82\" cy=\"-245.78\" rx=\"14.7\" ry=\"12.04\"/>\n<text text-anchor=\"middle\" x=\"616.82\" y=\"-243.88\" font-family=\"monospace\" font-size=\"8.00\" fill=\"mediumslateblue\">5</text>\n</g>\n<!-- 5&#45;&gt;2 -->\n<g id=\"edge16\" class=\"edge\">\n<title>5&#45;&gt;2</title>\n<path fill=\"none\" stroke=\"gray\" d=\"M602.03,-244.17C591.53,-243.03 577.17,-241.47 564.93,-240.14\"/>\n<polygon fill=\"gray\" stroke=\"gray\" points=\"565.18,-236.65 554.86,-239.05 564.43,-243.61 565.18,-236.65\"/>\n</g>\n</g>\n</svg>\n",
            "text/plain": [
              "<graphviz.graphs.Digraph at 0x7f6565561fc0>"
            ]
          },
          "metadata": {},
          "execution_count": 23
        }
      ]
    },
    {
      "cell_type": "markdown",
      "source": [
        "Obtenemos un trayecto (ruta) del grafo dirigido G, iniciando del nodo 12 y finalizando en el 10.  Luego visualizamos en color naranja el recorrido iteractivo."
      ],
      "metadata": {
        "id": "T8pJwsSU3wt6"
      }
    },
    {
      "cell_type": "code",
      "source": [
        "path = ids(G, start=12, target=10)\n",
        "print(path)\n",
        "drawG_al(G, directed=True, path=path, layout=\"neato\")"
      ],
      "metadata": {
        "colab": {
          "base_uri": "https://localhost:8080/",
          "height": 825
        },
        "id": "uMimpbZPZiLN",
        "outputId": "a12d4cea-f4f9-4b93-e913-e048458df7ae"
      },
      "execution_count": 24,
      "outputs": [
        {
          "output_type": "stream",
          "name": "stdout",
          "text": [
            "[7, 0, -1, -1, 8, -1, -1, 4, 11, 13, -1, 15, -1, 17, 11, 16, 12, 15]\n"
          ]
        },
        {
          "output_type": "execute_result",
          "data": {
            "image/svg+xml": "<?xml version=\"1.0\" encoding=\"UTF-8\" standalone=\"no\"?>\n<!DOCTYPE svg PUBLIC \"-//W3C//DTD SVG 1.1//EN\"\n \"http://www.w3.org/Graphics/SVG/1.1/DTD/svg11.dtd\">\n<!-- Generated by graphviz version 2.43.0 (0)\n -->\n<!-- Title: di&#45;anyname Pages: 1 -->\n<svg width=\"492pt\" height=\"590pt\"\n viewBox=\"0.00 0.00 492.44 590.49\" xmlns=\"http://www.w3.org/2000/svg\" xmlns:xlink=\"http://www.w3.org/1999/xlink\">\n<g id=\"graph0\" class=\"graph\" transform=\"scale(1 1) rotate(0) translate(4 586.49)\">\n<title>di&#45;anyname</title>\n<polygon fill=\"white\" stroke=\"transparent\" points=\"-4,4 -4,-586.49 488.44,-586.49 488.44,4 -4,4\"/>\n<!-- 7 -->\n<g id=\"node1\" class=\"node\">\n<title>7</title>\n<ellipse fill=\"none\" stroke=\"orangered\" cx=\"80.84\" cy=\"-145.04\" rx=\"14.7\" ry=\"12.04\"/>\n<text text-anchor=\"middle\" x=\"80.84\" y=\"-143.14\" font-family=\"monospace\" font-size=\"8.00\" fill=\"mediumslateblue\">7</text>\n</g>\n<!-- 0 -->\n<g id=\"node2\" class=\"node\">\n<title>0</title>\n<ellipse fill=\"none\" stroke=\"orangered\" cx=\"58.88\" cy=\"-71.67\" rx=\"14.7\" ry=\"12.04\"/>\n<text text-anchor=\"middle\" x=\"58.88\" y=\"-69.77\" font-family=\"monospace\" font-size=\"8.00\" fill=\"mediumslateblue\">0</text>\n</g>\n<!-- 7&#45;&gt;0 -->\n<g id=\"edge1\" class=\"edge\">\n<title>7&#45;&gt;0</title>\n<path fill=\"none\" stroke=\"orange\" stroke-width=\"2\" d=\"M77.31,-133.25C74.1,-122.51 69.27,-106.38 65.36,-93.32\"/>\n<polygon fill=\"orange\" stroke=\"orange\" stroke-width=\"2\" points=\"68.7,-92.25 62.48,-83.67 61.99,-94.26 68.7,-92.25\"/>\n</g>\n<!-- 8 -->\n<g id=\"node4\" class=\"node\">\n<title>8</title>\n<ellipse fill=\"none\" stroke=\"orangered\" cx=\"153.51\" cy=\"-177.83\" rx=\"14.7\" ry=\"12.04\"/>\n<text text-anchor=\"middle\" x=\"153.51\" y=\"-175.93\" font-family=\"monospace\" font-size=\"8.00\" fill=\"mediumslateblue\">8</text>\n</g>\n<!-- 7&#45;&gt;8 -->\n<g id=\"edge19\" class=\"edge\">\n<title>7&#45;&gt;8</title>\n<path fill=\"none\" stroke=\"gray\" d=\"M93.83,-150.9C104.14,-155.55 118.8,-162.16 131,-167.67\"/>\n<polygon fill=\"gray\" stroke=\"gray\" points=\"129.59,-170.87 140.14,-171.8 132.47,-164.49 129.59,-170.87\"/>\n</g>\n<!-- 1 -->\n<g id=\"node3\" class=\"node\">\n<title>1</title>\n<ellipse fill=\"none\" stroke=\"orangered\" cx=\"14.85\" cy=\"-12.02\" rx=\"14.7\" ry=\"12.04\"/>\n<text text-anchor=\"middle\" x=\"14.85\" y=\"-10.12\" font-family=\"monospace\" font-size=\"8.00\" fill=\"mediumslateblue\">1</text>\n</g>\n<!-- 0&#45;&gt;1 -->\n<g id=\"edge2\" class=\"edge\">\n<title>0&#45;&gt;1</title>\n<path fill=\"none\" stroke=\"orange\" stroke-width=\"2\" d=\"M51.21,-61.28C45.04,-52.92 36.2,-40.94 28.78,-30.89\"/>\n<polygon fill=\"orange\" stroke=\"orange\" stroke-width=\"2\" points=\"31.48,-28.66 22.73,-22.69 25.85,-32.82 31.48,-28.66\"/>\n</g>\n<!-- 4 -->\n<g id=\"node5\" class=\"node\">\n<title>4</title>\n<ellipse fill=\"none\" stroke=\"orangered\" cx=\"128.42\" cy=\"-103.23\" rx=\"14.7\" ry=\"12.04\"/>\n<text text-anchor=\"middle\" x=\"128.42\" y=\"-101.33\" font-family=\"monospace\" font-size=\"8.00\" fill=\"mediumslateblue\">4</text>\n</g>\n<!-- 0&#45;&gt;4 -->\n<g id=\"edge13\" class=\"edge\">\n<title>0&#45;&gt;4</title>\n<path fill=\"none\" stroke=\"gray\" d=\"M71.96,-77.61C81.58,-81.97 94.88,-88.01 106.15,-93.13\"/>\n<polygon fill=\"gray\" stroke=\"gray\" points=\"104.84,-96.38 115.4,-97.32 107.74,-90 104.84,-96.38\"/>\n</g>\n<!-- 8&#45;&gt;4 -->\n<g id=\"edge3\" class=\"edge\">\n<title>8&#45;&gt;4</title>\n<path fill=\"none\" stroke=\"orange\" stroke-width=\"2\" d=\"M149.59,-166.17C145.86,-155.07 140.14,-138.09 135.59,-124.57\"/>\n<polygon fill=\"orange\" stroke=\"orange\" stroke-width=\"2\" points=\"138.9,-123.42 132.39,-115.05 132.26,-125.65 138.9,-123.42\"/>\n</g>\n<!-- 4&#45;&gt;7 -->\n<g id=\"edge4\" class=\"edge\">\n<title>4&#45;&gt;7</title>\n<path fill=\"none\" stroke=\"orange\" stroke-width=\"2\" d=\"M118.33,-112.1C112.65,-117.09 105.39,-123.46 98.78,-129.27\"/>\n<polygon fill=\"orange\" stroke=\"orange\" stroke-width=\"2\" points=\"96.12,-126.96 90.91,-136.19 100.74,-132.21 96.12,-126.96\"/>\n</g>\n<!-- 11 -->\n<g id=\"node6\" class=\"node\">\n<title>11</title>\n<ellipse fill=\"none\" stroke=\"orangered\" cx=\"162.7\" cy=\"-258.5\" rx=\"18.27\" ry=\"12.04\"/>\n<text text-anchor=\"middle\" x=\"162.7\" y=\"-256.6\" font-family=\"monospace\" font-size=\"8.00\" fill=\"mediumslateblue\">11</text>\n</g>\n<!-- 11&#45;&gt;8 -->\n<g id=\"edge5\" class=\"edge\">\n<title>11&#45;&gt;8</title>\n<path fill=\"none\" stroke=\"orange\" stroke-width=\"2\" d=\"M161.3,-246.25C159.91,-233.98 157.72,-214.82 156.03,-199.89\"/>\n<polygon fill=\"orange\" stroke=\"orange\" stroke-width=\"2\" points=\"159.5,-199.47 154.89,-189.93 152.54,-200.26 159.5,-199.47\"/>\n</g>\n<!-- 14 -->\n<g id=\"node11\" class=\"node\">\n<title>14</title>\n<ellipse fill=\"none\" stroke=\"orangered\" cx=\"151.65\" cy=\"-326.35\" rx=\"18.27\" ry=\"12.04\"/>\n<text text-anchor=\"middle\" x=\"151.65\" y=\"-324.45\" font-family=\"monospace\" font-size=\"8.00\" fill=\"mediumslateblue\">14</text>\n</g>\n<!-- 11&#45;&gt;14 -->\n<g id=\"edge9\" class=\"edge\">\n<title>11&#45;&gt;14</title>\n<path fill=\"none\" stroke=\"orange\" stroke-width=\"2\" d=\"M160.72,-270.63C159.2,-279.99 157.05,-293.18 155.23,-304.38\"/>\n<polygon fill=\"orange\" stroke=\"orange\" stroke-width=\"2\" points=\"151.76,-303.89 153.61,-314.32 158.67,-305.01 151.76,-303.89\"/>\n</g>\n<!-- 13 -->\n<g id=\"node7\" class=\"node\">\n<title>13</title>\n<ellipse fill=\"none\" stroke=\"orangered\" cx=\"282.05\" cy=\"-244.93\" rx=\"18.27\" ry=\"12.04\"/>\n<text text-anchor=\"middle\" x=\"282.05\" y=\"-243.03\" font-family=\"monospace\" font-size=\"8.00\" fill=\"mediumslateblue\">13</text>\n</g>\n<!-- 9 -->\n<g id=\"node8\" class=\"node\">\n<title>9</title>\n<ellipse fill=\"none\" stroke=\"orangered\" cx=\"235.91\" cy=\"-175.95\" rx=\"14.7\" ry=\"12.04\"/>\n<text text-anchor=\"middle\" x=\"235.91\" y=\"-174.05\" font-family=\"monospace\" font-size=\"8.00\" fill=\"mediumslateblue\">9</text>\n</g>\n<!-- 13&#45;&gt;9 -->\n<g id=\"edge6\" class=\"edge\">\n<title>13&#45;&gt;9</title>\n<path fill=\"none\" stroke=\"orange\" stroke-width=\"2\" d=\"M274.64,-233.85C267.67,-223.43 257.09,-207.61 248.75,-195.14\"/>\n<polygon fill=\"orange\" stroke=\"orange\" stroke-width=\"2\" points=\"251.62,-193.14 243.15,-186.78 245.8,-197.04 251.62,-193.14\"/>\n</g>\n<!-- 9&#45;&gt;8 -->\n<g id=\"edge20\" class=\"edge\">\n<title>9&#45;&gt;8</title>\n<path fill=\"none\" stroke=\"gray\" d=\"M220.8,-176.29C209.07,-176.56 192.54,-176.94 178.81,-177.25\"/>\n<polygon fill=\"gray\" stroke=\"gray\" points=\"178.45,-173.76 168.53,-177.49 178.61,-180.76 178.45,-173.76\"/>\n</g>\n<!-- 15 -->\n<g id=\"node9\" class=\"node\">\n<title>15</title>\n<ellipse fill=\"none\" stroke=\"orangered\" cx=\"227.75\" cy=\"-309.35\" rx=\"18.27\" ry=\"12.04\"/>\n<text text-anchor=\"middle\" x=\"227.75\" y=\"-307.45\" font-family=\"monospace\" font-size=\"8.00\" fill=\"mediumslateblue\">15</text>\n</g>\n<!-- 15&#45;&gt;11 -->\n<g id=\"edge7\" class=\"edge\">\n<title>15&#45;&gt;11</title>\n<path fill=\"none\" stroke=\"orange\" stroke-width=\"2\" d=\"M215.82,-300.03C206.56,-292.79 193.51,-282.59 182.67,-274.11\"/>\n<polygon fill=\"orange\" stroke=\"orange\" stroke-width=\"2\" points=\"184.59,-271.17 174.55,-267.77 180.28,-276.68 184.59,-271.17\"/>\n</g>\n<!-- 17 -->\n<g id=\"node10\" class=\"node\">\n<title>17</title>\n<ellipse fill=\"none\" stroke=\"orangered\" cx=\"287.27\" cy=\"-341.63\" rx=\"18.27\" ry=\"12.04\"/>\n<text text-anchor=\"middle\" x=\"287.27\" y=\"-339.73\" font-family=\"monospace\" font-size=\"8.00\" fill=\"mediumslateblue\">17</text>\n</g>\n<!-- 15&#45;&gt;17 -->\n<g id=\"edge12\" class=\"edge\">\n<title>15&#45;&gt;17</title>\n<path fill=\"none\" stroke=\"orange\" stroke-width=\"2\" d=\"M242.16,-317.17C248.74,-320.74 256.7,-325.05 264.09,-329.06\"/>\n<polygon fill=\"orange\" stroke=\"orange\" stroke-width=\"2\" points=\"262.54,-332.2 272.99,-333.89 265.87,-326.05 262.54,-332.2\"/>\n</g>\n<!-- 17&#45;&gt;13 -->\n<g id=\"edge8\" class=\"edge\">\n<title>17&#45;&gt;13</title>\n<path fill=\"none\" stroke=\"orange\" stroke-width=\"2\" d=\"M286.61,-329.39C285.76,-313.76 284.29,-286.46 283.25,-267.13\"/>\n<polygon fill=\"orange\" stroke=\"orange\" stroke-width=\"2\" points=\"286.74,-266.87 282.71,-257.08 279.75,-267.25 286.74,-266.87\"/>\n</g>\n<!-- 14&#45;&gt;15 -->\n<g id=\"edge21\" class=\"edge\">\n<title>14&#45;&gt;15</title>\n<path fill=\"none\" stroke=\"gray\" d=\"M169.3,-322.41C178.52,-320.35 190.01,-317.78 200.36,-315.47\"/>\n<polygon fill=\"gray\" stroke=\"gray\" points=\"201.2,-318.87 210.2,-313.27 199.68,-312.04 201.2,-318.87\"/>\n</g>\n<!-- 16 -->\n<g id=\"node12\" class=\"node\">\n<title>16</title>\n<ellipse fill=\"none\" stroke=\"orangered\" cx=\"321.67\" cy=\"-293.39\" rx=\"18.27\" ry=\"12.04\"/>\n<text text-anchor=\"middle\" x=\"321.67\" y=\"-291.49\" font-family=\"monospace\" font-size=\"8.00\" fill=\"mediumslateblue\">16</text>\n</g>\n<!-- 16&#45;&gt;15 -->\n<g id=\"edge10\" class=\"edge\">\n<title>16&#45;&gt;15</title>\n<path fill=\"none\" stroke=\"orange\" stroke-width=\"2\" d=\"M303.56,-296.47C290.05,-298.77 271.33,-301.95 255.88,-304.57\"/>\n<polygon fill=\"orange\" stroke=\"orange\" stroke-width=\"2\" points=\"255.08,-301.16 245.81,-306.29 256.25,-308.06 255.08,-301.16\"/>\n</g>\n<!-- 16&#45;&gt;17 -->\n<g id=\"edge22\" class=\"edge\">\n<title>16&#45;&gt;17</title>\n<path fill=\"none\" stroke=\"gray\" d=\"M313.69,-304.58C309.96,-309.82 305.4,-316.21 301.13,-322.2\"/>\n<polygon fill=\"gray\" stroke=\"gray\" points=\"298.16,-320.33 295.2,-330.51 303.86,-324.4 298.16,-320.33\"/>\n</g>\n<!-- 12 -->\n<g id=\"node13\" class=\"node\">\n<title>12</title>\n<ellipse fill=\"none\" stroke=\"orangered\" cx=\"396.86\" cy=\"-254.73\" rx=\"18.27\" ry=\"12.04\"/>\n<text text-anchor=\"middle\" x=\"396.86\" y=\"-252.83\" font-family=\"monospace\" font-size=\"8.00\" fill=\"mediumslateblue\">12</text>\n</g>\n<!-- 12&#45;&gt;16 -->\n<g id=\"edge11\" class=\"edge\">\n<title>12&#45;&gt;16</title>\n<path fill=\"none\" stroke=\"orange\" stroke-width=\"2\" d=\"M382.36,-262.18C371.86,-267.58 357.42,-275.01 345.27,-281.26\"/>\n<polygon fill=\"orange\" stroke=\"orange\" stroke-width=\"2\" points=\"343.42,-278.28 336.12,-285.96 346.62,-284.5 343.42,-278.28\"/>\n</g>\n<!-- 3 -->\n<g id=\"node14\" class=\"node\">\n<title>3</title>\n<ellipse fill=\"none\" stroke=\"orangered\" cx=\"318.46\" cy=\"-420.82\" rx=\"14.7\" ry=\"12.04\"/>\n<text text-anchor=\"middle\" x=\"318.46\" y=\"-418.92\" font-family=\"monospace\" font-size=\"8.00\" fill=\"mediumslateblue\">3</text>\n</g>\n<!-- 3&#45;&gt;17 -->\n<g id=\"edge16\" class=\"edge\">\n<title>3&#45;&gt;17</title>\n<path fill=\"none\" stroke=\"gray\" d=\"M313.86,-409.14C309.07,-396.97 301.46,-377.66 295.6,-362.8\"/>\n<polygon fill=\"gray\" stroke=\"gray\" points=\"298.81,-361.39 291.89,-353.37 292.3,-363.95 298.81,-361.39\"/>\n</g>\n<!-- 2 -->\n<g id=\"node15\" class=\"node\">\n<title>2</title>\n<ellipse fill=\"none\" stroke=\"orangered\" cx=\"397.98\" cy=\"-445.37\" rx=\"14.7\" ry=\"12.04\"/>\n<text text-anchor=\"middle\" x=\"397.98\" y=\"-443.47\" font-family=\"monospace\" font-size=\"8.00\" fill=\"mediumslateblue\">2</text>\n</g>\n<!-- 3&#45;&gt;2 -->\n<g id=\"edge14\" class=\"edge\">\n<title>3&#45;&gt;2</title>\n<path fill=\"none\" stroke=\"gray\" d=\"M332.67,-425.21C344.21,-428.77 360.72,-433.87 374.25,-438.04\"/>\n<polygon fill=\"gray\" stroke=\"gray\" points=\"373.3,-441.41 383.88,-441.02 375.36,-434.73 373.3,-441.41\"/>\n</g>\n<!-- 6 -->\n<g id=\"node16\" class=\"node\">\n<title>6</title>\n<ellipse fill=\"none\" stroke=\"orangered\" cx=\"283.74\" cy=\"-496.18\" rx=\"14.7\" ry=\"12.04\"/>\n<text text-anchor=\"middle\" x=\"283.74\" y=\"-494.28\" font-family=\"monospace\" font-size=\"8.00\" fill=\"mediumslateblue\">6</text>\n</g>\n<!-- 3&#45;&gt;6 -->\n<g id=\"edge15\" class=\"edge\">\n<title>3&#45;&gt;6</title>\n<path fill=\"none\" stroke=\"gray\" d=\"M313.19,-432.27C307.94,-443.67 299.76,-461.42 293.35,-475.33\"/>\n<polygon fill=\"gray\" stroke=\"gray\" points=\"290.07,-474.08 289.07,-484.63 296.43,-477.01 290.07,-474.08\"/>\n</g>\n<!-- 10 -->\n<g id=\"node18\" class=\"node\">\n<title>10</title>\n<ellipse fill=\"none\" stroke=\"orangered\" cx=\"263.27\" cy=\"-570.47\" rx=\"18.27\" ry=\"12.04\"/>\n<text text-anchor=\"middle\" x=\"263.27\" y=\"-568.57\" font-family=\"monospace\" font-size=\"8.00\" fill=\"mediumslateblue\">10</text>\n</g>\n<!-- 6&#45;&gt;10 -->\n<g id=\"edge18\" class=\"edge\">\n<title>6&#45;&gt;10</title>\n<path fill=\"none\" stroke=\"gray\" d=\"M280.45,-508.12C277.46,-518.99 272.96,-535.32 269.31,-548.54\"/>\n<polygon fill=\"gray\" stroke=\"gray\" points=\"265.9,-547.74 266.62,-558.31 272.65,-549.6 265.9,-547.74\"/>\n</g>\n<!-- 5 -->\n<g id=\"node17\" class=\"node\">\n<title>5</title>\n<ellipse fill=\"none\" stroke=\"orangered\" cx=\"469.59\" cy=\"-473.84\" rx=\"14.7\" ry=\"12.04\"/>\n<text text-anchor=\"middle\" x=\"469.59\" y=\"-471.94\" font-family=\"monospace\" font-size=\"8.00\" fill=\"mediumslateblue\">5</text>\n</g>\n<!-- 5&#45;&gt;2 -->\n<g id=\"edge17\" class=\"edge\">\n<title>5&#45;&gt;2</title>\n<path fill=\"none\" stroke=\"gray\" d=\"M456.12,-468.48C446.22,-464.55 432.52,-459.1 420.91,-454.48\"/>\n<polygon fill=\"gray\" stroke=\"gray\" points=\"421.97,-451.14 411.39,-450.7 419.39,-457.65 421.97,-451.14\"/>\n</g>\n</g>\n</svg>\n",
            "text/plain": [
              "<graphviz.graphs.Digraph at 0x7f65655c2290>"
            ]
          },
          "metadata": {},
          "execution_count": 24
        }
      ]
    }
  ]
}