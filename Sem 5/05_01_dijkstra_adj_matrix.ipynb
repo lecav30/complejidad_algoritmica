{
  "nbformat": 4,
  "nbformat_minor": 0,
  "metadata": {
    "colab": {
      "provenance": []
    },
    "kernelspec": {
      "name": "python3",
      "display_name": "Python 3"
    },
    "language_info": {
      "name": "python"
    }
  },
  "cells": [
    {
      "cell_type": "code",
      "execution_count": 10,
      "metadata": {
        "id": "E8HzVEZmy59d"
      },
      "outputs": [],
      "source": [
        "import heapq as hq\n",
        "# heapq es un módulo proporciona una implementación del algoritmo de cola con prioridad (monticulos). \n",
        "# Los montículos son árboles binarios para los cuales cada nodo padre tiene un valor menor o igual que cualquiera de sus hijos.\n",
        "import numpy as np\n",
        "import graphviz as gv\n",
        "import math"
      ]
    },
    {
      "cell_type": "code",
      "source": [
        "# dijkstra(Grafo, source)\n",
        "def dijkstra(G, s):\n",
        "  # cantidad de nodos\n",
        "  n = len(G)\n",
        "  # arreglo de nodos visitados, inicializado en False\n",
        "  visited = [False]*n\n",
        "  path = [-1]*n\n",
        "  cost = [math.inf]*n\n",
        "\n",
        "  cost[s] = 0\n",
        "  pqueue = [(0, s)]\n",
        "  while pqueue:\n",
        "    g, u = hq.heappop(pqueue)\n",
        "    if not visited[u]:\n",
        "      visited[u] = True\n",
        "      for v in range(n):\n",
        "        if G[u, v] > 0 and not visited[v]:\n",
        "          f = g + G[u, v]\n",
        "          if f < cost[v]:\n",
        "            cost[v] = f\n",
        "            path[v] = u\n",
        "            hq.heappush(pqueue, (f, v))\n",
        "\n",
        "  return path, cost"
      ],
      "metadata": {
        "id": "ShT5ueJyzDNo"
      },
      "execution_count": 11,
      "outputs": []
    },
    {
      "cell_type": "code",
      "source": [
        "%%file 0501.am\n",
        "0 2 0 2 9 0 0 0\n",
        "2 0 1 2 0 2 0 0\n",
        "0 1 0 0 2 0 2 0\n",
        "2 2 0 0 0 9 0 3\n",
        "9 0 2 0 0 0 0 8\n",
        "0 2 0 9 0 0 7 0\n",
        "0 0 2 0 0 7 0 3\n",
        "0 0 0 3 8 0 3 0"
      ],
      "metadata": {
        "colab": {
          "base_uri": "https://localhost:8080/"
        },
        "id": "Cg9e3S6rzFw3",
        "outputId": "0f4fefb9-d1ec-4a58-9c94-1d10a1904253"
      },
      "execution_count": 12,
      "outputs": [
        {
          "output_type": "stream",
          "name": "stdout",
          "text": [
            "Overwriting 0501.am\n"
          ]
        }
      ]
    },
    {
      "cell_type": "code",
      "source": [
        "G = np.loadtxt(\"0501.am\")\n",
        "print(G)"
      ],
      "metadata": {
        "colab": {
          "base_uri": "https://localhost:8080/"
        },
        "id": "grtHpoBbzJDC",
        "outputId": "468ef891-6941-49ea-bd50-bd9154d24296"
      },
      "execution_count": 13,
      "outputs": [
        {
          "output_type": "stream",
          "name": "stdout",
          "text": [
            "[[0. 2. 0. 2. 9. 0. 0. 0.]\n",
            " [2. 0. 1. 2. 0. 2. 0. 0.]\n",
            " [0. 1. 0. 0. 2. 0. 2. 0.]\n",
            " [2. 2. 0. 0. 0. 9. 0. 3.]\n",
            " [9. 0. 2. 0. 0. 0. 0. 8.]\n",
            " [0. 2. 0. 9. 0. 0. 7. 0.]\n",
            " [0. 0. 2. 0. 0. 7. 0. 3.]\n",
            " [0. 0. 0. 3. 8. 0. 3. 0.]]\n"
          ]
        }
      ]
    },
    {
      "cell_type": "code",
      "source": [
        "def drawG_am(G, directed=False, weighted=False, path=[], layout=\"sfdp\"):\n",
        "  graph = gv.Digraph(\"digrafo\") if directed else gv.Graph(\"grafo\")\n",
        "  graph.graph_attr[\"layout\"] = layout\n",
        "  graph.edge_attr[\"color\"] = \"gray\"\n",
        "  graph.node_attr[\"color\"] = \"orangered\"\n",
        "  graph.node_attr[\"width\"] = \"0.1\"\n",
        "  graph.node_attr[\"height\"] = \"0.1\"\n",
        "  graph.node_attr[\"fontsize\"] = \"8\"\n",
        "  graph.node_attr[\"fontcolor\"] = \"mediumslateblue\"\n",
        "  graph.node_attr[\"fontname\"] = \"monospace\"\n",
        "  graph.edge_attr[\"fontsize\"] = \"8\"\n",
        "  graph.edge_attr[\"fontname\"] = \"monospace\"\n",
        "  n = len(G)\n",
        "  added = set()\n",
        "  for v, u in enumerate(path):\n",
        "    if u != -1:\n",
        "      if weighted:\n",
        "        graph.edge(str(u), str(v), str(G[u, v]), dir=\"forward\", penwidth=\"2\", color=\"orange\")\n",
        "      else:\n",
        "        graph.edge(str(u), str(v), dir=\"forward\", penwidth=\"2\", color=\"orange\")\n",
        "      added.add(f\"{u},{v}\")\n",
        "      added.add(f\"{v},{u}\")\n",
        "  for u in range(n):\n",
        "    for v in range(n):\n",
        "      draw = False\n",
        "      if G[u, v] > 0 and not directed and not f\"{u},{v}\" in added:  \n",
        "        added.add(f\"{u},{v}\")\n",
        "        added.add(f\"{v},{u}\")\n",
        "        draw = True\n",
        "      elif directed:\n",
        "        draw = True\n",
        "      if draw:\n",
        "        if weighted:\n",
        "          # Además de la incidencia (de que nodo a que nodo va), se pasa por \n",
        "          # parámetro el peso de la arista\n",
        "          graph.edge(str(u), str(v), str(G[u, v]))\n",
        "        else:\n",
        "          graph.edge(str(u), str(v))\n",
        "  return graph"
      ],
      "metadata": {
        "id": "6lezDUaCzLkS"
      },
      "execution_count": 14,
      "outputs": []
    },
    {
      "cell_type": "code",
      "source": [
        "drawG_am(G, weighted=True)"
      ],
      "metadata": {
        "colab": {
          "base_uri": "https://localhost:8080/",
          "height": 353
        },
        "id": "vx7yZZ3FzVxS",
        "outputId": "77dc1662-4c95-45a6-c5fd-297c8a610040"
      },
      "execution_count": 15,
      "outputs": [
        {
          "output_type": "execute_result",
          "data": {
            "image/svg+xml": "<?xml version=\"1.0\" encoding=\"UTF-8\" standalone=\"no\"?>\n<!DOCTYPE svg PUBLIC \"-//W3C//DTD SVG 1.1//EN\"\n \"http://www.w3.org/Graphics/SVG/1.1/DTD/svg11.dtd\">\n<!-- Generated by graphviz version 2.43.0 (0)\n -->\n<!-- Title: grafo Pages: 1 -->\n<svg width=\"340pt\" height=\"249pt\"\n viewBox=\"0.00 0.00 339.77 249.06\" xmlns=\"http://www.w3.org/2000/svg\" xmlns:xlink=\"http://www.w3.org/1999/xlink\">\n<g id=\"graph0\" class=\"graph\" transform=\"scale(1 1) rotate(0) translate(4 245.06)\">\n<title>grafo</title>\n<polygon fill=\"white\" stroke=\"transparent\" points=\"-4,4 -4,-245.06 335.77,-245.06 335.77,4 -4,4\"/>\n<!-- 0 -->\n<g id=\"node1\" class=\"node\">\n<title>0</title>\n<ellipse fill=\"none\" stroke=\"orangered\" cx=\"316.92\" cy=\"-110.45\" rx=\"14.7\" ry=\"12.04\"/>\n<text text-anchor=\"middle\" x=\"316.92\" y=\"-108.55\" font-family=\"monospace\" font-size=\"8.00\" fill=\"mediumslateblue\">0</text>\n</g>\n<!-- 1 -->\n<g id=\"node2\" class=\"node\">\n<title>1</title>\n<ellipse fill=\"none\" stroke=\"orangered\" cx=\"231.58\" cy=\"-70.75\" rx=\"14.7\" ry=\"12.04\"/>\n<text text-anchor=\"middle\" x=\"231.58\" y=\"-68.85\" font-family=\"monospace\" font-size=\"8.00\" fill=\"mediumslateblue\">1</text>\n</g>\n<!-- 0&#45;&#45;1 -->\n<g id=\"edge1\" class=\"edge\">\n<title>0&#45;&#45;1</title>\n<path fill=\"none\" stroke=\"gray\" d=\"M303.96,-104.42C287.92,-96.96 260.76,-84.32 244.67,-76.83\"/>\n<text text-anchor=\"middle\" x=\"267.32\" y=\"-93.23\" font-family=\"monospace\" font-size=\"8.00\">2.0</text>\n</g>\n<!-- 3 -->\n<g id=\"node3\" class=\"node\">\n<title>3</title>\n<ellipse fill=\"none\" stroke=\"orangered\" cx=\"242.85\" cy=\"-205.28\" rx=\"14.7\" ry=\"12.04\"/>\n<text text-anchor=\"middle\" x=\"242.85\" y=\"-203.38\" font-family=\"monospace\" font-size=\"8.00\" fill=\"mediumslateblue\">3</text>\n</g>\n<!-- 0&#45;&#45;3 -->\n<g id=\"edge2\" class=\"edge\">\n<title>0&#45;&#45;3</title>\n<path fill=\"none\" stroke=\"gray\" d=\"M308.71,-120.96C294.4,-139.29 265.06,-176.86 250.88,-195.01\"/>\n<text text-anchor=\"middle\" x=\"272.8\" y=\"-160.59\" font-family=\"monospace\" font-size=\"8.00\">2.0</text>\n</g>\n<!-- 4 -->\n<g id=\"node4\" class=\"node\">\n<title>4</title>\n<ellipse fill=\"none\" stroke=\"orangered\" cx=\"161.28\" cy=\"-86.75\" rx=\"14.7\" ry=\"12.04\"/>\n<text text-anchor=\"middle\" x=\"161.28\" y=\"-84.85\" font-family=\"monospace\" font-size=\"8.00\" fill=\"mediumslateblue\">4</text>\n</g>\n<!-- 0&#45;&#45;4 -->\n<g id=\"edge3\" class=\"edge\">\n<title>0&#45;&#45;4</title>\n<path fill=\"none\" stroke=\"gray\" d=\"M302.28,-108.22C272.62,-103.7 205.73,-93.52 176,-88.99\"/>\n<text text-anchor=\"middle\" x=\"232.14\" y=\"-101.2\" font-family=\"monospace\" font-size=\"8.00\">9.0</text>\n</g>\n<!-- 1&#45;&#45;3 -->\n<g id=\"edge5\" class=\"edge\">\n<title>1&#45;&#45;3</title>\n<path fill=\"none\" stroke=\"gray\" d=\"M232.62,-83.16C234.78,-108.92 239.72,-167.89 241.85,-193.29\"/>\n<text text-anchor=\"middle\" x=\"230.24\" y=\"-140.82\" font-family=\"monospace\" font-size=\"8.00\">2.0</text>\n</g>\n<!-- 2 -->\n<g id=\"node5\" class=\"node\">\n<title>2</title>\n<ellipse fill=\"none\" stroke=\"orangered\" cx=\"87.79\" cy=\"-12.02\" rx=\"14.7\" ry=\"12.04\"/>\n<text text-anchor=\"middle\" x=\"87.79\" y=\"-10.12\" font-family=\"monospace\" font-size=\"8.00\" fill=\"mediumslateblue\">2</text>\n</g>\n<!-- 1&#45;&#45;2 -->\n<g id=\"edge4\" class=\"edge\">\n<title>1&#45;&#45;2</title>\n<path fill=\"none\" stroke=\"gray\" d=\"M218.31,-65.33C191.06,-54.2 129.03,-28.86 101.45,-17.6\"/>\n<text text-anchor=\"middle\" x=\"152.88\" y=\"-44.06\" font-family=\"monospace\" font-size=\"8.00\">1.0</text>\n</g>\n<!-- 5 -->\n<g id=\"node6\" class=\"node\">\n<title>5</title>\n<ellipse fill=\"none\" stroke=\"orangered\" cx=\"144.47\" cy=\"-171.15\" rx=\"14.7\" ry=\"12.04\"/>\n<text text-anchor=\"middle\" x=\"144.47\" y=\"-169.25\" font-family=\"monospace\" font-size=\"8.00\" fill=\"mediumslateblue\">5</text>\n</g>\n<!-- 1&#45;&#45;5 -->\n<g id=\"edge6\" class=\"edge\">\n<title>1&#45;&#45;5</title>\n<path fill=\"none\" stroke=\"gray\" d=\"M222.91,-80.74C206.21,-99.99 169.77,-141.99 153.1,-161.2\"/>\n<text text-anchor=\"middle\" x=\"181.01\" y=\"-123.57\" font-family=\"monospace\" font-size=\"8.00\">2.0</text>\n</g>\n<!-- 3&#45;&#45;5 -->\n<g id=\"edge9\" class=\"edge\">\n<title>3&#45;&#45;5</title>\n<path fill=\"none\" stroke=\"gray\" d=\"M229.17,-200.54C210.48,-194.05 177.14,-182.49 158.35,-175.97\"/>\n<text text-anchor=\"middle\" x=\"186.76\" y=\"-190.85\" font-family=\"monospace\" font-size=\"8.00\">9.0</text>\n</g>\n<!-- 7 -->\n<g id=\"node8\" class=\"node\">\n<title>7</title>\n<ellipse fill=\"none\" stroke=\"orangered\" cx=\"96.52\" cy=\"-229.04\" rx=\"14.7\" ry=\"12.04\"/>\n<text text-anchor=\"middle\" x=\"96.52\" y=\"-227.14\" font-family=\"monospace\" font-size=\"8.00\" fill=\"mediumslateblue\">7</text>\n</g>\n<!-- 3&#45;&#45;7 -->\n<g id=\"edge10\" class=\"edge\">\n<title>3&#45;&#45;7</title>\n<path fill=\"none\" stroke=\"gray\" d=\"M228.29,-207.65C200.38,-212.18 139.66,-222.04 111.46,-226.62\"/>\n<text text-anchor=\"middle\" x=\"162.87\" y=\"-219.73\" font-family=\"monospace\" font-size=\"8.00\">3.0</text>\n</g>\n<!-- 4&#45;&#45;7 -->\n<g id=\"edge11\" class=\"edge\">\n<title>4&#45;&#45;7</title>\n<path fill=\"none\" stroke=\"gray\" d=\"M155.98,-98.39C143.78,-125.21 113.81,-191.05 101.71,-217.63\"/>\n<text text-anchor=\"middle\" x=\"121.85\" y=\"-160.61\" font-family=\"monospace\" font-size=\"8.00\">8.0</text>\n</g>\n<!-- 2&#45;&#45;4 -->\n<g id=\"edge7\" class=\"edge\">\n<title>2&#45;&#45;4</title>\n<path fill=\"none\" stroke=\"gray\" d=\"M97.1,-21.49C111.16,-35.78 137.67,-62.74 151.82,-77.12\"/>\n<text text-anchor=\"middle\" x=\"117.46\" y=\"-51.9\" font-family=\"monospace\" font-size=\"8.00\">2.0</text>\n</g>\n<!-- 6 -->\n<g id=\"node7\" class=\"node\">\n<title>6</title>\n<ellipse fill=\"none\" stroke=\"orangered\" cx=\"14.85\" cy=\"-133.5\" rx=\"14.7\" ry=\"12.04\"/>\n<text text-anchor=\"middle\" x=\"14.85\" y=\"-131.6\" font-family=\"monospace\" font-size=\"8.00\" fill=\"mediumslateblue\">6</text>\n</g>\n<!-- 2&#45;&#45;6 -->\n<g id=\"edge8\" class=\"edge\">\n<title>2&#45;&#45;6</title>\n<path fill=\"none\" stroke=\"gray\" d=\"M81.06,-23.23C67.1,-46.49 35.12,-99.73 21.35,-122.66\"/>\n<text text-anchor=\"middle\" x=\"44.21\" y=\"-75.55\" font-family=\"monospace\" font-size=\"8.00\">2.0</text>\n</g>\n<!-- 5&#45;&#45;6 -->\n<g id=\"edge12\" class=\"edge\">\n<title>5&#45;&#45;6</title>\n<path fill=\"none\" stroke=\"gray\" d=\"M130.35,-167.05C105.42,-159.81 53.87,-144.83 28.95,-137.59\"/>\n<text text-anchor=\"middle\" x=\"72.65\" y=\"-154.92\" font-family=\"monospace\" font-size=\"8.00\">7.0</text>\n</g>\n<!-- 6&#45;&#45;7 -->\n<g id=\"edge13\" class=\"edge\">\n<title>6&#45;&#45;7</title>\n<path fill=\"none\" stroke=\"gray\" d=\"M23.59,-143.72C39.31,-162.11 72.17,-200.55 87.84,-218.89\"/>\n<text text-anchor=\"middle\" x=\"48.71\" y=\"-183.91\" font-family=\"monospace\" font-size=\"8.00\">3.0</text>\n</g>\n</g>\n</svg>\n",
            "text/plain": [
              "<graphviz.graphs.Graph at 0x7fd04d5c6cb0>"
            ]
          },
          "metadata": {},
          "execution_count": 15
        }
      ]
    },
    {
      "cell_type": "code",
      "source": [
        "path, cost = dijkstra(G, 3)\n",
        "# Mostrará el último nodo en el camino desde el nodo origen hasta cualquier nodo\n",
        "# que en este caso serían los nodos objetivo\n",
        "print(path)\n",
        "# Mostrará el mínimo coste de ir desde el nodo origen hasta los demás nodos\n",
        "# (nodos objetivos)\n",
        "print(cost)\n",
        "drawG_am(G, weighted=True, path=path)"
      ],
      "metadata": {
        "colab": {
          "base_uri": "https://localhost:8080/",
          "height": 403
        },
        "id": "S9O5g3i1zYxw",
        "outputId": "74e88794-ef50-471e-9e80-b2593742d4fa"
      },
      "execution_count": 17,
      "outputs": [
        {
          "output_type": "stream",
          "name": "stdout",
          "text": [
            "[3, 3, 1, -1, 2, 1, 2, 3]\n",
            "[2.0, 2.0, 3.0, 0, 5.0, 4.0, 5.0, 3.0]\n"
          ]
        },
        {
          "output_type": "execute_result",
          "data": {
            "image/svg+xml": "<?xml version=\"1.0\" encoding=\"UTF-8\" standalone=\"no\"?>\n<!DOCTYPE svg PUBLIC \"-//W3C//DTD SVG 1.1//EN\"\n \"http://www.w3.org/Graphics/SVG/1.1/DTD/svg11.dtd\">\n<!-- Generated by graphviz version 2.43.0 (0)\n -->\n<!-- Title: grafo Pages: 1 -->\n<svg width=\"320pt\" height=\"260pt\"\n viewBox=\"0.00 0.00 319.64 259.91\" xmlns=\"http://www.w3.org/2000/svg\" xmlns:xlink=\"http://www.w3.org/1999/xlink\">\n<g id=\"graph0\" class=\"graph\" transform=\"scale(1 1) rotate(0) translate(4 255.91)\">\n<title>grafo</title>\n<polygon fill=\"white\" stroke=\"transparent\" points=\"-4,4 -4,-255.91 315.64,-255.91 315.64,4 -4,4\"/>\n<!-- 3 -->\n<g id=\"node1\" class=\"node\">\n<title>3</title>\n<ellipse fill=\"none\" stroke=\"orangered\" cx=\"183.57\" cy=\"-12.02\" rx=\"14.7\" ry=\"12.04\"/>\n<text text-anchor=\"middle\" x=\"183.57\" y=\"-10.12\" font-family=\"monospace\" font-size=\"8.00\" fill=\"mediumslateblue\">3</text>\n</g>\n<!-- 0 -->\n<g id=\"node2\" class=\"node\">\n<title>0</title>\n<ellipse fill=\"none\" stroke=\"orangered\" cx=\"296.79\" cy=\"-87.07\" rx=\"14.7\" ry=\"12.04\"/>\n<text text-anchor=\"middle\" x=\"296.79\" y=\"-85.17\" font-family=\"monospace\" font-size=\"8.00\" fill=\"mediumslateblue\">0</text>\n</g>\n<!-- 3&#45;&#45;0 -->\n<g id=\"edge1\" class=\"edge\">\n<title>3&#45;&#45;0</title>\n<path fill=\"none\" stroke=\"orange\" stroke-width=\"2\" d=\"M195.26,-19.77C214.41,-32.47 252.71,-57.86 276.41,-73.56\"/>\n<polygon fill=\"orange\" stroke=\"orange\" stroke-width=\"2\" points=\"274.73,-76.65 284.99,-79.25 278.59,-70.81 274.73,-76.65\"/>\n<text text-anchor=\"middle\" x=\"228.83\" y=\"-49.27\" font-family=\"monospace\" font-size=\"8.00\">2.0</text>\n</g>\n<!-- 1 -->\n<g id=\"node3\" class=\"node\">\n<title>1</title>\n<ellipse fill=\"none\" stroke=\"orangered\" cx=\"178.37\" cy=\"-90.21\" rx=\"14.7\" ry=\"12.04\"/>\n<text text-anchor=\"middle\" x=\"178.37\" y=\"-88.31\" font-family=\"monospace\" font-size=\"8.00\" fill=\"mediumslateblue\">1</text>\n</g>\n<!-- 3&#45;&#45;1 -->\n<g id=\"edge2\" class=\"edge\">\n<title>3&#45;&#45;1</title>\n<path fill=\"none\" stroke=\"orange\" stroke-width=\"2\" d=\"M182.76,-24.24C181.98,-35.94 180.79,-53.88 179.84,-68.1\"/>\n<polygon fill=\"orange\" stroke=\"orange\" stroke-width=\"2\" points=\"176.35,-67.87 179.18,-78.08 183.34,-68.33 176.35,-67.87\"/>\n<text text-anchor=\"middle\" x=\"174.3\" y=\"-48.77\" font-family=\"monospace\" font-size=\"8.00\">2.0</text>\n</g>\n<!-- 5 -->\n<g id=\"node6\" class=\"node\">\n<title>5</title>\n<ellipse fill=\"none\" stroke=\"orangered\" cx=\"58.37\" cy=\"-28.2\" rx=\"14.7\" ry=\"12.04\"/>\n<text text-anchor=\"middle\" x=\"58.37\" y=\"-26.3\" font-family=\"monospace\" font-size=\"8.00\" fill=\"mediumslateblue\">5</text>\n</g>\n<!-- 3&#45;&#45;5 -->\n<g id=\"edge10\" class=\"edge\">\n<title>3&#45;&#45;5</title>\n<path fill=\"none\" stroke=\"gray\" d=\"M168.72,-13.94C144.62,-17.05 97.29,-23.17 73.21,-26.28\"/>\n<text text-anchor=\"middle\" x=\"113.96\" y=\"-22.71\" font-family=\"monospace\" font-size=\"8.00\">9.0</text>\n</g>\n<!-- 7 -->\n<g id=\"node8\" class=\"node\">\n<title>7</title>\n<ellipse fill=\"none\" stroke=\"orangered\" cx=\"131.9\" cy=\"-150.58\" rx=\"14.7\" ry=\"12.04\"/>\n<text text-anchor=\"middle\" x=\"131.9\" y=\"-148.68\" font-family=\"monospace\" font-size=\"8.00\" fill=\"mediumslateblue\">7</text>\n</g>\n<!-- 3&#45;&#45;7 -->\n<g id=\"edge7\" class=\"edge\">\n<title>3&#45;&#45;7</title>\n<path fill=\"none\" stroke=\"orange\" stroke-width=\"2\" d=\"M179.17,-23.83C170.43,-47.25 150.82,-99.84 139.8,-129.39\"/>\n<polygon fill=\"orange\" stroke=\"orange\" stroke-width=\"2\" points=\"136.51,-128.2 136.3,-138.79 143.07,-130.65 136.51,-128.2\"/>\n<text text-anchor=\"middle\" x=\"152.49\" y=\"-79.21\" font-family=\"monospace\" font-size=\"8.00\">3.0</text>\n</g>\n<!-- 0&#45;&#45;1 -->\n<g id=\"edge8\" class=\"edge\">\n<title>0&#45;&#45;1</title>\n<path fill=\"none\" stroke=\"gray\" d=\"M281.79,-87.47C259.01,-88.07 215.96,-89.21 193.25,-89.82\"/>\n<text text-anchor=\"middle\" x=\"230.52\" y=\"-91.24\" font-family=\"monospace\" font-size=\"8.00\">2.0</text>\n</g>\n<!-- 4 -->\n<g id=\"node5\" class=\"node\">\n<title>4</title>\n<ellipse fill=\"none\" stroke=\"orangered\" cx=\"250.74\" cy=\"-218.5\" rx=\"14.7\" ry=\"12.04\"/>\n<text text-anchor=\"middle\" x=\"250.74\" y=\"-216.6\" font-family=\"monospace\" font-size=\"8.00\" fill=\"mediumslateblue\">4</text>\n</g>\n<!-- 0&#45;&#45;4 -->\n<g id=\"edge9\" class=\"edge\">\n<title>0&#45;&#45;4</title>\n<path fill=\"none\" stroke=\"gray\" d=\"M292.7,-98.74C283.99,-123.61 263.65,-181.65 254.89,-206.67\"/>\n<text text-anchor=\"middle\" x=\"266.79\" y=\"-155.3\" font-family=\"monospace\" font-size=\"8.00\">9.0</text>\n</g>\n<!-- 2 -->\n<g id=\"node4\" class=\"node\">\n<title>2</title>\n<ellipse fill=\"none\" stroke=\"orangered\" cx=\"127.56\" cy=\"-239.89\" rx=\"14.7\" ry=\"12.04\"/>\n<text text-anchor=\"middle\" x=\"127.56\" y=\"-237.99\" font-family=\"monospace\" font-size=\"8.00\" fill=\"mediumslateblue\">2</text>\n</g>\n<!-- 1&#45;&#45;2 -->\n<g id=\"edge3\" class=\"edge\">\n<title>1&#45;&#45;2</title>\n<path fill=\"none\" stroke=\"orange\" stroke-width=\"2\" d=\"M174.39,-101.96C165.85,-127.09 145.71,-186.43 134.84,-218.47\"/>\n<polygon fill=\"orange\" stroke=\"orange\" stroke-width=\"2\" points=\"131.43,-217.61 131.53,-228.2 138.06,-219.86 131.43,-217.61\"/>\n<text text-anchor=\"middle\" x=\"161.61\" y=\"-162.81\" font-family=\"monospace\" font-size=\"8.00\">1.0</text>\n</g>\n<!-- 1&#45;&#45;5 -->\n<g id=\"edge5\" class=\"edge\">\n<title>1&#45;&#45;5</title>\n<path fill=\"none\" stroke=\"orange\" stroke-width=\"2\" d=\"M165.53,-83.57C145.14,-73.04 105.12,-52.35 80.18,-39.46\"/>\n<polygon fill=\"orange\" stroke=\"orange\" stroke-width=\"2\" points=\"81.61,-36.27 71.12,-34.78 78.4,-42.48 81.61,-36.27\"/>\n<text text-anchor=\"middle\" x=\"115.85\" y=\"-64.12\" font-family=\"monospace\" font-size=\"8.00\">2.0</text>\n</g>\n<!-- 2&#45;&#45;4 -->\n<g id=\"edge4\" class=\"edge\">\n<title>2&#45;&#45;4</title>\n<path fill=\"none\" stroke=\"orange\" stroke-width=\"2\" d=\"M142.18,-237.36C162.92,-233.75 201.17,-227.11 226.28,-222.74\"/>\n<polygon fill=\"orange\" stroke=\"orange\" stroke-width=\"2\" points=\"226.89,-226.19 236.15,-221.03 225.7,-219.29 226.89,-226.19\"/>\n<text text-anchor=\"middle\" x=\"177.23\" y=\"-232.65\" font-family=\"monospace\" font-size=\"8.00\">2.0</text>\n</g>\n<!-- 6 -->\n<g id=\"node7\" class=\"node\">\n<title>6</title>\n<ellipse fill=\"none\" stroke=\"orangered\" cx=\"14.85\" cy=\"-161.72\" rx=\"14.7\" ry=\"12.04\"/>\n<text text-anchor=\"middle\" x=\"14.85\" y=\"-159.82\" font-family=\"monospace\" font-size=\"8.00\" fill=\"mediumslateblue\">6</text>\n</g>\n<!-- 2&#45;&#45;6 -->\n<g id=\"edge6\" class=\"edge\">\n<title>2&#45;&#45;6</title>\n<path fill=\"none\" stroke=\"orange\" stroke-width=\"2\" d=\"M115.93,-231.82C96.76,-218.53 58.33,-191.88 34.77,-175.54\"/>\n<polygon fill=\"orange\" stroke=\"orange\" stroke-width=\"2\" points=\"36.47,-172.46 26.26,-169.64 32.48,-178.21 36.47,-172.46\"/>\n<text text-anchor=\"middle\" x=\"68.35\" y=\"-206.28\" font-family=\"monospace\" font-size=\"8.00\">2.0</text>\n</g>\n<!-- 4&#45;&#45;7 -->\n<g id=\"edge11\" class=\"edge\">\n<title>4&#45;&#45;7</title>\n<path fill=\"none\" stroke=\"gray\" d=\"M238.47,-211.48C215.7,-198.47 167.14,-170.72 144.28,-157.65\"/>\n<text text-anchor=\"middle\" x=\"184.38\" y=\"-187.17\" font-family=\"monospace\" font-size=\"8.00\">8.0</text>\n</g>\n<!-- 5&#45;&#45;6 -->\n<g id=\"edge12\" class=\"edge\">\n<title>5&#45;&#45;6</title>\n<path fill=\"none\" stroke=\"gray\" d=\"M54.51,-40.05C46.23,-65.45 26.86,-124.88 18.64,-150.09\"/>\n<text text-anchor=\"middle\" x=\"29.58\" y=\"-97.67\" font-family=\"monospace\" font-size=\"8.00\">7.0</text>\n</g>\n<!-- 6&#45;&#45;7 -->\n<g id=\"edge13\" class=\"edge\">\n<title>6&#45;&#45;7</title>\n<path fill=\"none\" stroke=\"gray\" d=\"M29.67,-160.31C52.07,-158.18 94.29,-154.16 116.83,-152.01\"/>\n<text text-anchor=\"middle\" x=\"66.25\" y=\"-158.76\" font-family=\"monospace\" font-size=\"8.00\">3.0</text>\n</g>\n</g>\n</svg>\n",
            "text/plain": [
              "<graphviz.graphs.Graph at 0x7fd04d5c6320>"
            ]
          },
          "metadata": {},
          "execution_count": 17
        }
      ]
    }
  ]
}