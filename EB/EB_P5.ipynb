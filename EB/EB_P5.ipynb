{
  "nbformat": 4,
  "nbformat_minor": 0,
  "metadata": {
    "colab": {
      "provenance": []
    },
    "kernelspec": {
      "name": "python3",
      "display_name": "Python 3"
    },
    "language_info": {
      "name": "python"
    }
  },
  "cells": [
    {
      "cell_type": "markdown",
      "source": [
        "# INPUT"
      ],
      "metadata": {
        "id": "WCuZNGdrNBOK"
      }
    },
    {
      "cell_type": "code",
      "source": [
        "# Data of the problem:\n",
        "pets = 4\n",
        "rooms = 10\n",
        "price = [100, 150, 200, 50, 80, 60, 120, 180, 250, 300]"
      ],
      "metadata": {
        "id": "oj9n3RsidNdI"
      },
      "execution_count": 1,
      "outputs": []
    },
    {
      "cell_type": "markdown",
      "source": [
        "# SOLUCIÓN"
      ],
      "metadata": {
        "id": "3Rd3s5H_NEQ_"
      }
    },
    {
      "cell_type": "code",
      "source": [
        "import itertools\n",
        "\n",
        "combinations = list(itertools.combinations(range(rooms), pets))\n",
        "valid_combinations = [True] * len(combinations)\n",
        "\n",
        "max_benefit = 0\n",
        "best_combination = None\n",
        "\n",
        "for e, combination in enumerate(combinations):\n",
        "    valid_combination = True\n",
        "    for i in range(1, pets):\n",
        "        if combination[i] - combination[i-1] == 1:\n",
        "            valid_combination = False\n",
        "            valid_combinations[e] = valid_combination\n",
        "            break\n",
        "\n",
        "    if valid_combination:\n",
        "        total_benefit = sum(price[room] for room in combination)\n",
        "        if total_benefit > max_benefit:\n",
        "            max_benefit = total_benefit\n",
        "            best_combination = combination\n",
        "\n",
        "# Print the maximum benefit for each valid combination\n",
        "j = 0\n",
        "for i, combination in enumerate(combinations):\n",
        "    total_benefit = sum(price[room] for room in combination)\n",
        "    if valid_combinations[i]:\n",
        "        print(f\"Combination {j+1}: Rooms {combination}, Maximum Benefit = {total_benefit}\")\n",
        "        j += 1\n",
        "\n",
        "print()\n",
        "print('-' * 60)\n",
        "print()\n",
        "\n",
        "# Print the combination with the maximum benefit\n",
        "print(\"Best Combination:\", best_combination, \"Maximum Benefit:\", max_benefit)\n"
      ],
      "metadata": {
        "colab": {
          "base_uri": "https://localhost:8080/"
        },
        "id": "kvlx6o7BM_su",
        "outputId": "a7a7dcd9-7e7d-4ad1-a59e-cfbdb7cbd171"
      },
      "execution_count": 2,
      "outputs": [
        {
          "output_type": "stream",
          "name": "stdout",
          "text": [
            "Combination 1: Rooms (0, 2, 4, 6), Maximum Benefit = 500\n",
            "Combination 2: Rooms (0, 2, 4, 7), Maximum Benefit = 560\n",
            "Combination 3: Rooms (0, 2, 4, 8), Maximum Benefit = 630\n",
            "Combination 4: Rooms (0, 2, 4, 9), Maximum Benefit = 680\n",
            "Combination 5: Rooms (0, 2, 5, 7), Maximum Benefit = 540\n",
            "Combination 6: Rooms (0, 2, 5, 8), Maximum Benefit = 610\n",
            "Combination 7: Rooms (0, 2, 5, 9), Maximum Benefit = 660\n",
            "Combination 8: Rooms (0, 2, 6, 8), Maximum Benefit = 670\n",
            "Combination 9: Rooms (0, 2, 6, 9), Maximum Benefit = 720\n",
            "Combination 10: Rooms (0, 2, 7, 9), Maximum Benefit = 780\n",
            "Combination 11: Rooms (0, 3, 5, 7), Maximum Benefit = 390\n",
            "Combination 12: Rooms (0, 3, 5, 8), Maximum Benefit = 460\n",
            "Combination 13: Rooms (0, 3, 5, 9), Maximum Benefit = 510\n",
            "Combination 14: Rooms (0, 3, 6, 8), Maximum Benefit = 520\n",
            "Combination 15: Rooms (0, 3, 6, 9), Maximum Benefit = 570\n",
            "Combination 16: Rooms (0, 3, 7, 9), Maximum Benefit = 630\n",
            "Combination 17: Rooms (0, 4, 6, 8), Maximum Benefit = 550\n",
            "Combination 18: Rooms (0, 4, 6, 9), Maximum Benefit = 600\n",
            "Combination 19: Rooms (0, 4, 7, 9), Maximum Benefit = 660\n",
            "Combination 20: Rooms (0, 5, 7, 9), Maximum Benefit = 640\n",
            "Combination 21: Rooms (1, 3, 5, 7), Maximum Benefit = 440\n",
            "Combination 22: Rooms (1, 3, 5, 8), Maximum Benefit = 510\n",
            "Combination 23: Rooms (1, 3, 5, 9), Maximum Benefit = 560\n",
            "Combination 24: Rooms (1, 3, 6, 8), Maximum Benefit = 570\n",
            "Combination 25: Rooms (1, 3, 6, 9), Maximum Benefit = 620\n",
            "Combination 26: Rooms (1, 3, 7, 9), Maximum Benefit = 680\n",
            "Combination 27: Rooms (1, 4, 6, 8), Maximum Benefit = 600\n",
            "Combination 28: Rooms (1, 4, 6, 9), Maximum Benefit = 650\n",
            "Combination 29: Rooms (1, 4, 7, 9), Maximum Benefit = 710\n",
            "Combination 30: Rooms (1, 5, 7, 9), Maximum Benefit = 690\n",
            "Combination 31: Rooms (2, 4, 6, 8), Maximum Benefit = 650\n",
            "Combination 32: Rooms (2, 4, 6, 9), Maximum Benefit = 700\n",
            "Combination 33: Rooms (2, 4, 7, 9), Maximum Benefit = 760\n",
            "Combination 34: Rooms (2, 5, 7, 9), Maximum Benefit = 740\n",
            "Combination 35: Rooms (3, 5, 7, 9), Maximum Benefit = 590\n",
            "\n",
            "------------------------------------------------------------\n",
            "\n",
            "Best Combination: (0, 2, 7, 9) Maximum Benefit: 780\n"
          ]
        }
      ]
    },
    {
      "cell_type": "markdown",
      "source": [
        "# JUSTIFICACIÓN\n",
        "\n",
        "## Técnica o algoritmo utilizado:\n",
        "\n",
        "Se utilizó la técnica de Brute Force o Fuerza Bruta, debido a que como indica el enunciado debemos de verificar cada una de las combinaciones válidas posibles para posteriormente imprimir el máximo beneficio que se puede obtener cuando la habitación de dos mascotas no es adyacente. Entonces, lo único que se debe hacer es conseguir todas las combinaciones posibles, validar cuales son aceptadas según el enunciado y posteriormente conseguir el beneficio de cada combinació. Finalmente, se realiza un bucle para poder encontrar el beneficio máximo. Todo esto es posible, ya que se posee los datos de antemano y solo es necesario iterar sobre ellos e ir guardando y comparando los resultados."
      ],
      "metadata": {
        "id": "qNcU8SQmNPwF"
      }
    },
    {
      "cell_type": "markdown",
      "source": [
        "---"
      ],
      "metadata": {
        "id": "mv5UFYdma1zH"
      }
    },
    {
      "cell_type": "markdown",
      "source": [
        "---"
      ],
      "metadata": {
        "id": "h_jkobLva1rH"
      }
    }
  ]
}