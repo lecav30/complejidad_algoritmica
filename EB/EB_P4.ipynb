{
  "nbformat": 4,
  "nbformat_minor": 0,
  "metadata": {
    "colab": {
      "provenance": []
    },
    "kernelspec": {
      "name": "python3",
      "display_name": "Python 3"
    },
    "language_info": {
      "name": "python"
    }
  },
  "cells": [
    {
      "cell_type": "markdown",
      "source": [
        "# INPUT"
      ],
      "metadata": {
        "id": "WCuZNGdrNBOK"
      }
    },
    {
      "cell_type": "code",
      "execution_count": 1,
      "metadata": {
        "colab": {
          "base_uri": "https://localhost:8080/"
        },
        "id": "AWYXRflRM3N0",
        "outputId": "07f7080d-3174-4ca2-9deb-9792604f4c95"
      },
      "outputs": [
        {
          "output_type": "stream",
          "name": "stdout",
          "text": [
            "Writing input.txt\n"
          ]
        }
      ],
      "source": [
        "%%file input.txt\n",
        "50 10\n",
        "12 3\n",
        "15 8\n",
        "16 9\n",
        "16 6\n",
        "10 2\n",
        "21 9\n",
        "18 4\n",
        "12 4\n",
        "17 8\n",
        "18 9\n",
        "\n",
        "50 10\n",
        "13 8\n",
        "19 10\n",
        "16 8\n",
        "12 9\n",
        "10 2\n",
        "12 8\n",
        "13 5\n",
        "15 5\n",
        "11 7\n",
        "16 2\n",
        "\n",
        "0 0"
      ]
    },
    {
      "cell_type": "markdown",
      "source": [
        "# SOLUCIÓN DP ITERATIVO"
      ],
      "metadata": {
        "id": "3Rd3s5H_NEQ_"
      }
    },
    {
      "cell_type": "code",
      "source": [
        "with open(\"input.txt\") as input_file:\n",
        "    # Continue the loop until the exit conditions are satisfied\n",
        "    while True:\n",
        "        # Read input\n",
        "        budget, parties = map(int, input_file.readline().split())\n",
        "\n",
        "        # Exit conditions\n",
        "        if budget == 0 and parties == 0:\n",
        "            break\n",
        "\n",
        "        price, fun = [], []\n",
        "        for _ in range(parties):\n",
        "            p, f = map(int, input_file.readline().split())\n",
        "            price.append(p)\n",
        "            fun.append(f)\n",
        "\n",
        "        # Read the blank line\n",
        "        blank = input_file.readline()\n",
        "        # if you change the input to delete the blank space\n",
        "        # comment this line\n",
        "\n",
        "        # Solve the problem\n",
        "\n",
        "        # Create the dp table\n",
        "        dp = [[0 for _ in range(budget + 1)] for _ in range(parties + 1)]\n",
        "        # (parties + 1) rows\n",
        "        # (budget + 1) columns\n",
        "        # both initialize in 0\n",
        "\n",
        "        # Fill the dp table\n",
        "        for i in range(1, parties + 1):\n",
        "            for j in range(1, budget + 1):\n",
        "                if price[i - 1] > j:\n",
        "                    dp[i][j] = dp[i - 1][j]\n",
        "                else:\n",
        "                    dp[i][j] = max(fun[i - 1] + dp[i - 1]\n",
        "                                [j - price[i - 1]], dp[i - 1][j])\n",
        "\n",
        "        # Find the maximum fun\n",
        "        for i in range(budget, -1, -1):\n",
        "            if dp[parties][i] != dp[parties][budget]:\n",
        "                break\n",
        "\n",
        "        # Print the result\n",
        "        print(i + 1, dp[parties][budget])"
      ],
      "metadata": {
        "colab": {
          "base_uri": "https://localhost:8080/"
        },
        "id": "kvlx6o7BM_su",
        "outputId": "a29350b3-f4f9-477d-f83a-817038dd95bc"
      },
      "execution_count": 39,
      "outputs": [
        {
          "output_type": "stream",
          "name": "stdout",
          "text": [
            "49 26\n",
            "48 32\n"
          ]
        }
      ]
    },
    {
      "cell_type": "markdown",
      "source": [
        "# JUSTIFICACIÓN\n",
        "\n",
        "## Técnica o algoritmo utilizado:\n",
        "\n",
        "Se utilizó la técnica de DP o **Programación Dinámica**, ya que al tener datos como \"precio por fiesta\" y \"cantidad de diversión\" lo que se busca es maximizar la diversión dentro de un presupuesto dado, algo bastante similar al problema de la mochila, en el cual debemos maximizar las ganancias. Asimismo, el uso de DP evita el cálculo redundante de subproblemas. En este caso opté por una solución DP iterativa, ya que toda la solución se encuentra dentro de la lectura de datos del archivo. Aunque también se podría implementar la solución recursiva sin problema."
      ],
      "metadata": {
        "id": "qNcU8SQmNPwF"
      }
    },
    {
      "cell_type": "markdown",
      "source": [
        "---"
      ],
      "metadata": {
        "id": "mv5UFYdma1zH"
      }
    },
    {
      "cell_type": "markdown",
      "source": [
        "---"
      ],
      "metadata": {
        "id": "h_jkobLva1rH"
      }
    },
    {
      "cell_type": "markdown",
      "source": [
        "# SOLUCIÓN DP RECURSIVO INCOMPLETO (no tomar en cuenta)\n",
        "\n",
        "No se llego a implementar completamente por falta de tiempo"
      ],
      "metadata": {
        "id": "Hgm2DahGaw2z"
      }
    },
    {
      "cell_type": "code",
      "source": [
        "with open(\"input.txt\") as input_file:\n",
        "    # Continue the loop until the exit conditions are satisfied\n",
        "    while True:\n",
        "        # Read input\n",
        "        budget, parties = map(int, input_file.readline().split())\n",
        "\n",
        "        # Exit conditions\n",
        "        if budget == 0 and parties == 0:\n",
        "            break\n",
        "\n",
        "        price, fun = [], []\n",
        "        for _ in range(parties):\n",
        "            p, f = map(int, input_file.readline().split())\n",
        "            price.append(p)\n",
        "            fun.append(f)\n",
        "\n",
        "        # Read the blank line\n",
        "        blank = input_file.readline()\n",
        "        # if you change the input to delete the blank space\n",
        "        # comment this line\n",
        "\n",
        "        # Solve the problem\n",
        "\n",
        "        dp = [[None] * (budget + 1) for _ in range(parties + 1)]\n",
        "\n",
        "        def maxFun(budget, parties, price, fun, dp):\n",
        "            # Base condition\n",
        "            # Si ya no quedan elementos o se alcanzo el peso máximo\n",
        "            if parties == 0 or budget == 0:\n",
        "                return 0\n",
        "            # Si el subproblema se resolvió previamente, lo devolvemos\n",
        "            if dp[parties][budget] is not None:\n",
        "                return dp[parties][budget]\n",
        "            if price[parties-1] <= budget:\n",
        "                dp[parties][budget] = max(fun[parties - 1] + maxFun(budget - price[parties - 1], parties - 1, price, fun, dp), maxFun(budget, parties - 1, price, fun, dp))\n",
        "                return dp[parties][budget]\n",
        "            else:\n",
        "                dp[parties][budget] = maxFun(budget, parties - 1, price, fun, dp)\n",
        "                return dp[parties][budget]\n",
        "\n",
        "        print(maxFun(budget, parties, price, fun, dp))"
      ],
      "metadata": {
        "colab": {
          "base_uri": "https://localhost:8080/"
        },
        "id": "7ePLfwUuan4g",
        "outputId": "d79521c9-3bf5-43a0-b465-c24dad5cb599"
      },
      "execution_count": 37,
      "outputs": [
        {
          "output_type": "stream",
          "name": "stdout",
          "text": [
            "26\n",
            "32\n"
          ]
        }
      ]
    }
  ]
}