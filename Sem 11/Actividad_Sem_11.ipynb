{
  "nbformat": 4,
  "nbformat_minor": 0,
  "metadata": {
    "colab": {
      "provenance": []
    },
    "kernelspec": {
      "name": "python3",
      "display_name": "Python 3"
    },
    "language_info": {
      "name": "python"
    }
  },
  "cells": [
    {
      "cell_type": "markdown",
      "source": [
        "### Ejercicio 2"
      ],
      "metadata": {
        "id": "QIoooreFFWwE"
      }
    },
    {
      "cell_type": "code",
      "execution_count": 67,
      "metadata": {
        "id": "6QwJ0RMbEnHr"
      },
      "outputs": [],
      "source": [
        "# Ford-Fulkerson Algorithm for Maximum Flow Problem\n",
        "\"\"\"\n",
        "Description:\n",
        "    (1) Start with initial flow as 0;\n",
        "    (2) Choose augmenting path from source to sink and add path to flow;\n",
        "\"\"\"\n",
        " \n",
        " \n",
        "def BFS(graph, s, t, parent):\n",
        "    # Return True if there is node that has not iterated.\n",
        "    visited = [False] * len(graph)\n",
        "    queue = []\n",
        "    queue.append(s)\n",
        "    visited[s] = True\n",
        " \n",
        "    while queue:\n",
        "        u = queue.pop(0)\n",
        "        for ind in range(len(graph[u])):\n",
        "            if visited[ind] is False and graph[u][ind] > 0:\n",
        "                queue.append(ind)\n",
        "                visited[ind] = True\n",
        "                parent[ind] = u\n",
        " \n",
        "    return True if visited[t] else False\n",
        " \n",
        " \n",
        "def FordFulkerson(graph, source, sink):\n",
        "    # This array is filled by BFS and to store path\n",
        "    parent = [-1] * (len(graph))\n",
        "    max_flow = 0\n",
        "    while BFS(graph, source, sink, parent):\n",
        "        path_flow = float(\"Inf\")\n",
        "        s = sink\n",
        " \n",
        "        while s != source:\n",
        "            # Find the minimum value in select path\n",
        "            path_flow = min(path_flow, graph[parent[s]][s])\n",
        "            s = parent[s]\n",
        " \n",
        "        max_flow += path_flow\n",
        "        v = sink\n",
        " \n",
        "        while v != source:\n",
        "            u = parent[v]\n",
        "            graph[u][v] -= path_flow\n",
        "            graph[v][u] += path_flow\n",
        "            v = parent[v]\n",
        "    # for i in graph:\n",
        "    #     print(i)\n",
        "    # Modificación para mostrar los flujos por cada tubería\n",
        "    for e, i in enumerate(graph):\n",
        "        for e2, j in enumerate(i):\n",
        "            if j != 0 and e > e2:\n",
        "                print(f'{e2} -> {e} : {j}')\n",
        "    return max_flow"
      ]
    },
    {
      "cell_type": "markdown",
      "source": [
        "### Ejercicio 3"
      ],
      "metadata": {
        "id": "_Y3g628HFfur"
      }
    },
    {
      "cell_type": "code",
      "source": [
        "import graphviz as gv\n",
        "import numpy as np\n"
      ],
      "metadata": {
        "id": "xcntGa1BNN_W"
      },
      "execution_count": 68,
      "outputs": []
    },
    {
      "cell_type": "code",
      "source": [
        "def dibujaGrafo(A):\n",
        "  grafo = gv.Digraph(\"graph\") # Grafo dirigido [Digraph]\n",
        "  n = len(A)\n",
        "\n",
        "  for i in range(n):\n",
        "    for j in range(n):\n",
        "      if A[i,j] >= 1:\n",
        "        grafo.edge(str(i+1),str(j+1))\n",
        "\n",
        "  return grafo"
      ],
      "metadata": {
        "id": "1obWM8HEM3W5"
      },
      "execution_count": 74,
      "outputs": []
    },
    {
      "cell_type": "code",
      "source": [
        "graphB = [\n",
        "    [0, 6, 4, 1, 0, 0, 0],\n",
        "    [0, 0, 0, 0, 4, 0, 0],\n",
        "    [0, 0, 0, 3, 1, 3, 0],\n",
        "    [0, 0, 0, 0, 0, 4, 0],\n",
        "    [0, 0, 0, 0, 0, 0, 4],\n",
        "    [0, 0, 0, 0, 0, 0, 9],\n",
        "    [0, 0, 0, 0, 0, 0, 0],\n",
        "]\n",
        " \n",
        "print(FordFulkerson(graphB, 0, 6))\n",
        "# Flujo de cada una de las tuberías\n",
        "# Flujo máximo en F"
      ],
      "metadata": {
        "colab": {
          "base_uri": "https://localhost:8080/"
        },
        "id": "naNtv5QOFhW7",
        "outputId": "9a382b51-ccd8-44ef-8578-ec3d13f8a3e1"
      },
      "execution_count": 76,
      "outputs": [
        {
          "output_type": "stream",
          "name": "stdout",
          "text": [
            "0 -> 1 : 4\n",
            "0 -> 2 : 4\n",
            "0 -> 3 : 1\n",
            "2 -> 3 : 1\n",
            "1 -> 4 : 4\n",
            "2 -> 5 : 3\n",
            "3 -> 5 : 2\n",
            "4 -> 6 : 4\n",
            "5 -> 6 : 5\n",
            "9\n"
          ]
        }
      ]
    },
    {
      "cell_type": "code",
      "source": [
        "%%file graph.x\n",
        "0 6 4 1 0 0 0\n",
        "0 0 0 0 4 0 0\n",
        "0 0 0 3 1 3 0\n",
        "0 0 0 0 0 4 0\n",
        "0 0 0 0 0 0 4\n",
        "0 0 0 0 0 0 9\n",
        "0 0 0 0 0 0 0"
      ],
      "metadata": {
        "colab": {
          "base_uri": "https://localhost:8080/"
        },
        "id": "2NcnUfOFRPCw",
        "outputId": "9eeabf5f-f26b-4760-d3d2-df6553054350"
      },
      "execution_count": 71,
      "outputs": [
        {
          "output_type": "stream",
          "name": "stdout",
          "text": [
            "Overwriting graph.x\n"
          ]
        }
      ]
    },
    {
      "cell_type": "code",
      "source": [
        "B = np.loadtxt(\"graph.x\", dtype=int, delimiter=\" \")\n",
        "B"
      ],
      "metadata": {
        "colab": {
          "base_uri": "https://localhost:8080/"
        },
        "id": "K_5cEwmfQU7t",
        "outputId": "70bd342d-3c56-404a-c7ad-b955aa73affc"
      },
      "execution_count": 72,
      "outputs": [
        {
          "output_type": "execute_result",
          "data": {
            "text/plain": [
              "array([[0, 6, 4, 1, 0, 0, 0],\n",
              "       [0, 0, 0, 0, 4, 0, 0],\n",
              "       [0, 0, 0, 3, 1, 3, 0],\n",
              "       [0, 0, 0, 0, 0, 4, 0],\n",
              "       [0, 0, 0, 0, 0, 0, 4],\n",
              "       [0, 0, 0, 0, 0, 0, 9],\n",
              "       [0, 0, 0, 0, 0, 0, 0]])"
            ]
          },
          "metadata": {},
          "execution_count": 72
        }
      ]
    },
    {
      "cell_type": "code",
      "source": [
        "# Grafo del Ejercicio 3\n",
        "dibujaGrafo(B)"
      ],
      "metadata": {
        "colab": {
          "base_uri": "https://localhost:8080/",
          "height": 464
        },
        "id": "dTjCbYrfNrT2",
        "outputId": "80b783e4-cb7f-4814-f854-d2048076906d"
      },
      "execution_count": 77,
      "outputs": [
        {
          "output_type": "execute_result",
          "data": {
            "image/svg+xml": "<?xml version=\"1.0\" encoding=\"UTF-8\" standalone=\"no\"?>\n<!DOCTYPE svg PUBLIC \"-//W3C//DTD SVG 1.1//EN\"\n \"http://www.w3.org/Graphics/SVG/1.1/DTD/svg11.dtd\">\n<!-- Generated by graphviz version 2.43.0 (0)\n -->\n<!-- Title: graph Pages: 1 -->\n<svg width=\"189pt\" height=\"332pt\"\n viewBox=\"0.00 0.00 189.00 332.00\" xmlns=\"http://www.w3.org/2000/svg\" xmlns:xlink=\"http://www.w3.org/1999/xlink\">\n<g id=\"graph0\" class=\"graph\" transform=\"scale(1 1) rotate(0) translate(4 328)\">\n<title>graph</title>\n<polygon fill=\"white\" stroke=\"transparent\" points=\"-4,4 -4,-328 185,-328 185,4 -4,4\"/>\n<!-- 1 -->\n<g id=\"node1\" class=\"node\">\n<title>1</title>\n<ellipse fill=\"none\" stroke=\"black\" cx=\"99\" cy=\"-306\" rx=\"27\" ry=\"18\"/>\n<text text-anchor=\"middle\" x=\"99\" y=\"-302.3\" font-family=\"Times,serif\" font-size=\"14.00\">1</text>\n</g>\n<!-- 2 -->\n<g id=\"node2\" class=\"node\">\n<title>2</title>\n<ellipse fill=\"none\" stroke=\"black\" cx=\"27\" cy=\"-234\" rx=\"27\" ry=\"18\"/>\n<text text-anchor=\"middle\" x=\"27\" y=\"-230.3\" font-family=\"Times,serif\" font-size=\"14.00\">2</text>\n</g>\n<!-- 1&#45;&gt;2 -->\n<g id=\"edge1\" class=\"edge\">\n<title>1&#45;&gt;2</title>\n<path fill=\"none\" stroke=\"black\" d=\"M84.43,-290.83C74.25,-280.94 60.48,-267.55 48.97,-256.36\"/>\n<polygon fill=\"black\" stroke=\"black\" points=\"51.41,-253.85 41.8,-249.38 46.53,-258.87 51.41,-253.85\"/>\n</g>\n<!-- 3 -->\n<g id=\"node3\" class=\"node\">\n<title>3</title>\n<ellipse fill=\"none\" stroke=\"black\" cx=\"99\" cy=\"-234\" rx=\"27\" ry=\"18\"/>\n<text text-anchor=\"middle\" x=\"99\" y=\"-230.3\" font-family=\"Times,serif\" font-size=\"14.00\">3</text>\n</g>\n<!-- 1&#45;&gt;3 -->\n<g id=\"edge2\" class=\"edge\">\n<title>1&#45;&gt;3</title>\n<path fill=\"none\" stroke=\"black\" d=\"M99,-287.7C99,-279.98 99,-270.71 99,-262.11\"/>\n<polygon fill=\"black\" stroke=\"black\" points=\"102.5,-262.1 99,-252.1 95.5,-262.1 102.5,-262.1\"/>\n</g>\n<!-- 4 -->\n<g id=\"node4\" class=\"node\">\n<title>4</title>\n<ellipse fill=\"none\" stroke=\"black\" cx=\"154\" cy=\"-162\" rx=\"27\" ry=\"18\"/>\n<text text-anchor=\"middle\" x=\"154\" y=\"-158.3\" font-family=\"Times,serif\" font-size=\"14.00\">4</text>\n</g>\n<!-- 1&#45;&gt;4 -->\n<g id=\"edge3\" class=\"edge\">\n<title>1&#45;&gt;4</title>\n<path fill=\"none\" stroke=\"black\" d=\"M111.75,-289.7C119.56,-279.59 129.15,-265.71 135,-252 143.46,-232.17 148.3,-208.2 150.98,-190.13\"/>\n<polygon fill=\"black\" stroke=\"black\" points=\"154.48,-190.37 152.34,-179.99 147.54,-189.43 154.48,-190.37\"/>\n</g>\n<!-- 5 -->\n<g id=\"node5\" class=\"node\">\n<title>5</title>\n<ellipse fill=\"none\" stroke=\"black\" cx=\"44\" cy=\"-162\" rx=\"27\" ry=\"18\"/>\n<text text-anchor=\"middle\" x=\"44\" y=\"-158.3\" font-family=\"Times,serif\" font-size=\"14.00\">5</text>\n</g>\n<!-- 2&#45;&gt;5 -->\n<g id=\"edge4\" class=\"edge\">\n<title>2&#45;&gt;5</title>\n<path fill=\"none\" stroke=\"black\" d=\"M31.12,-216.05C33.01,-208.26 35.3,-198.82 37.42,-190.08\"/>\n<polygon fill=\"black\" stroke=\"black\" points=\"40.85,-190.82 39.8,-180.28 34.04,-189.17 40.85,-190.82\"/>\n</g>\n<!-- 3&#45;&gt;4 -->\n<g id=\"edge5\" class=\"edge\">\n<title>3&#45;&gt;4</title>\n<path fill=\"none\" stroke=\"black\" d=\"M110.93,-217.81C118.21,-208.55 127.66,-196.52 135.85,-186.09\"/>\n<polygon fill=\"black\" stroke=\"black\" points=\"138.66,-188.18 142.09,-178.16 133.16,-183.86 138.66,-188.18\"/>\n</g>\n<!-- 3&#45;&gt;5 -->\n<g id=\"edge6\" class=\"edge\">\n<title>3&#45;&gt;5</title>\n<path fill=\"none\" stroke=\"black\" d=\"M87.07,-217.81C79.79,-208.55 70.34,-196.52 62.15,-186.09\"/>\n<polygon fill=\"black\" stroke=\"black\" points=\"64.84,-183.86 55.91,-178.16 59.34,-188.18 64.84,-183.86\"/>\n</g>\n<!-- 6 -->\n<g id=\"node6\" class=\"node\">\n<title>6</title>\n<ellipse fill=\"none\" stroke=\"black\" cx=\"99\" cy=\"-90\" rx=\"27\" ry=\"18\"/>\n<text text-anchor=\"middle\" x=\"99\" y=\"-86.3\" font-family=\"Times,serif\" font-size=\"14.00\">6</text>\n</g>\n<!-- 3&#45;&gt;6 -->\n<g id=\"edge7\" class=\"edge\">\n<title>3&#45;&gt;6</title>\n<path fill=\"none\" stroke=\"black\" d=\"M99,-215.87C99,-191.67 99,-147.21 99,-118.39\"/>\n<polygon fill=\"black\" stroke=\"black\" points=\"102.5,-118.19 99,-108.19 95.5,-118.19 102.5,-118.19\"/>\n</g>\n<!-- 4&#45;&gt;6 -->\n<g id=\"edge8\" class=\"edge\">\n<title>4&#45;&gt;6</title>\n<path fill=\"none\" stroke=\"black\" d=\"M142.07,-145.81C134.79,-136.55 125.34,-124.52 117.15,-114.09\"/>\n<polygon fill=\"black\" stroke=\"black\" points=\"119.84,-111.86 110.91,-106.16 114.34,-116.18 119.84,-111.86\"/>\n</g>\n<!-- 7 -->\n<g id=\"node7\" class=\"node\">\n<title>7</title>\n<ellipse fill=\"none\" stroke=\"black\" cx=\"71\" cy=\"-18\" rx=\"27\" ry=\"18\"/>\n<text text-anchor=\"middle\" x=\"71\" y=\"-14.3\" font-family=\"Times,serif\" font-size=\"14.00\">7</text>\n</g>\n<!-- 5&#45;&gt;7 -->\n<g id=\"edge9\" class=\"edge\">\n<title>5&#45;&gt;7</title>\n<path fill=\"none\" stroke=\"black\" d=\"M47.26,-143.87C51.86,-119.67 60.31,-75.21 65.79,-46.39\"/>\n<polygon fill=\"black\" stroke=\"black\" points=\"69.3,-46.67 67.73,-36.19 62.43,-45.36 69.3,-46.67\"/>\n</g>\n<!-- 6&#45;&gt;7 -->\n<g id=\"edge10\" class=\"edge\">\n<title>6&#45;&gt;7</title>\n<path fill=\"none\" stroke=\"black\" d=\"M92.36,-72.41C89.09,-64.22 85.06,-54.14 81.38,-44.95\"/>\n<polygon fill=\"black\" stroke=\"black\" points=\"84.55,-43.45 77.59,-35.47 78.05,-46.05 84.55,-43.45\"/>\n</g>\n</g>\n</svg>\n",
            "text/plain": [
              "<graphviz.graphs.Digraph at 0x7fc9136433a0>"
            ]
          },
          "metadata": {},
          "execution_count": 77
        }
      ]
    }
  ]
}