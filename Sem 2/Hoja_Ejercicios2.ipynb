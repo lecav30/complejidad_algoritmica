{
  "nbformat": 4,
  "nbformat_minor": 0,
  "metadata": {
    "colab": {
      "provenance": [],
      "authorship_tag": "ABX9TyNTRzRaPFb+XoFH96/XxfhI"
    },
    "kernelspec": {
      "name": "python3",
      "display_name": "Python 3"
    },
    "language_info": {
      "name": "python"
    }
  },
  "cells": [
    {
      "cell_type": "markdown",
      "source": [
        "# Ejercicio 1: Bubble Sort\n",
        "**Resuelto en clase**"
      ],
      "metadata": {
        "id": "uCrCK9ITvL1G"
      }
    },
    {
      "cell_type": "markdown",
      "source": [
        "---"
      ],
      "metadata": {
        "id": "zT2BNr3nvWDN"
      }
    },
    {
      "cell_type": "markdown",
      "source": [
        "# Ejercicio 2: Polinomios"
      ],
      "metadata": {
        "id": "nVzLwgV3vX1F"
      }
    },
    {
      "cell_type": "code",
      "source": [],
      "metadata": {
        "id": "qMqmtvVavbvE"
      },
      "execution_count": null,
      "outputs": []
    },
    {
      "cell_type": "markdown",
      "source": [
        " ---"
      ],
      "metadata": {
        "id": "JWykr-Nnxmvu"
      }
    },
    {
      "cell_type": "markdown",
      "source": [
        "# Ejercicio 3: SEND + MORE = MONEY"
      ],
      "metadata": {
        "id": "VwORSJfhxpeN"
      }
    },
    {
      "cell_type": "code",
      "source": [
        "# https://stackoverflow.com/questions/35975748/cryptarithmetic-puzzle-generic-solution-in-python-3\n",
        "\n",
        "# Fuerza bruta\n",
        "# En este caso se probarán todas las permutaciones posibles en cada valor\n",
        "\n",
        "import itertools # Permite realizar todas las permutaciones de una lista\n",
        "\n",
        "string = 'SEND + MORE = MONEY'\n",
        "\n",
        "# Conocimientos previos:\n",
        "# Cada letra representa un número\n",
        "# Un número que este al extremo izquierdo no puede ser 0\n",
        "\n",
        "def check_sum(dictionary, addends, sum):\n",
        "    \"\"\"\n",
        "    Revisa si la suma es correcta\n",
        "    \"\"\"\n",
        "    lst = []\n",
        "    sumi = 0\n",
        "    for addend in addends:\n",
        "        value = 0\n",
        "        for c in range(len(addend)):\n",
        "            value += dictionary[addend[c]] * (10 ** (len(addend) - c - 1))\n",
        "        lst.append(value)\n",
        "\n",
        "    for i in range(len(sum)):\n",
        "        sumi += dictionary[sum[i]] * (10 ** (len(sum) - i - 1))\n",
        "\n",
        "    for i in lst:\n",
        "        sumi -= i\n",
        "\n",
        "    if sumi == 0:\n",
        "        return True\n",
        "    return False\n",
        "\n",
        "\n",
        "def cryptorithm(str):\n",
        "    # Obtiene las letras del string\n",
        "    lst = str.replace(' ','').split('=')\n",
        "    addends = lst[0].split('+')\n",
        "    sum = lst[len(lst) - 1]\n",
        "    characters = []\n",
        "    for i in sum:\n",
        "        if i not in characters:\n",
        "            characters.append(i)\n",
        "    for i in addends:\n",
        "        for j in i:\n",
        "            if j not in characters:\n",
        "                characters.append(j)\n",
        "    # Genera un diccionario donde cada letra es una llave y cada valor es un numero\n",
        "    permutations = list(itertools.permutations(range(0, 10)))\n",
        "    for i in permutations:\n",
        "        # zip: Regresa una lista de tuplas, donde cada tupla tiene dos valores, el primero\n",
        "        # es el i-ésimo valor del primer argumento y el segundo el i-ésimo valor del segundo\n",
        "        # argumento\n",
        "        dictionary = dict(zip(characters, i)) \n",
        "        # Revisa que el primer caracter no sea 0\n",
        "        if dictionary[addends[0][0]] != 0 and dictionary[addends[1][0]] != 0 and dictionary[sum[0]] != 0:\n",
        "            # Revisa si la suma es correcta, en caso lo sea, retorna el diccionario\n",
        "            if check_sum(dictionary, addends, sum):\n",
        "                return dictionary\n",
        "\n",
        "print(cryptorithm(string))\n"
      ],
      "metadata": {
        "colab": {
          "base_uri": "https://localhost:8080/"
        },
        "id": "Ls6fQOgyxuYF",
        "outputId": "77210e95-91ac-4242-8d21-2c82a2894d1c"
      },
      "execution_count": 59,
      "outputs": [
        {
          "output_type": "stream",
          "name": "stdout",
          "text": [
            "{'M': 1, 'O': 0, 'N': 6, 'E': 5, 'Y': 2, 'S': 9, 'D': 7, 'R': 8}\n"
          ]
        }
      ]
    },
    {
      "cell_type": "markdown",
      "source": [
        "---"
      ],
      "metadata": {
        "id": "iP6MH9WttU5-"
      }
    },
    {
      "cell_type": "markdown",
      "source": [
        "# Ejercicio 4: Problema del pastor"
      ],
      "metadata": {
        "id": "jEoF3fG-tWOn"
      }
    },
    {
      "cell_type": "code",
      "source": [],
      "metadata": {
        "id": "O-Ljumt2td_A"
      },
      "execution_count": null,
      "outputs": []
    }
  ]
}