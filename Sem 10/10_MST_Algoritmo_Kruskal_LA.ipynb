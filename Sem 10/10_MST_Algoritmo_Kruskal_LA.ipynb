{
  "nbformat": 4,
  "nbformat_minor": 0,
  "metadata": {
    "colab": {
      "provenance": []
    },
    "kernelspec": {
      "name": "python3",
      "display_name": "Python 3"
    },
    "language_info": {
      "name": "python"
    }
  },
  "cells": [
    {
      "cell_type": "markdown",
      "source": [
        "**Arbol de Expansión Mínimo: Algoritmo Kruskal**"
      ],
      "metadata": {
        "id": "-QNCGox1QBZb"
      }
    },
    {
      "cell_type": "markdown",
      "source": [
        "MST aplicando el Algortimo Kruskal a partir de una lista de adyacencia ponderada."
      ],
      "metadata": {
        "id": "1nSKfZZIjZFo"
      }
    },
    {
      "cell_type": "code",
      "source": [
        "import graphviz as gv"
      ],
      "metadata": {
        "id": "9QnJf7GpU466"
      },
      "execution_count": 10,
      "outputs": []
    },
    {
      "cell_type": "code",
      "execution_count": 11,
      "metadata": {
        "id": "VUjE9c_nP4j9"
      },
      "outputs": [],
      "source": [
        "class Graph:\n",
        "    def __init__(self, vertices):\n",
        "        self.V = vertices\n",
        "        self.graph = []\n",
        "\n",
        "    def add_edge(self, u, v, w):\n",
        "        self.graph.append([u, v, w])\n",
        "\n",
        "    # Funcion de busqueda Union Find\n",
        "\n",
        "    def find(self, parent, i):\n",
        "        if parent[i] == i:\n",
        "            return i\n",
        "        return self.find(parent, parent[i])\n",
        "\n",
        "    def apply_union(self, parent, rank, x, y):\n",
        "        xroot = self.find(parent, x)\n",
        "        yroot = self.find(parent, y)\n",
        "        if rank[xroot] < rank[yroot]:\n",
        "            parent[xroot] = yroot\n",
        "        elif rank[xroot] > rank[yroot]:\n",
        "            parent[yroot] = xroot\n",
        "        else:\n",
        "            parent[yroot] = xroot\n",
        "            rank[xroot] += 1\n",
        "\n",
        "    #  Aplicando del Algortimo Kruskal\n",
        "    def kruskal_algo(self):\n",
        "        result = []\n",
        "        i, e, tot_weight = 0, 0, 0\n",
        "        # Ordena en función del item[2], lo cual sería el 3er elemento (w)\n",
        "        self.graph = sorted(self.graph, key=lambda item: item[2])\n",
        "        parent = []\n",
        "        rank = []\n",
        "        for node in range(self.V):\n",
        "            parent.append(node)\n",
        "            rank.append(0)\n",
        "        while e < self.V - 1:\n",
        "            u, v, w = self.graph[i]\n",
        "            i = i + 1\n",
        "            x = self.find(parent, u)\n",
        "            y = self.find(parent, v)\n",
        "            if x != y:\n",
        "                e = e + 1\n",
        "                result.append([u, v, w])\n",
        "                self.apply_union(parent, rank, x, y)\n",
        "        for u, v, weight in result:\n",
        "            tot_weight = tot_weight + weight\n",
        "            print(\"%d - %d: %d\" % (u, v, weight))\n",
        "\n",
        "        print(\"Costo total del MST para el grafo: \", tot_weight)\n"
      ]
    },
    {
      "cell_type": "markdown",
      "source": [
        "Definición de una LA ponderada. Se lee del nodo 0: hacia nodo 2 existe un peso de 4, del nodo 0: hacia nodo 7 existe un peso de 8 y del nodo 0: hacia nodo 14 existe un peso de 3...."
      ],
      "metadata": {
        "id": "YNbehcO-WLRa"
      }
    },
    {
      "cell_type": "code",
      "source": [
        "%%file 1.in\n",
        "1|4 2|4\n",
        "2|2 0|4\n",
        "0|4 1|2 3|3 5|2 4|4\n",
        "2|3 4|3\n",
        "2|4 3|3\n",
        "2|2 4|3"
      ],
      "metadata": {
        "colab": {
          "base_uri": "https://localhost:8080/"
        },
        "id": "VHtGlgPSWEWy",
        "outputId": "2c16df72-8bf8-4c61-a5da-d7f2c82557bc"
      },
      "execution_count": 12,
      "outputs": [
        {
          "output_type": "stream",
          "name": "stdout",
          "text": [
            "Overwriting 1.in\n"
          ]
        }
      ]
    },
    {
      "cell_type": "markdown",
      "source": [
        "Funciones que permiten leer(readAdjl) y visualizar(adjlShow) una lista de adyacencia."
      ],
      "metadata": {
        "id": "TGWZEE7nW_BK"
      }
    },
    {
      "cell_type": "code",
      "source": [
        "def readAdjl(fn, haslabels=False, weighted=False, sep=\"|\"):\n",
        "  with open(fn) as f:\n",
        "    labels = None\n",
        "    if haslabels:\n",
        "      labels = f.readline().strip().split()\n",
        "    L = []\n",
        "    for line in f:\n",
        "      if weighted:\n",
        "        L.append([tuple(map(int, p.split(sep))) for p in line.strip().split()])\n",
        "        # line => \"1|3 2|5 4|4\" ==> [(1, 3), (2, 5), (4, 4)]\n",
        "      else: \n",
        "        L.append(list(map(int, line.strip().split()))) # \"1 3 5\" => [1, 3, 5]\n",
        "        # L.append([int(x) for x in line.strip().split()])\n",
        "  return L, labels\n",
        "\n",
        "def adjlShow(L, labels=None, directed=False, weighted=False, path=[],\n",
        "             layout=\"sfdp\"):\n",
        "  g = gv.Digraph(\"G\") if directed else gv.Graph(\"G\")\n",
        "  g.graph_attr[\"layout\"] = layout\n",
        "  g.edge_attr[\"color\"] = \"gray\"\n",
        "  g.node_attr[\"color\"] = \"orangered\"\n",
        "  g.node_attr[\"width\"] = \"0.1\"\n",
        "  g.node_attr[\"height\"] = \"0.1\"\n",
        "  g.node_attr[\"fontsize\"] = \"8\"\n",
        "  g.node_attr[\"fontcolor\"] = \"mediumslateblue\"\n",
        "  g.node_attr[\"fontname\"] = \"monospace\"\n",
        "  g.edge_attr[\"fontsize\"] = \"8\"\n",
        "  g.edge_attr[\"fontname\"] = \"monospace\"\n",
        "  n = len(L)\n",
        "  for u in range(n):\n",
        "    g.node(str(u), labels[u] if labels else str(u))\n",
        "  added = set()\n",
        "  for v, u in enumerate(path):\n",
        "    if u != None:\n",
        "      if weighted:\n",
        "        for vi, w in G[u]:\n",
        "          if vi == v:\n",
        "            break\n",
        "        g.edge(str(u), str(v), str(w), dir=\"forward\", penwidth=\"2\", color=\"orange\")\n",
        "      else:\n",
        "        g.edge(str(u), str(v), dir=\"forward\", penwidth=\"2\", color=\"orange\")\n",
        "      added.add(f\"{u},{v}\")\n",
        "      added.add(f\"{v},{u}\")\n",
        "  if weighted:\n",
        "    for u in range(n):\n",
        "      for v, w in L[u]:\n",
        "        if not directed and not f\"{u},{v}\" in added:\n",
        "          added.add(f\"{u},{v}\")\n",
        "          added.add(f\"{v},{u}\")\n",
        "          g.edge(str(u), str(v), str(w))\n",
        "        elif directed:\n",
        "          g.edge(str(u), str(v), str(w))\n",
        "  else:\n",
        "    for u in range(n):\n",
        "      for v in L[u]:\n",
        "        if not directed and not f\"{u},{v}\" in added:\n",
        "          added.add(f\"{u},{v}\")\n",
        "          added.add(f\"{v},{u}\")\n",
        "          g.edge(str(u), str(v))\n",
        "        elif directed:\n",
        "          g.edge(str(u), str(v))\n",
        "  return g"
      ],
      "metadata": {
        "id": "jx7WhTpiW-RD"
      },
      "execution_count": 13,
      "outputs": []
    },
    {
      "cell_type": "markdown",
      "source": [
        "Visualizamos el grafo ponderado a partir de la lista de Adyacencia ponderada contenida en el archivo 1.in"
      ],
      "metadata": {
        "id": "Qps2ij2AYVBC"
      }
    },
    {
      "cell_type": "code",
      "source": [
        "G, _ = readAdjl(\"1.in\", weighted=True)\n",
        "for i, edges in enumerate(G):\n",
        "  # Imprime una cadena formateada, donde {i:2} indica que \"i\"\n",
        "  # se imprimirá con un ancho mínimo de 2 caracteres\n",
        "  print(f\"{i:2}: {edges}\")\n",
        "adjlShow(G, weighted=True)"
      ],
      "metadata": {
        "colab": {
          "base_uri": "https://localhost:8080/",
          "height": 436
        },
        "id": "KGGjsRqDXNBr",
        "outputId": "84bce6e1-3329-403c-cbf2-bc3d62f2adab"
      },
      "execution_count": 14,
      "outputs": [
        {
          "output_type": "stream",
          "name": "stdout",
          "text": [
            " 0: [(1, 4), (2, 4)]\n",
            " 1: [(2, 2), (0, 4)]\n",
            " 2: [(0, 4), (1, 2), (3, 3), (5, 2), (4, 4)]\n",
            " 3: [(2, 3), (4, 3)]\n",
            " 4: [(2, 4), (3, 3)]\n",
            " 5: [(2, 2), (4, 3)]\n"
          ]
        },
        {
          "output_type": "execute_result",
          "data": {
            "image/svg+xml": "<?xml version=\"1.0\" encoding=\"UTF-8\" standalone=\"no\"?>\n<!DOCTYPE svg PUBLIC \"-//W3C//DTD SVG 1.1//EN\"\n \"http://www.w3.org/Graphics/SVG/1.1/DTD/svg11.dtd\">\n<!-- Generated by graphviz version 2.43.0 (0)\n -->\n<!-- Title: G Pages: 1 -->\n<svg width=\"298pt\" height=\"230pt\"\n viewBox=\"0.00 0.00 297.53 230.07\" xmlns=\"http://www.w3.org/2000/svg\" xmlns:xlink=\"http://www.w3.org/1999/xlink\">\n<g id=\"graph0\" class=\"graph\" transform=\"scale(1 1) rotate(0) translate(4 226.07)\">\n<title>G</title>\n<polygon fill=\"white\" stroke=\"transparent\" points=\"-4,4 -4,-226.07 293.53,-226.07 293.53,4 -4,4\"/>\n<!-- 0 -->\n<g id=\"node1\" class=\"node\">\n<title>0</title>\n<ellipse fill=\"none\" stroke=\"orangered\" cx=\"274.64\" cy=\"-63.51\" rx=\"14.7\" ry=\"12.04\"/>\n<text text-anchor=\"middle\" x=\"274.64\" y=\"-61.61\" font-family=\"monospace\" font-size=\"8.00\" fill=\"mediumslateblue\">0</text>\n</g>\n<!-- 1 -->\n<g id=\"node2\" class=\"node\">\n<title>1</title>\n<ellipse fill=\"none\" stroke=\"orangered\" cx=\"274.68\" cy=\"-157.89\" rx=\"14.7\" ry=\"12.04\"/>\n<text text-anchor=\"middle\" x=\"274.68\" y=\"-155.99\" font-family=\"monospace\" font-size=\"8.00\" fill=\"mediumslateblue\">1</text>\n</g>\n<!-- 0&#45;&#45;1 -->\n<g id=\"edge1\" class=\"edge\">\n<title>0&#45;&#45;1</title>\n<path fill=\"none\" stroke=\"gray\" d=\"M274.64,-75.85C274.65,-94.04 274.67,-127.83 274.68,-145.85\"/>\n<text text-anchor=\"middle\" x=\"272.16\" y=\"-113.45\" font-family=\"monospace\" font-size=\"8.00\">4</text>\n</g>\n<!-- 2 -->\n<g id=\"node3\" class=\"node\">\n<title>2</title>\n<ellipse fill=\"none\" stroke=\"orangered\" cx=\"141.63\" cy=\"-110.74\" rx=\"14.7\" ry=\"12.04\"/>\n<text text-anchor=\"middle\" x=\"141.63\" y=\"-108.84\" font-family=\"monospace\" font-size=\"8.00\" fill=\"mediumslateblue\">2</text>\n</g>\n<!-- 0&#45;&#45;2 -->\n<g id=\"edge2\" class=\"edge\">\n<title>0&#45;&#45;2</title>\n<path fill=\"none\" stroke=\"gray\" d=\"M260.9,-68.39C235.42,-77.44 181.07,-96.73 155.49,-105.82\"/>\n<text text-anchor=\"middle\" x=\"205.7\" y=\"-89.7\" font-family=\"monospace\" font-size=\"8.00\">4</text>\n</g>\n<!-- 1&#45;&#45;2 -->\n<g id=\"edge3\" class=\"edge\">\n<title>1&#45;&#45;2</title>\n<path fill=\"none\" stroke=\"gray\" d=\"M260.95,-153.02C235.45,-143.98 181.08,-124.72 155.49,-115.65\"/>\n<text text-anchor=\"middle\" x=\"205.72\" y=\"-136.93\" font-family=\"monospace\" font-size=\"8.00\">2</text>\n</g>\n<!-- 3 -->\n<g id=\"node4\" class=\"node\">\n<title>3</title>\n<ellipse fill=\"none\" stroke=\"orangered\" cx=\"46.33\" cy=\"-210.05\" rx=\"14.7\" ry=\"12.04\"/>\n<text text-anchor=\"middle\" x=\"46.33\" y=\"-208.15\" font-family=\"monospace\" font-size=\"8.00\" fill=\"mediumslateblue\">3</text>\n</g>\n<!-- 2&#45;&#45;3 -->\n<g id=\"edge4\" class=\"edge\">\n<title>2&#45;&#45;3</title>\n<path fill=\"none\" stroke=\"gray\" d=\"M132.49,-120.26C114.32,-139.19 73.84,-181.38 55.58,-200.41\"/>\n<text text-anchor=\"middle\" x=\"91.54\" y=\"-162.93\" font-family=\"monospace\" font-size=\"8.00\">3</text>\n</g>\n<!-- 4 -->\n<g id=\"node5\" class=\"node\">\n<title>4</title>\n<ellipse fill=\"none\" stroke=\"orangered\" cx=\"14.85\" cy=\"-111.24\" rx=\"14.7\" ry=\"12.04\"/>\n<text text-anchor=\"middle\" x=\"14.85\" y=\"-109.34\" font-family=\"monospace\" font-size=\"8.00\" fill=\"mediumslateblue\">4</text>\n</g>\n<!-- 2&#45;&#45;4 -->\n<g id=\"edge6\" class=\"edge\">\n<title>2&#45;&#45;4</title>\n<path fill=\"none\" stroke=\"gray\" d=\"M126.59,-110.8C102.19,-110.89 54.26,-111.09 29.87,-111.18\"/>\n<text text-anchor=\"middle\" x=\"75.73\" y=\"-113.59\" font-family=\"monospace\" font-size=\"8.00\">4</text>\n</g>\n<!-- 5 -->\n<g id=\"node6\" class=\"node\">\n<title>5</title>\n<ellipse fill=\"none\" stroke=\"orangered\" cx=\"45.13\" cy=\"-12.02\" rx=\"14.7\" ry=\"12.04\"/>\n<text text-anchor=\"middle\" x=\"45.13\" y=\"-10.12\" font-family=\"monospace\" font-size=\"8.00\" fill=\"mediumslateblue\">5</text>\n</g>\n<!-- 2&#45;&#45;5 -->\n<g id=\"edge5\" class=\"edge\">\n<title>2&#45;&#45;5</title>\n<path fill=\"none\" stroke=\"gray\" d=\"M132.38,-101.27C113.98,-82.45 72.99,-40.52 54.5,-21.6\"/>\n<text text-anchor=\"middle\" x=\"90.94\" y=\"-64.04\" font-family=\"monospace\" font-size=\"8.00\">2</text>\n</g>\n<!-- 3&#45;&#45;4 -->\n<g id=\"edge7\" class=\"edge\">\n<title>3&#45;&#45;4</title>\n<path fill=\"none\" stroke=\"gray\" d=\"M42.6,-198.32C36.54,-179.31 24.64,-141.96 18.58,-122.95\"/>\n<text text-anchor=\"middle\" x=\"28.09\" y=\"-163.24\" font-family=\"monospace\" font-size=\"8.00\">3</text>\n</g>\n<!-- 5&#45;&#45;4 -->\n<g id=\"edge8\" class=\"edge\">\n<title>5&#45;&#45;4</title>\n<path fill=\"none\" stroke=\"gray\" d=\"M41.54,-23.79C35.71,-42.89 24.26,-80.4 18.44,-99.49\"/>\n<text text-anchor=\"middle\" x=\"27.49\" y=\"-64.24\" font-family=\"monospace\" font-size=\"8.00\">3</text>\n</g>\n</g>\n</svg>\n",
            "text/plain": [
              "<graphviz.graphs.Graph at 0x7fa312b47370>"
            ]
          },
          "metadata": {},
          "execution_count": 14
        }
      ]
    },
    {
      "cell_type": "markdown",
      "source": [
        "Otra forma de crear el grafo y sus aristas ponderadas (sin leer una lista de adyacencia de sde un archivo)."
      ],
      "metadata": {
        "id": "y4EDyI8aZX0y"
      }
    },
    {
      "cell_type": "code",
      "source": [
        "g = Graph(6)\n",
        "g.add_edge(0, 1, 4)\n",
        "g.add_edge(0, 2, 4)\n",
        "g.add_edge(1, 2, 2)\n",
        "g.add_edge(1, 0, 4)\n",
        "g.add_edge(2, 0, 4)\n",
        "g.add_edge(2, 1, 2)\n",
        "g.add_edge(2, 3, 3)\n",
        "g.add_edge(2, 5, 2)\n",
        "g.add_edge(2, 4, 4)\n",
        "g.add_edge(3, 2, 3)\n",
        "g.add_edge(3, 4, 3)\n",
        "g.add_edge(4, 2, 4)\n",
        "g.add_edge(4, 3, 3)\n",
        "g.add_edge(5, 2, 2)\n",
        "g.add_edge(5, 4, 3)\n"
      ],
      "metadata": {
        "id": "pj4NZfatQWwJ"
      },
      "execution_count": 15,
      "outputs": []
    },
    {
      "cell_type": "markdown",
      "source": [
        "Ejecutamos la funcion del Algoritmo Kruskal, **kruskal_algo()** a fin de obtener el costo total del mst para el grafo G."
      ],
      "metadata": {
        "id": "dO0GvUK0Y3uY"
      }
    },
    {
      "cell_type": "code",
      "source": [
        "g.kruskal_algo()"
      ],
      "metadata": {
        "colab": {
          "base_uri": "https://localhost:8080/"
        },
        "id": "wF6lAh0UXRz3",
        "outputId": "228d4350-e283-43e0-f64e-83053356a20d"
      },
      "execution_count": 16,
      "outputs": [
        {
          "output_type": "stream",
          "name": "stdout",
          "text": [
            "1 - 2: 2\n",
            "2 - 5: 2\n",
            "2 - 3: 3\n",
            "3 - 4: 3\n",
            "0 - 1: 4\n",
            "Costo total del MST para el grafo:  14\n"
          ]
        }
      ]
    }
  ]
}