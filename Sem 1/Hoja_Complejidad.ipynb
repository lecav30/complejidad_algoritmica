{
 "cells": [
  {
   "attachments": {},
   "cell_type": "markdown",
   "metadata": {},
   "source": [
    "### Ejercicio 1\n",
    "\n",
    "An algorithm has complexity $O(n \\times log(n))$ and the time in miliseconds is $T(n)$, if both are directly proportional:\n",
    "\n",
    "$$T(n) = c \\times n \\times log(n)$$\n",
    "\n",
    "**If now we have a time $T(n)$ and 1,000,000 items, estimate how long this method will sort the 1,000,000 items:**\n",
    "\n",
    "$$\n",
    "T(n) = 1,000,000 \\times log(1,000,000) \\\\\n",
    "T(n) = 1,000,000 \\times 6\n",
    "T(n) = 6,000,000\n",
    "$$"
   ]
  },
  {
   "attachments": {},
   "cell_type": "markdown",
   "metadata": {},
   "source": [
    "---"
   ]
  },
  {
   "attachments": {},
   "cell_type": "markdown",
   "metadata": {},
   "source": [
    "### Ejercicio 2\n",
    "\n",
    "Processing time: $T(n) = c \\times n^2$\n",
    "\n",
    "**If we have $n = 5000$ items, how long will it take to process them?**\n",
    "\n",
    "And $N = 100 \\rightarrow T(n) = 1ms$ \n",
    "\n",
    "$$\n",
    "T(5000) = 1 \\times 5000^2 \\\\\n",
    "T(5000) = 25,000,000 \\\\\n",
    "T(5000) = 25s\n",
    "$$"
   ]
  },
  {
   "attachments": {},
   "cell_type": "markdown",
   "metadata": {},
   "source": [
    "---"
   ]
  },
  {
   "attachments": {},
   "cell_type": "markdown",
   "metadata": {},
   "source": [
    "### Ejercicio 3\n",
    "\n",
    "Complexity: $O(f(n))$ \\\n",
    "Processing time: $T(n) = c \\times f(n)$ \\\n",
    "Where $f(n)$ is a known function of $n$, spends 10 seconds to process 1000 data \n",
    "items.\n",
    "\n",
    "**How much time will be spent to process 100,000 data items?**\n",
    "\n",
    "1. If $f(n) = n$\n",
    "\n",
    "$$\n",
    "T(n) = 1 \\times f(n) \\\\\n",
    "T(n) = 1 \\times n \\\\\n",
    "T(100,000) = 100,000 \\\\\n",
    "T(100,000) = 1,000s\n",
    "$$\n",
    "\n",
    "2. If $f(n) = n^3$\n",
    "\n",
    "$$\n",
    "T(n) = 1 \\times f(n) \\\\\n",
    "T(n) = 1 \\times n^3 \\\\\n",
    "T(100,000) = 100,000^3 \\\\\n",
    "T(100,000) = 10^{12} \\\\\n",
    "T(100,000) = 10^{10}s \\\\\n",
    "$$"
   ]
  },
  {
   "attachments": {},
   "cell_type": "markdown",
   "metadata": {},
   "source": [
    "---"
   ]
  },
  {
   "attachments": {},
   "cell_type": "markdown",
   "metadata": {},
   "source": [
    "### Ejercicio 4\n",
    "\n",
    "| Algorithm | Complexity | Processing time |\n",
    "| --- | --- | --- |\n",
    "| $5 + 0,001 \\times n^3 + 0,025 \\times n$  | $0,001 \\times n^3$ | $O(n)$ |\n",
    "| $500 \\times n + 100 \\times n^{1,5} + 50 \\times log_{10}(n)$ | $100 \\times n^{1,5}$ | $O(n^{1,5})$ |\n",
    "| $0,3 + 5 \\times n^{1.5} + 2.5 \\times n^{1,75}$ | $2.5 \\times n^{1,75}$ | $O(n^{1,75})$ |\n",
    "| $n^2 \\times log_2(n) + n \\times (log_2(n))^2$ | $n^2 \\times log_2(n)$ | $O(n^2 \\times log(n))$ |\n",
    "| $n \\times log_3(n) + n \\times log_n(n)$ | $n \\times log_n(n)$ | $O(n \\times log(n))$ |\n",
    "| $3 \\times log_8(n) + log_2(log_2(log_2(n)))$ | $3 \\times log_8(n)$ | $O(log(n))$ |\n",
    "| $100 \\times n + 0,01 \\times n^2$ | $0,01 \\times n^2$ | $O(n^2)$ |\n",
    "| $0,01 \\times n + 100 \\times n^2$ | $100 \\times n^2$ | $O(n^2)$ |\n",
    "| $2 \\times n + n^{0.5} + 0,5 \\times n^{1,25}$ | $n^{1,25}$ | $O(n^{1,25})$ |\n",
    "| $0,01 \\times n \\times log_2(n) + n \\times (log_2(n))^2$ | $n \\times (log_2(n))^2$ | $n \\times (log(n))$ |\n",
    "| $100 \\times n \\times log_3(n) + n^3 + 100 \\times n$ | $n^3$ | $O(n^3)$ |\n",
    "| $0,003 \\times log_4(n) + log_2(log_2(n))$ | $0,003 \\times log_4(n)$ | $O(log(n))$ |"
   ]
  },
  {
   "attachments": {},
   "cell_type": "markdown",
   "metadata": {},
   "source": [
    "---"
   ]
  }
 ],
 "metadata": {
  "language_info": {
   "name": "python"
  },
  "orig_nbformat": 4
 },
 "nbformat": 4,
 "nbformat_minor": 2
}
