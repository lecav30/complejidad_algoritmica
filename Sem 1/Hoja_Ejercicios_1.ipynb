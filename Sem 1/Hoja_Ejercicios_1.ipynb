{
 "cells": [
  {
   "attachments": {},
   "cell_type": "markdown",
   "metadata": {},
   "source": [
    "# Ejercicio 1: Uso de arreglos (1)"
   ]
  },
  {
   "cell_type": "code",
   "execution_count": 9,
   "metadata": {},
   "outputs": [
    {
     "name": "stdout",
     "output_type": "stream",
     "text": [
      "[57, 24, 17, 8, 57]\n"
     ]
    }
   ],
   "source": [
    "import random\n",
    "\n",
    "def generar(n):\n",
    "    \"\"\"\n",
    "    Genera una lista de n números aleatorios entre 0 y 100\n",
    "    param n: cantidad de números a generar\n",
    "    \"\"\"\n",
    "    lst = list() # 1\n",
    "    for i in range(n): # n\n",
    "        lst.append(random.randint(0, 100)) # m\n",
    "    return lst # 1\n",
    "    # 1 + n * m + 1 = 2 + n * m\n",
    "    # Complejidad: O(n * m)\n",
    "\n",
    "n = int(input(\"Ingrese un número: \"))\n",
    "\n",
    "print(generar(n))"
   ]
  },
  {
   "cell_type": "code",
   "execution_count": 33,
   "metadata": {},
   "outputs": [
    {
     "name": "stdout",
     "output_type": "stream",
     "text": [
      "[75, 34, 75, 6, 82]\n"
     ]
    }
   ],
   "source": [
    "def mostrar(lst):\n",
    "    \"\"\"\n",
    "    Muestra una lista en forma de lista\n",
    "    param lst: lista a mostrar\n",
    "    \"\"\"\n",
    "    print('[', end='') # 1\n",
    "    for i in lst: # n\n",
    "        if i == lst[-1]: # 2\n",
    "            print(i, end='') # 1\n",
    "        else:\n",
    "            print(i, end=', ') # 1\n",
    "    print(']') # 1\n",
    "    # 1 + n * (3) + 1 = 2 + 3 * n\n",
    "    # Complejidad: O(n)\n",
    "\n",
    "mostrar(generar(5))"
   ]
  },
  {
   "cell_type": "code",
   "execution_count": 31,
   "metadata": {},
   "outputs": [
    {
     "name": "stdout",
     "output_type": "stream",
     "text": [
      "[83, 6, 49, 47, 13, 78, 32, 26, 90, 100, 91]\n",
      "[91, 100, 90, 26, 32, 78, 13, 47, 49, 6, 83]\n"
     ]
    }
   ],
   "source": [
    "def reversa(lst):\n",
    "    \"\"\"\n",
    "    Invierte el orden de los elementos de una lista\n",
    "    param lst: lista a invertir\n",
    "    \"\"\"\n",
    "    for i in range(int(len(lst) / 2)): # n / 2\n",
    "        temp = lst[len(lst) - 1 - i] # 4\n",
    "        lst[len(lst) - 1 - i] = lst[i] # 5\n",
    "        lst[i] = temp # 1\n",
    "    return lst # 1\n",
    "    # n/2 * (4 + 5 + 1) + 1 = 1 + (10 * n/2) = 1 + 5 * n\n",
    "    # Complejidad: O(n)\n",
    "\n",
    "lst = generar(11)\n",
    "\n",
    "mostrar(lst)\n",
    "\n",
    "lst = reversa(lst)\n",
    "\n",
    "mostrar(lst)\n"
   ]
  },
  {
   "cell_type": "code",
   "execution_count": 32,
   "metadata": {},
   "outputs": [
    {
     "name": "stdout",
     "output_type": "stream",
     "text": [
      "[52, 49, 20, 11, 70, 16, 71, 79, 30, 36]\n",
      "11\n"
     ]
    }
   ],
   "source": [
    "def minArreglo(lst):\n",
    "    \"\"\"\n",
    "    Retorna el mínimo de un arreglo de números\n",
    "    param lst: lista de números\n",
    "    \"\"\"\n",
    "    min = lst[0] # 1\n",
    "    for i in lst: # n\n",
    "        if i < min: # 1\n",
    "            min = i # 1\n",
    "    return min # 1\n",
    "    # 1 + n * (1 + 1) + 1 = 1 + (2 * n) + 1 = 2 + (2 * n)\n",
    "    # Complejidad: O(n)\n",
    "\n",
    "lst = generar(10)\n",
    "\n",
    "mostrar(lst)\n",
    "\n",
    "print(minArreglo(lst))\n"
   ]
  },
  {
   "cell_type": "code",
   "execution_count": 34,
   "metadata": {},
   "outputs": [
    {
     "name": "stdout",
     "output_type": "stream",
     "text": [
      "[29, 84, 88, 83, 17, 52, 63, 73, 20, 81]\n",
      "59.0\n"
     ]
    }
   ],
   "source": [
    "def mediaArreglo(lst):\n",
    "    \"\"\"\n",
    "    Retorna la media de un arreglo de números\n",
    "    param lst: lista de números\n",
    "    \"\"\"\n",
    "    suma = 0 # 1\n",
    "    for i in lst: # n\n",
    "        suma += i # 2\n",
    "    return suma / len(lst) # 3\n",
    "    # 1 + n * (2) + 3 = 4 + (2 * n)\n",
    "    # Complejidad: O(n)\n",
    "\n",
    "lst = generar(10)\n",
    "\n",
    "mostrar(lst)\n",
    "\n",
    "print(mediaArreglo(lst))"
   ]
  },
  {
   "cell_type": "code",
   "execution_count": 35,
   "metadata": {},
   "outputs": [
    {
     "name": "stdout",
     "output_type": "stream",
     "text": [
      "[62, 30, 33, 55, 1, 38, 78, 54, 93, 40]\n",
      "[0, 1, 0, 0, 0, 0, 0, 0, 0, 0, 0, 0, 0, 0, 0, 0, 0, 0, 0, 0, 0, 0, 0, 0, 0, 0, 0, 0, 0, 0, 1, 0, 0, 1, 0, 0, 0, 0, 1, 0, 1, 0, 0, 0, 0, 0, 0, 0, 0, 0, 0, 0, 0, 0, 1, 1, 0, 0, 0, 0, 0, 0, 1, 0, 0, 0, 0, 0, 0, 0, 0, 0, 0, 0, 0, 0, 0, 0, 1, 0, 0, 0, 0, 0, 0, 0, 0, 0, 0, 0, 0, 0, 0, 1]\n"
     ]
    }
   ],
   "source": [
    "def ocurrencias(lst):\n",
    "    \"\"\"\n",
    "    Retorna un nuevo arreglo s donde s[i] es el número de veces que el\n",
    "    entero i aparece en el arreglo lst\n",
    "    param lst: lista de números\n",
    "    \"\"\"\n",
    "    s = list() # 1\n",
    "    for i in range(max(lst) + 1): # n + 1\n",
    "        if i not in lst: # 1\n",
    "            s.append(0) # 1\n",
    "        else: # 1\n",
    "            s.append(lst.count(i)) # 1\n",
    "    return s  #1\n",
    "    # 1 + (n + 1) * (1 + 1) + 1 = 1 + (n + 1) * 2 + 1\n",
    "    # = 2 + 2 * n + 2 =  2 * n + 4\n",
    "    # Complejidad: O(n)\n",
    "\n",
    "lst = generar(10)\n",
    "\n",
    "mostrar(lst)\n",
    "\n",
    "print(ocurrencias(lst))"
   ]
  },
  {
   "attachments": {},
   "cell_type": "markdown",
   "metadata": {},
   "source": [
    "# Ejercicio 2: Uso de arreglos (2)"
   ]
  },
  {
   "cell_type": "code",
   "execution_count": null,
   "metadata": {},
   "outputs": [],
   "source": [
    "lst = [100]"
   ]
  },
  {
   "cell_type": "code",
   "execution_count": 44,
   "metadata": {},
   "outputs": [],
   "source": [
    "lst = list(range(100))"
   ]
  },
  {
   "cell_type": "code",
   "execution_count": 45,
   "metadata": {},
   "outputs": [
    {
     "name": "stdout",
     "output_type": "stream",
     "text": [
      "[0, 1, 2, 3, 4, 5, 6, 7, 8, 9, 10, 11, 12, 13, 14, 15, 16, 17, 18, 19, 20, 21, 22, 23, 24, 25, 26, 27, 28, 29, 30, 31, 32, 33, 34, 35, 36, 37, 38, 39, 40, 41, 42, 43, 44, 45, 46, 47, 48, 49, 50, 51, 52, 53, 54, 55, 56, 57, 58, 59, 60, 61, 62, 63, 64, 65, 66, 67, 68, 69, 70, 71, 72, 73, 74, 75, 76, 77, 78, 79, 80, 81, 82, 83, 84, 85, 86, 87, 88, 89, 90, 91, 92, 93, 94, 95, 96, 97, 98, 99]\n"
     ]
    }
   ],
   "source": [
    "print(lst)"
   ]
  },
  {
   "cell_type": "code",
   "execution_count": 52,
   "metadata": {},
   "outputs": [
    {
     "name": "stdout",
     "output_type": "stream",
     "text": [
      "0 1 2 3 4 5 6 7 8 9 10 11 12 13 14 15 16 17 18 19 20 21 22 23 24 25 26 27 28 29 30 31 32 33 34 35 36 37 38 39 40 41 42 43 44 45 46 47 48 49 50 51 52 53 54 55 56 57 58 59 60 61 62 63 64 65 66 67 68 69 70 71 72 73 74 75 76 77 78 79 80 81 82 83 84 85 86 87 88 89 90 91 92 93 94 95 96 97 98 99 "
     ]
    }
   ],
   "source": [
    "def foo():\n",
    "    \"\"\"\n",
    "    Genera una lista de 100 números donde el valor de lst[i]\n",
    "    es igual al índice\n",
    "    \"\"\"\n",
    "    lst = list() # 1\n",
    "    for i in range(100): # 100\n",
    "        lst.append(i) # 1\n",
    "        print(lst[i], end=\" \") # 1\n",
    "    # 1 + 100 * (1 + 1) = 1 + 100 * 2 = 1 + 200 = 201\n",
    "    # Complejidad: O(1)\n",
    "\n",
    "foo()"
   ]
  },
  {
   "attachments": {},
   "cell_type": "markdown",
   "metadata": {},
   "source": [
    "# Ejercicio 3: Sudoku"
   ]
  },
  {
   "cell_type": "code",
   "execution_count": null,
   "metadata": {},
   "outputs": [],
   "source": []
  },
  {
   "attachments": {},
   "cell_type": "markdown",
   "metadata": {},
   "source": [
    "# Ejercicio 4: Criba de Eratóstenes\n",
    "\n",
    "[Criba de Eratóstenes por Wikipedia](https://es.wikipedia.org/wiki/Criba_de_Erat%C3%B3stenes)"
   ]
  },
  {
   "cell_type": "code",
   "execution_count": 55,
   "metadata": {},
   "outputs": [
    {
     "name": "stdout",
     "output_type": "stream",
     "text": [
      "8\n"
     ]
    }
   ],
   "source": [
    "def numeros_primos(n):\n",
    "    lst = list(range(2, n + 1)) # 3\n",
    "    menor_primo = 2 # 1\n",
    "\n",
    "    while menor_primo ** 2 < n: # 2 + n\n",
    "        for i in lst: # m\n",
    "            if i % menor_primo == 0 and i != menor_primo: # 4\n",
    "                lst.remove(i) # 1\n",
    "        menor_primo = lst[lst.index(menor_primo) + 1] # 3\n",
    "\n",
    "    # print(lst)\n",
    "    return len(lst) # 1\n",
    "    # 3 + 1 + 2 + n * (m * (4 + 1) + 3) + 1 = 3 + 1 + 2 + n * (m * 5 + 3) + 1\n",
    "    # Complejidad: O(n * m)\n",
    "\n",
    "print(numeros_primos(20))"
   ]
  }
 ],
 "metadata": {
  "kernelspec": {
   "display_name": "Python 3",
   "language": "python",
   "name": "python3"
  },
  "language_info": {
   "codemirror_mode": {
    "name": "ipython",
    "version": 3
   },
   "file_extension": ".py",
   "mimetype": "text/x-python",
   "name": "python",
   "nbconvert_exporter": "python",
   "pygments_lexer": "ipython3",
   "version": "3.11.2"
  },
  "orig_nbformat": 4
 },
 "nbformat": 4,
 "nbformat_minor": 2
}
