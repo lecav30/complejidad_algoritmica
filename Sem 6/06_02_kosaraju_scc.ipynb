{
  "cells": [
    {
      "cell_type": "markdown",
      "metadata": {
        "id": "k76gtr8vjcrN"
      },
      "source": [
        "## **Componentes fuertemente Conexos (SCC) - Algoritmo Kosaraju**"
      ]
    },
    {
      "cell_type": "code",
      "execution_count": 1,
      "metadata": {
        "id": "NCwSbIgxnNIm"
      },
      "outputs": [],
      "source": [
        "import graphviz as gv"
      ]
    },
    {
      "cell_type": "code",
      "execution_count": 2,
      "metadata": {
        "id": "r-kPAECsnS27"
      },
      "outputs": [],
      "source": [
        "def reverseGraph(G):\n",
        "  n = len(G)\n",
        "  # _ Es solo un nombre de variable, y es convencional en Python usar _ para variables desechables.\n",
        "  Grev = [[] for _ in range(n)]\n",
        "\n",
        "  for u in range(n):\n",
        "    for v in G[u]:\n",
        "      Grev[v].append(u)\n",
        "\n",
        "  return Grev"
      ]
    },
    {
      "cell_type": "code",
      "execution_count": 3,
      "metadata": {
        "id": "ug7iZQC8npBq"
      },
      "outputs": [],
      "source": [
        "def dfs(G, u, lst, visited):\n",
        "  visited[u] = True\n",
        "  for v in G[u]:\n",
        "    if not visited[v]:\n",
        "      dfs(G, v, lst, visited)\n",
        "\n",
        "  lst.append(u)"
      ]
    },
    {
      "cell_type": "code",
      "execution_count": 4,
      "metadata": {
        "id": "wianPhI4n6zB"
      },
      "outputs": [],
      "source": [
        "def kosaraju(G):\n",
        "  n = len(G)\n",
        "  visited = [False]*n\n",
        "  f = []\n",
        "\n",
        "  Grev = reverseGraph(G)            # Paso 1\n",
        "\n",
        "  for u in range(n):                # Paso 2\n",
        "    if not visited[u]:\n",
        "      dfs(Grev, u, f, visited)\n",
        "\n",
        "  visited = [False]*n               # Paso 3\n",
        "  scc = []\n",
        "  for u in reversed(f):\n",
        "    if not visited[u]:\n",
        "      cc = []\n",
        "      dfs(G, u, cc, visited)\n",
        "      scc.append(cc)\n",
        "\n",
        "  return scc"
      ]
    },
    {
      "cell_type": "code",
      "execution_count": 5,
      "metadata": {
        "colab": {
          "base_uri": "https://localhost:8080/"
        },
        "id": "WCIzkx6_pj_e",
        "outputId": "e6259813-3f44-49ef-91fa-3c03a03ebb04"
      },
      "outputs": [
        {
          "name": "stdout",
          "output_type": "stream",
          "text": [
            "Writing 1.in\n"
          ]
        }
      ],
      "source": [
        "%%file 1.in\n",
        "-\n",
        "4\n",
        "8\n",
        "6\n",
        "7\n",
        "2\n",
        "9\n",
        "1\n",
        "5 6\n",
        "3 7"
      ]
    },
    {
      "cell_type": "code",
      "execution_count": 6,
      "metadata": {
        "colab": {
          "base_uri": "https://localhost:8080/"
        },
        "id": "lsapm_rdpnMI",
        "outputId": "b7393cc1-19f2-4708-b8fb-cbb8b7ecc267"
      },
      "outputs": [
        {
          "name": "stdout",
          "output_type": "stream",
          "text": [
            "[[], [4], [8], [6], [7], [2], [9], [1], [5, 6], [3, 7]]\n"
          ]
        }
      ],
      "source": [
        "with open(\"1.in\") as f:\n",
        "  G = []\n",
        "  for line in f:\n",
        "    if line == \"-\\n\":\n",
        "      G.append([])\n",
        "    else:\n",
        "      G.append([int(x) for x in line.split()])\n",
        "\n",
        "print(G)"
      ]
    },
    {
      "cell_type": "code",
      "execution_count": 7,
      "metadata": {
        "id": "njlD4BUxppBU"
      },
      "outputs": [],
      "source": [
        "def show(G, labels=None, directed=False, weighted=False, path=[], layout=\"sfdp\"):\n",
        "  g = gv.Digraph(\"alegria\") if directed else gv.Graph(\"felicidad\")\n",
        "  g.graph_attr[\"layout\"] = layout\n",
        "  g.edge_attr[\"color\"] = \"gray\"\n",
        "  g.edge_attr[\"fontsize\"] = \"8\"\n",
        "  g.node_attr[\"color\"] = \"orangered\"\n",
        "  g.node_attr[\"width\"] = \"0.1\"\n",
        "  g.node_attr[\"height\"] = \"0.1\"\n",
        "  g.node_attr[\"fontsize\"] = \"8\"\n",
        "  g.node_attr[\"fontcolor\"] = \"mediumslateblue\"\n",
        "  n = len(G)\n",
        "\n",
        "  for u in range(n):\n",
        "    g.node(str(u), labels[u] if labels else str(u))\n",
        "\n",
        "  added = set()\n",
        "  for v, u in enumerate(path):\n",
        "    if u >= 0:\n",
        "      if weighted:\n",
        "        for vi, w in G[u]:\n",
        "          if vi == v:\n",
        "            break\n",
        "\n",
        "        g.edge(str(u), str(v), str(w), dir=\"forward\", penwidt=\"2\", color=\"orange\")\n",
        "      else:\n",
        "        g.edge(str(u), str(v), dir=\"forward\", penwidt=\"2\", color=\"orange\")\n",
        "\n",
        "      added.add(f\"{u}->{v}\")\n",
        "      added.add(f\"{v}->{u}\")\n",
        "  if weighted:\n",
        "    for u in range(n):\n",
        "      for v, w in G[u]:\n",
        "        if not directed and not f\"{u}->{v}\" in added:\n",
        "          added.add(f\"{u}->{v}\")\n",
        "          added.add(f\"{v}->{u}\")\n",
        "          g.edge(str(u), str(v), str(w))\n",
        "        elif directed:\n",
        "          g.edge(str(u), str(v), str(w))\n",
        "  else:\n",
        "    for u in range(n):\n",
        "      for v in G[u]:\n",
        "        if not directed and not f\"{u}->{v}\" in added:\n",
        "          added.add(f\"{u}->{v}\")\n",
        "          added.add(f\"{v}->{u}\")\n",
        "          g.edge(str(u), str(v))\n",
        "        elif directed:\n",
        "          g.edge(str(u), str(v))\n",
        "  return g"
      ]
    },
    {
      "cell_type": "code",
      "execution_count": 8,
      "metadata": {
        "colab": {
          "base_uri": "https://localhost:8080/",
          "height": 192
        },
        "id": "SCObMRxRprwN",
        "outputId": "2fd6a7c9-50cc-40b8-90a6-7e71ad896983"
      },
      "outputs": [
        {
          "data": {
            "image/svg+xml": [
              "<?xml version=\"1.0\" encoding=\"UTF-8\" standalone=\"no\"?>\n",
              "<!DOCTYPE svg PUBLIC \"-//W3C//DTD SVG 1.1//EN\"\n",
              " \"http://www.w3.org/Graphics/SVG/1.1/DTD/svg11.dtd\">\n",
              "<!-- Generated by graphviz version 2.50.0 (0)\n",
              " -->\n",
              "<!-- Title: alegria Pages: 1 -->\n",
              "<svg width=\"424pt\" height=\"170pt\"\n",
              " viewBox=\"0.00 0.00 423.55 170.37\" xmlns=\"http://www.w3.org/2000/svg\" xmlns:xlink=\"http://www.w3.org/1999/xlink\">\n",
              "<g id=\"graph0\" class=\"graph\" transform=\"scale(1 1) rotate(0) translate(4 166.37)\">\n",
              "<title>alegria</title>\n",
              "<polygon fill=\"white\" stroke=\"transparent\" points=\"-4,4 -4,-166.37 419.55,-166.37 419.55,4 -4,4\"/>\n",
              "<!-- 0 -->\n",
              "<g id=\"node1\" class=\"node\">\n",
              "<title>0</title>\n",
              "<ellipse fill=\"none\" stroke=\"orangered\" cx=\"245.14\" cy=\"-117.02\" rx=\"14.29\" ry=\"12.04\"/>\n",
              "<text text-anchor=\"middle\" x=\"245.14\" y=\"-115.12\" font-family=\"Times New Roman,serif\" font-size=\"8.00\" fill=\"mediumslateblue\">0</text>\n",
              "</g>\n",
              "<!-- 1 -->\n",
              "<g id=\"node2\" class=\"node\">\n",
              "<title>1</title>\n",
              "<ellipse fill=\"none\" stroke=\"orangered\" cx=\"401.4\" cy=\"-129.36\" rx=\"14.29\" ry=\"12.04\"/>\n",
              "<text text-anchor=\"middle\" x=\"401.4\" y=\"-127.46\" font-family=\"Times New Roman,serif\" font-size=\"8.00\" fill=\"mediumslateblue\">1</text>\n",
              "</g>\n",
              "<!-- 4 -->\n",
              "<g id=\"node5\" class=\"node\">\n",
              "<title>4</title>\n",
              "<ellipse fill=\"none\" stroke=\"orangered\" cx=\"362.89\" cy=\"-148.39\" rx=\"14.29\" ry=\"12.04\"/>\n",
              "<text text-anchor=\"middle\" x=\"362.89\" y=\"-146.49\" font-family=\"Times New Roman,serif\" font-size=\"8.00\" fill=\"mediumslateblue\">4</text>\n",
              "</g>\n",
              "<!-- 1&#45;&gt;4 -->\n",
              "<g id=\"edge1\" class=\"edge\">\n",
              "<title>1&#45;&gt;4</title>\n",
              "<path fill=\"none\" stroke=\"gray\" d=\"M388.79,-135.59C387.28,-136.34 385.71,-137.12 384.13,-137.9\"/>\n",
              "<polygon fill=\"gray\" stroke=\"gray\" points=\"382.55,-134.77 375.13,-142.34 385.65,-141.05 382.55,-134.77\"/>\n",
              "</g>\n",
              "<!-- 2 -->\n",
              "<g id=\"node3\" class=\"node\">\n",
              "<title>2</title>\n",
              "<ellipse fill=\"none\" stroke=\"orangered\" cx=\"14.14\" cy=\"-128.74\" rx=\"14.29\" ry=\"12.04\"/>\n",
              "<text text-anchor=\"middle\" x=\"14.14\" y=\"-126.84\" font-family=\"Times New Roman,serif\" font-size=\"8.00\" fill=\"mediumslateblue\">2</text>\n",
              "</g>\n",
              "<!-- 8 -->\n",
              "<g id=\"node9\" class=\"node\">\n",
              "<title>8</title>\n",
              "<ellipse fill=\"none\" stroke=\"orangered\" cx=\"79.48\" cy=\"-97.29\" rx=\"14.29\" ry=\"12.04\"/>\n",
              "<text text-anchor=\"middle\" x=\"79.48\" y=\"-95.39\" font-family=\"Times New Roman,serif\" font-size=\"8.00\" fill=\"mediumslateblue\">8</text>\n",
              "</g>\n",
              "<!-- 2&#45;&gt;8 -->\n",
              "<g id=\"edge2\" class=\"edge\">\n",
              "<title>2&#45;&gt;8</title>\n",
              "<path fill=\"none\" stroke=\"gray\" d=\"M26.74,-122.67C35.51,-118.45 47.42,-112.72 57.71,-107.76\"/>\n",
              "<polygon fill=\"gray\" stroke=\"gray\" points=\"59.43,-110.82 66.92,-103.33 56.39,-104.52 59.43,-110.82\"/>\n",
              "</g>\n",
              "<!-- 3 -->\n",
              "<g id=\"node4\" class=\"node\">\n",
              "<title>3</title>\n",
              "<ellipse fill=\"none\" stroke=\"orangered\" cx=\"207.03\" cy=\"-12.02\" rx=\"14.29\" ry=\"12.04\"/>\n",
              "<text text-anchor=\"middle\" x=\"207.03\" y=\"-10.12\" font-family=\"Times New Roman,serif\" font-size=\"8.00\" fill=\"mediumslateblue\">3</text>\n",
              "</g>\n",
              "<!-- 6 -->\n",
              "<g id=\"node7\" class=\"node\">\n",
              "<title>6</title>\n",
              "<ellipse fill=\"none\" stroke=\"orangered\" cx=\"164.16\" cy=\"-58.88\" rx=\"14.29\" ry=\"12.04\"/>\n",
              "<text text-anchor=\"middle\" x=\"164.16\" y=\"-56.98\" font-family=\"Times New Roman,serif\" font-size=\"8.00\" fill=\"mediumslateblue\">6</text>\n",
              "</g>\n",
              "<!-- 3&#45;&gt;6 -->\n",
              "<g id=\"edge3\" class=\"edge\">\n",
              "<title>3&#45;&gt;6</title>\n",
              "<path fill=\"none\" stroke=\"gray\" d=\"M197.94,-21.96C192.76,-27.63 186.11,-34.89 180.08,-41.47\"/>\n",
              "<polygon fill=\"gray\" stroke=\"gray\" points=\"177.11,-39.54 172.94,-49.28 182.28,-44.26 177.11,-39.54\"/>\n",
              "</g>\n",
              "<!-- 7 -->\n",
              "<g id=\"node8\" class=\"node\">\n",
              "<title>7</title>\n",
              "<ellipse fill=\"none\" stroke=\"orangered\" cx=\"334.75\" cy=\"-97.36\" rx=\"14.29\" ry=\"12.04\"/>\n",
              "<text text-anchor=\"middle\" x=\"334.75\" y=\"-95.46\" font-family=\"Times New Roman,serif\" font-size=\"8.00\" fill=\"mediumslateblue\">7</text>\n",
              "</g>\n",
              "<!-- 4&#45;&gt;7 -->\n",
              "<g id=\"edge4\" class=\"edge\">\n",
              "<title>4&#45;&gt;7</title>\n",
              "<path fill=\"none\" stroke=\"gray\" d=\"M356.78,-137.32C353.54,-131.43 349.45,-124.02 345.68,-117.18\"/>\n",
              "<polygon fill=\"gray\" stroke=\"gray\" points=\"348.74,-115.48 340.85,-108.41 342.61,-118.86 348.74,-115.48\"/>\n",
              "</g>\n",
              "<!-- 5 -->\n",
              "<g id=\"node6\" class=\"node\">\n",
              "<title>5</title>\n",
              "<ellipse fill=\"none\" stroke=\"orangered\" cx=\"53.57\" cy=\"-150.35\" rx=\"14.29\" ry=\"12.04\"/>\n",
              "<text text-anchor=\"middle\" x=\"53.57\" y=\"-148.45\" font-family=\"Times New Roman,serif\" font-size=\"8.00\" fill=\"mediumslateblue\">5</text>\n",
              "</g>\n",
              "<!-- 5&#45;&gt;2 -->\n",
              "<g id=\"edge5\" class=\"edge\">\n",
              "<title>5&#45;&gt;2</title>\n",
              "<path fill=\"none\" stroke=\"gray\" d=\"M41.53,-143.75C39.54,-142.66 37.43,-141.5 35.3,-140.33\"/>\n",
              "<polygon fill=\"gray\" stroke=\"gray\" points=\"36.56,-137.04 26.11,-135.3 33.2,-143.17 36.56,-137.04\"/>\n",
              "</g>\n",
              "<!-- 9 -->\n",
              "<g id=\"node10\" class=\"node\">\n",
              "<title>9</title>\n",
              "<ellipse fill=\"none\" stroke=\"orangered\" cx=\"249.94\" cy=\"-58.99\" rx=\"14.29\" ry=\"12.04\"/>\n",
              "<text text-anchor=\"middle\" x=\"249.94\" y=\"-57.09\" font-family=\"Times New Roman,serif\" font-size=\"8.00\" fill=\"mediumslateblue\">9</text>\n",
              "</g>\n",
              "<!-- 6&#45;&gt;9 -->\n",
              "<g id=\"edge6\" class=\"edge\">\n",
              "<title>6&#45;&gt;9</title>\n",
              "<path fill=\"none\" stroke=\"gray\" d=\"M178.32,-58.9C191.11,-58.91 210.21,-58.94 225.46,-58.96\"/>\n",
              "<polygon fill=\"gray\" stroke=\"gray\" points=\"225.75,-62.46 235.75,-58.97 225.75,-55.46 225.75,-62.46\"/>\n",
              "</g>\n",
              "<!-- 7&#45;&gt;1 -->\n",
              "<g id=\"edge7\" class=\"edge\">\n",
              "<title>7&#45;&gt;1</title>\n",
              "<path fill=\"none\" stroke=\"gray\" d=\"M347.29,-103.38C356.41,-107.76 369,-113.8 379.73,-118.96\"/>\n",
              "<polygon fill=\"gray\" stroke=\"gray\" points=\"378.39,-122.2 388.92,-123.37 381.42,-115.89 378.39,-122.2\"/>\n",
              "</g>\n",
              "<!-- 8&#45;&gt;5 -->\n",
              "<g id=\"edge8\" class=\"edge\">\n",
              "<title>8&#45;&gt;5</title>\n",
              "<path fill=\"none\" stroke=\"gray\" d=\"M73.99,-108.54C70.96,-114.73 67.12,-122.61 63.58,-129.85\"/>\n",
              "<polygon fill=\"gray\" stroke=\"gray\" points=\"60.3,-128.59 59.06,-139.11 66.59,-131.66 60.3,-128.59\"/>\n",
              "</g>\n",
              "<!-- 8&#45;&gt;6 -->\n",
              "<g id=\"edge9\" class=\"edge\">\n",
              "<title>8&#45;&gt;6</title>\n",
              "<path fill=\"none\" stroke=\"gray\" d=\"M91.97,-91.62C105.23,-85.61 126.43,-75.99 142.44,-68.73\"/>\n",
              "<polygon fill=\"gray\" stroke=\"gray\" points=\"143.95,-71.89 151.61,-64.57 141.06,-65.51 143.95,-71.89\"/>\n",
              "</g>\n",
              "<!-- 9&#45;&gt;3 -->\n",
              "<g id=\"edge10\" class=\"edge\">\n",
              "<title>9&#45;&gt;3</title>\n",
              "<path fill=\"none\" stroke=\"gray\" d=\"M241.25,-49.48C235.97,-43.7 229.07,-36.15 222.85,-29.34\"/>\n",
              "<polygon fill=\"gray\" stroke=\"gray\" points=\"225.33,-26.86 216,-21.83 220.16,-31.58 225.33,-26.86\"/>\n",
              "</g>\n",
              "<!-- 9&#45;&gt;7 -->\n",
              "<g id=\"edge11\" class=\"edge\">\n",
              "<title>9&#45;&gt;7</title>\n",
              "<path fill=\"none\" stroke=\"gray\" d=\"M262.45,-64.65C275.73,-70.66 296.97,-80.26 313,-87.51\"/>\n",
              "<polygon fill=\"gray\" stroke=\"gray\" points=\"311.63,-90.74 322.19,-91.67 314.52,-84.36 311.63,-90.74\"/>\n",
              "</g>\n",
              "</g>\n",
              "</svg>\n"
            ],
            "text/plain": [
              "<graphviz.graphs.Digraph at 0x1401c1feda0>"
            ]
          },
          "execution_count": 8,
          "metadata": {},
          "output_type": "execute_result"
        }
      ],
      "source": [
        "show(G, directed=True)"
      ]
    },
    {
      "cell_type": "code",
      "execution_count": 9,
      "metadata": {
        "colab": {
          "base_uri": "https://localhost:8080/"
        },
        "id": "pZ4ANJ_IpvwE",
        "outputId": "5089abde-df5c-4d3b-a435-51d241b984a2"
      },
      "outputs": [
        {
          "data": {
            "text/plain": [
              "[[7, 4, 1], [6, 3, 9], [2, 5, 8], [0]]"
            ]
          },
          "execution_count": 9,
          "metadata": {},
          "output_type": "execute_result"
        }
      ],
      "source": [
        "kosaraju(G)"
      ]
    }
  ],
  "metadata": {
    "colab": {
      "provenance": []
    },
    "kernelspec": {
      "display_name": "Python 3",
      "name": "python3"
    },
    "language_info": {
      "codemirror_mode": {
        "name": "ipython",
        "version": 3
      },
      "file_extension": ".py",
      "mimetype": "text/x-python",
      "name": "python",
      "nbconvert_exporter": "python",
      "pygments_lexer": "ipython3",
      "version": "3.10.11"
    }
  },
  "nbformat": 4,
  "nbformat_minor": 0
}
