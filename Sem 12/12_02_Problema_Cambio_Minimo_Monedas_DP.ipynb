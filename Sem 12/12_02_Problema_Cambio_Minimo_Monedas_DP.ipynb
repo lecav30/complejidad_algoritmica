{
  "nbformat": 4,
  "nbformat_minor": 0,
  "metadata": {
    "colab": {
      "name": "12-02-Problema-Cambio-Minimo-Monedas-DP.ipynb",
      "provenance": [],
      "collapsed_sections": []
    },
    "kernelspec": {
      "name": "python3",
      "display_name": "Python 3"
    },
    "language_info": {
      "name": "python"
    }
  },
  "cells": [
    {
      "cell_type": "markdown",
      "source": [
        "# **Problema de Cambio minimo de Monedas - Enfoque Programación Dinámica**"
      ],
      "metadata": {
        "id": "oPwE4PomvBfk"
      }
    },
    {
      "cell_type": "code",
      "execution_count": 1,
      "metadata": {
        "id": "IbDNRae4u59L"
      },
      "outputs": [],
      "source": [
        "import sys\n",
        "def minCoins(coins,price):\n",
        "    n = len(coins)\n",
        "    # Definir arreglo DP\n",
        "    dp  = [[None]*(price+1) for _ in range(n+1)]\n",
        "\n",
        "    # Inicializar arreglo DP\n",
        "    # Si el precio = 0, entonces las monedas mínimas necesarias = 0 considerando el conjunto nulo. Entonces dp[i][0] = 0.\n",
        "    # Si no. de monedas = 0 entonces necesitaríamos infinitas monedas para llegar al precio. Entonces dp[0][j] = inf -1 (\"-1 para evitar el desbordamiento)\n",
        "\n",
        "    for j in range(price+1):\n",
        "        dp[0][j] = sys.maxsize -1\n",
        "    for i in range(n+1):\n",
        "        dp[i][0] = 0\n",
        "\n",
        "    # Se puede seleccionar una moneda solo si su valor es menor que el precio requerido\n",
        "    for i in range(1,n+1):\n",
        "        for j in range(1,price+1):\n",
        "            if coins[i - 1] <= j:\n",
        "                dp[i][j] = min(dp[i - 1][j], 1 + dp[i][j-coins[i-1]]);\n",
        "            else:\n",
        "                dp[i][j] = dp[i - 1][j];\n",
        "\n",
        "    return dp[n][price]\n"
      ]
    },
    {
      "cell_type": "code",
      "source": [
        "if __name__ == '__main__':\n",
        "    coins = [1, 4, 6]\n",
        "    price = 8\n",
        "    ch = minCoins(coins,price)\n",
        "    print(f'Número mínimo de monedas requeridas : {ch}')"
      ],
      "metadata": {
        "colab": {
          "base_uri": "https://localhost:8080/"
        },
        "id": "GIhloTatvnVT",
        "outputId": "1b94a004-e7c8-4a08-a48d-9241e922d625"
      },
      "execution_count": 2,
      "outputs": [
        {
          "output_type": "stream",
          "name": "stdout",
          "text": [
            "Número mínimo de monedas requeridas : 2\n"
          ]
        }
      ]
    }
  ]
}