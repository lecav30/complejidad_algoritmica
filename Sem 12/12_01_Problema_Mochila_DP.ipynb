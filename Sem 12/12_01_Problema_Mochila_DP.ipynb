{
  "nbformat": 4,
  "nbformat_minor": 0,
  "metadata": {
    "colab": {
      "provenance": []
    },
    "kernelspec": {
      "name": "python3",
      "display_name": "Python 3"
    },
    "language_info": {
      "name": "python"
    }
  },
  "cells": [
    {
      "cell_type": "markdown",
      "source": [
        "# **Problema de la Mochila - Enfoque Programación Dinámica**"
      ],
      "metadata": {
        "id": "uaJvh65CmN5E"
      }
    },
    {
      "cell_type": "code",
      "execution_count": 8,
      "metadata": {
        "id": "isWpuh9tkjhU"
      },
      "outputs": [],
      "source": [
        "'''\n",
        "Capacidad de la mochila = W\n",
        "Lista de pesos : wt = []\n",
        "Lista de precios : pr = []\n",
        "No. de productos = N\n",
        "'''\n",
        "def kProfit(W,N,wt,pr,dp):\n",
        "    # Condicion Base\n",
        "    # Si ya no quedan elementos o se alcanzo el peso máximo\n",
        "    if N==0 or W==0:\n",
        "        return 0\n",
        "    # Si el subproblema se resolvió previamente, lo devolvemos\n",
        "    if dp[N][W] is not None:\n",
        "        return dp[N][W]\n",
        "    if wt[N-1] <= W:\n",
        "        dp[N][W] = max(pr[N-1]+kProfit(W-wt[N-1],N-1,wt,pr,dp), kProfit(W,N-1,wt,pr,dp))\n",
        "        return dp[N][W]\n",
        "    else:\n",
        "        dp[N][W] = kProfit(W,N-1,wt,pr,dp)\n",
        "\n",
        "        #print(dp)\n",
        "        return dp[N][W]\n"
      ]
    },
    {
      "cell_type": "code",
      "source": [
        "if __name__ == '__main__':\n",
        "    W = 11\n",
        "    wt = [1, 2, 5, 6, 7]\n",
        "    pr = [1, 6, 18, 22, 28]\n",
        "    N = len(pr)\n",
        "    # Definir arreglo DP\n",
        "    dp = [[None] * (W + 1) for _ in range(N + 1)]\n",
        "    # 12 cols 6 rows\n",
        "    print(len(dp)) # filas (cantidad de elementos)\n",
        "    print(len(dp[0])) # columnas (peso)\n",
        "    # Llame a kProfit para calcular el beneficio máximo\n",
        "    maxProfit = kProfit(W,N,wt,pr,dp)\n",
        "    print('Maximo beneficio es : ',maxProfit)"
      ],
      "metadata": {
        "colab": {
          "base_uri": "https://localhost:8080/"
        },
        "id": "NbXRIfdVk6id",
        "outputId": "99b5a99c-3478-48ac-f6e0-7f6505d62a83"
      },
      "execution_count": 9,
      "outputs": [
        {
          "output_type": "stream",
          "name": "stdout",
          "text": [
            "6\n",
            "12\n",
            "Maximo beneficio es :  40\n"
          ]
        }
      ]
    }
  ]
}